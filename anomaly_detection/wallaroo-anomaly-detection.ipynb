{
 "cells": [
  {
   "cell_type": "markdown",
   "metadata": {},
   "source": [
    "# Anomaly Detection\n",
    "\n",
    "Wallaroo provides multiple methods of analytical analysis to verify that the data received and generated during an inference is accurate.  This tutorial will demonstrate how to use anomaly detection to track the outputs from a sample model to verify that the model is outputting acceptable results.\n",
    "\n",
    "Anomaly detection allows organizations to set validation parameters.  A **validation** is added to a pipeline to test data based on a specific that triggers as an anomaly as part of the [InferenceResult](https://docs.wallaroo.ai/wallaroo-developer-guides/wallaroo-sdk-guides/wallaroo-sdk-essentials-guide/#inferenceresult-object) object.  \n",
    "\n",
    "This tutorial will follow this process in setting up a validation to a pipeline and examining the results:\n",
    "\n",
    "1. Create a workspace and upload the sample model.\n",
    "1. Establish a pipeline and add the model as a step.\n",
    "1. Add a validation to the pipeline.\n",
    "1. Perform inferences and display anomalies through the InferenceResult object and the pipeline log files.\n",
    "\n",
    "This tutorial provides the following:\n",
    "\n",
    "* Housing model: `./models/housing.zip` - a pretrained model used to determine standard home prices.\n",
    "* Test Data:  `./data` - sample data.\n",
    "\n",
    "This demonstration assumes that a Wallaroo instance has been installed."
   ]
  },
  {
   "cell_type": "markdown",
   "metadata": {},
   "source": [
    "## Steps\n",
    "\n",
    "### Import libraries\n",
    "\n",
    "The first step is to import the libraries needed for this notebook."
   ]
  },
  {
   "cell_type": "code",
   "execution_count": 24,
   "metadata": {},
   "outputs": [],
   "source": [
    "import wallaroo\n",
    "from wallaroo.object import EntityNotFoundError\n",
    "import os"
   ]
  },
  {
   "cell_type": "markdown",
   "metadata": {},
   "source": [
    "### Connect to Wallaroo Instance\n",
    "\n",
    "The following command will create a connection to the Wallaroo instance and store it in the variable `wl`."
   ]
  },
  {
   "cell_type": "code",
   "execution_count": 25,
   "metadata": {},
   "outputs": [],
   "source": [
    "wl = wallaroo.Client()"
   ]
  },
  {
   "cell_type": "markdown",
   "metadata": {},
   "source": [
    "### Create Workspace\n",
    "\n",
    "We will create a workspace to manage our pipeline and models.  The following variables will set the name of our sample workspace then set it as the current workspace for all other commands.\n",
    "\n",
    "\n",
    "pipeline_name = 'abtestpipeline'\n",
    "model_name = 'alohamodel'"
   ]
  },
  {
   "cell_type": "code",
   "execution_count": null,
   "metadata": {},
   "outputs": [],
   "source": [
    "workspace_name = 'anomalyexample'\n",
    "\n",
    "def get_workspace(name):\n",
    "    workspace = None\n",
    "    for ws in wl.list_workspaces():\n",
    "        if ws.name() == name:\n",
    "            workspace= ws\n",
    "    if(workspace == None):\n",
    "        workspace = wl.create_workspace(name)\n",
    "    return workspace\n",
    "\n",
    "workspace = get_workspace(workspace_name)\n",
    "\n",
    "wl.set_current_workspace(workspace)"
   ]
  },
  {
   "cell_type": "markdown",
   "metadata": {},
   "source": [
    "## Upload The Model\n",
    "\n",
    "The housing model will be uploaded for use in our pipeline."
   ]
  },
  {
   "cell_type": "code",
   "execution_count": 26,
   "metadata": {},
   "outputs": [],
   "source": [
    "housing_model = wl.upload_model(\"anomaly-housing-model\", \"./models/housing.zip\").configure(\"tensorflow\")"
   ]
  },
  {
   "cell_type": "markdown",
   "metadata": {},
   "source": [
    "### Build the Pipeline and Validation\n",
    "\n",
    "The pipeline `anomaly-housing-pipeline` will be created and the `anomaly-housing-model` added as a step.  A validation will be created for outputs greater 100.0 - interpreted as houses with a value greater than 100 million dollars - with the `add_validation` method.  When houses greater than this value are detected, the InferenceObject will flag it in the `check_failures` array with the message \"price too high\".\n",
    "\n",
    "Once complete, the pipeline will be deployed and ready for inferences.\n"
   ]
  },
  {
   "cell_type": "code",
   "execution_count": 27,
   "metadata": {},
   "outputs": [
    {
     "name": "stdout",
     "output_type": "stream",
     "text": [
      "Waiting for deployment - this will take up to 45s ...... ok\n"
     ]
    }
   ],
   "source": [
    "p = wl.build_pipeline('anomaly-housing-pipeline')\n",
    "p = p.add_model_step(housing_model)\n",
    "p = p.add_validation('price too high', housing_model.outputs[0][0] < 100.0)\n",
    "pipeline = p.deploy()\n"
   ]
  },
  {
   "cell_type": "markdown",
   "metadata": {},
   "source": [
    "### Testing\n",
    "\n",
    "Two data points will be fed used for an inference.\n",
    "\n",
    "The first, labeled `response_normal`, will not trigger an anomaly detection.  The other, labeled `response_trigger`, will trigger the anomaly detection, which will be shown in the InferenceResult `check_failures` array.  \n",
    "\n",
    "Note that multiple validations can be created to allow for multiple anomalies detected."
   ]
  },
  {
   "cell_type": "code",
   "execution_count": 28,
   "metadata": {},
   "outputs": [
    {
     "name": "stdout",
     "output_type": "stream",
     "text": [
      "\n",
      "\n",
      "[InferenceResult({'check_failures': [],\n",
      " 'elapsed': 15045447,\n",
      " 'model_name': 'anomaly-housing',\n",
      " 'model_version': 'c3cf1577-6666-48d3-b85c-5d4a6e6567ea',\n",
      " 'original_data': {'dense_16_input': [[0.02675675,\n",
      "                                       0.0,\n",
      "                                       0.02677953,\n",
      "                                       0.0,\n",
      "                                       0.0010046,\n",
      "                                       0.00951931,\n",
      "                                       0.14795322,\n",
      "                                       0.0027145,\n",
      "                                       0.03550877,\n",
      "                                       0.98536841,\n",
      "                                       0.02988655,\n",
      "                                       0.04031725,\n",
      "                                       0.04298041]]},\n",
      " 'outputs': [{'Float': {'data': [10.349835395812988], 'dim': [1, 1], 'v': 1}}],\n",
      " 'pipeline_name': 'anomaly-housing-model',\n",
      " 'time': 1651257033662})]\n"
     ]
    }
   ],
   "source": [
    "test_input = {\"dense_16_input\":[[0.02675675, 0.0, 0.02677953, 0.0, 0.0010046, 0.00951931, 0.14795322, 0.0027145,  0.03550877, 0.98536841, 0.02988655, 0.04031725, 0.04298041]]}\n",
    "response_normal = pipeline.infer(test_input)\n",
    "print(\"\\n\")\n",
    "print(response_normal)"
   ]
  },
  {
   "cell_type": "code",
   "execution_count": 29,
   "metadata": {},
   "outputs": [
    {
     "name": "stdout",
     "output_type": "stream",
     "text": [
      "\n",
      "\n",
      "[InferenceResult({'check_failures': [{'False': {'expr': 'anomaly-housing.outputs[0][0] < 100'}}],\n",
      " 'elapsed': 15110549,\n",
      " 'model_name': 'anomaly-housing',\n",
      " 'model_version': 'c3cf1577-6666-48d3-b85c-5d4a6e6567ea',\n",
      " 'original_data': {'dense_16_input': [[0.02675675,\n",
      "                                       0.0,\n",
      "                                       0.02677953,\n",
      "                                       0.0,\n",
      "                                       0.0010046,\n",
      "                                       0.00951931,\n",
      "                                       0.14795322,\n",
      "                                       0.0027145,\n",
      "                                       2,\n",
      "                                       0.98536841,\n",
      "                                       0.02988655,\n",
      "                                       0.04031725,\n",
      "                                       0.04298041]]},\n",
      " 'outputs': [{'Float': {'data': [350.46990966796875], 'dim': [1, 1], 'v': 1}}],\n",
      " 'pipeline_name': 'anomaly-housing-model',\n",
      " 'time': 1651257043312})]\n"
     ]
    }
   ],
   "source": [
    "test_input = {\"dense_16_input\":[[0.02675675, 0.0, 0.02677953, 0.0, 0.0010046, 0.00951931, 0.14795322, 0.0027145,  2, 0.98536841, 0.02988655, 0.04031725, 0.04298041]]}\n",
    "response_trigger = pipeline.infer(test_input)\n",
    "print(\"\\n\")\n",
    "print(response_trigger)"
   ]
  },
  {
   "cell_type": "markdown",
   "metadata": {},
   "source": [
    "### Multiple Tests\n",
    "\n",
    "With the initial tests run, we can run the inferences against a larger set of data and identify anomalies that appear versus the expected results.  These will be displayed into a graph so we can see where the anomalies occur.  In this case, with the house that came in at $350 million - outside of our validation range."
   ]
  },
  {
   "cell_type": "code",
   "execution_count": 30,
   "metadata": {},
   "outputs": [],
   "source": [
    "from data import test_data_anomaly\n",
    "responses_anomaly =[]\n",
    "for nth in range(400):\n",
    "    responses_anomaly.extend(pipeline.infer(test_data_anomaly.data[nth]))"
   ]
  },
  {
   "cell_type": "code",
   "execution_count": 31,
   "metadata": {},
   "outputs": [],
   "source": [
    "import pandas as pd\n",
    "import matplotlib.pyplot as plt\n",
    "%matplotlib inline"
   ]
  },
  {
   "cell_type": "code",
   "execution_count": 32,
   "metadata": {},
   "outputs": [
    {
     "data": {
      "image/png": "[encoded data removed]",
      "text/plain": [
       "<Figure size 864x576 with 1 Axes>"
      ]
     },
     "metadata": {
      "needs_background": "light"
     },
     "output_type": "display_data"
    }
   ],
   "source": [
    "houseprices = [r.raw['outputs'][0]['Float']['data'][0] for  r in responses_anomaly]\n",
    "hdf = pd.DataFrame({'sell_price': houseprices})\n",
    "hdf.hist(column='sell_price', bins=50, grid=False, figsize=(12,8))\n",
    "plt.axvline(x=100, color='gray', ls='--')\n",
    "_ = plt.title('Distribution of predicted home sales price')"
   ]
  },
  {
   "cell_type": "markdown",
   "metadata": {},
   "source": [
    "### How To Check For Anomalies\n",
    "\n",
    "There are two primary methods for detecting anomalies with Wallaroo:\n",
    "\n",
    "* As demonstrated in the example above, from the `InferenceObject` `check_failures` array in the output of each inference to see if anything has happened.\n",
    "* The other method is to view pipeline's logs and see what anomalies have been detected.\n",
    "\n",
    "In the following example, the outputs from the `responses_anomaly` array generated earlier from the set of inferences will be displayed.  These are a set of `InferenceResults` objects and the `data` attribute."
   ]
  },
  {
   "cell_type": "code",
   "execution_count": 33,
   "metadata": {},
   "outputs": [
    {
     "name": "stdout",
     "output_type": "stream",
     "text": [
      "[[0.0024118992380233097, 0.0, 0.01592968575097953, 0.0, 0.0010528465520917676, 0.0120196719757391, 0.17945358517995366, 0.007782649540917751, 0.007827855405886746, 0.6007879024018078, 0.04109624088090542, 0.7767189526491124, 0.03663436329954997]]\n",
      "Homes sell price is :  19.22847557067871\n",
      "-----------------------------------\n",
      "[[4.0792305033858854e-05, 0.15458728366069616, 0.003803784070681371, 0.0, 0.0007776208814447139, 0.01425950580191391, 0.0294184285269446, 0.011748633558212906, 0.0037475705129865738, 0.6520772692596637, 0.02754464327045131, 0.7408572147123157, 0.005827472147694121]]\n",
      "Homes sell price is :  35.99686813354492\n",
      "-----------------------------------\n",
      "[[0.006345055280061724, 0.0, 0.02344637451341859, 0.0, 0.0008173846584512227, 0.006438037642634828, 0.12953798073711928, 0.0017260935933221145, 0.031089115376908623, 0.8627229517092144, 0.026166672108898097, 0.4864410252640302, 0.004222938172030088]]\n",
      "Homes sell price is :  44.759674072265625\n",
      "-----------------------------------\n",
      "[[8.65407329905381e-05, 0.0, 0.011339217475912466, 0.0, 0.0011251824662995992, 0.013189760289418796, 0.07537630114045858, 0.013076805078724251, 0.010924101614559216, 0.48939975233225286, 0.04413337052281923, 0.8671551861637105, 0.01750041078652386]]\n",
      "Homes sell price is :  24.95134735107422\n",
      "-----------------------------------\n",
      "[[0.004743435433585173, 0.0, 0.02324766425800792, 0.0, 0.0009157781555778812, 0.008189342945251851, 0.1135410784755746, 0.0032971866804824383, 0.030825632165314372, 0.8554112925874738, 0.025944907072472927, 0.5027532166028752, 0.01881647963424398]]\n",
      "Homes sell price is :  19.4694766998291\n",
      "-----------------------------------\n",
      "[[0.0005777121656926999, 0.0, 0.015016609547802637, 0.0, 0.001003142074128279, 0.011614472533720523, 0.1511834809487447, 0.00960635709161667, 0.010173854707183358, 0.5839792601923248, 0.03988151045215877, 0.7958599583241254, 0.023888210852466528]]\n",
      "Homes sell price is :  21.950149536132812\n",
      "-----------------------------------\n",
      "[[0.01173326366940826, 0.0, 0.023116535330965804, 0.0, 0.0008940096536837603, 0.0070703392039904245, 0.12771566481196578, 0.002018418366688307, 0.030651759554871785, 0.850586327647692, 0.025798564292017084, 0.5069034736386921, 0.030140896895623923]]\n",
      "Homes sell price is :  14.365181922912598\n",
      "-----------------------------------\n",
      "[[0.007118536922141512, 0.0, 0.03401692608374354, 0.0, 0.0015132146383524325, 0.00949972174800356, 0.17373302392106, 0.002452762831717525, 0.008686651196052999, 0.7001440864018718, 0.025538754516395815, 0.6895463719426871, 0.04590026491994405]]\n",
      "Homes sell price is :  16.472347259521484\n",
      "-----------------------------------\n",
      "[[0.004794894842799531, 0.0, 0.04356466950744289, 0.0, 0.0019379380562299672, 0.01252206128640902, 0.22249575846497904, 0.0033743706728798714, 0.01112478792324895, 0.8966579066138655, 0.032706876494351916, 0.37661857035367, 0.037045543784419]]\n",
      "Homes sell price is :  14.951493263244629\n",
      "-----------------------------------\n",
      "[[0.0027119243359846716, 0.0, 0.03645005876971243, 0.0, 0.0010390514697259277, 0.008357370715632102, 0.16651465860992432, 0.0023968119960312505, 0.006660586344396972, 0.7276690581253693, 0.03530110762530395, 0.6608966800227896, 0.05729769402767495]]\n",
      "Homes sell price is :  15.382113456726074\n",
      "-----------------------------------\n"
     ]
    }
   ],
   "source": [
    "for r in responses_anomaly[0:10]:\n",
    "    print(r.raw['original_data']['dense_16_input'])\n",
    "    print(\"Homes sell price is : \", r.raw['outputs'][0]['Float']['data'][0])\n",
    "    print(\"-----------------------------------\")"
   ]
  },
  {
   "cell_type": "markdown",
   "metadata": {},
   "source": [
    "#### View Logs\n",
    "\n",
    "The other method of viewing anomalies is through the pipeline's logs.  The flag `valid=False` will show any validations that were flagged as `False` - in this case, houses that were above 100 million in value."
   ]
  },
  {
   "cell_type": "code",
   "execution_count": 34,
   "metadata": {},
   "outputs": [
    {
     "data": {
      "text/html": [
       "\n",
       "        <table>\n",
       "            <tr>\n",
       "                <th>Timestamp</th>\n",
       "                <th>Output</th>\n",
       "                <th>Input</th>\n",
       "                <th>Anomalies</th>\n",
       "            </tr>\n",
       "            \n",
       "        <tr style=\"color: red;\">\n",
       "            <td>2022-29-Apr 01:18:57</td>\n",
       "            <td>[array([[350.46990967]])]</td>\n",
       "            <td>[[0.02675675, 0.0, 0.02677953, 0.0, 0.0010046, 0.00951931, 0.14795322, 0.0027145, 2, 0.98536841, 0.02988655, 0.04031725, 0.04298041]]</td>\n",
       "            <td>1</td>\n",
       "        </tr>\n",
       "        \n",
       "\n",
       "        <tr style=\"color: red;\">\n",
       "            <td>2022-29-Apr 01:18:58</td>\n",
       "            <td>[array([[350.46990967]])]</td>\n",
       "            <td>[[0.02675675, 0.0, 0.02677953, 0.0, 0.0010046, 0.00951931, 0.14795322, 0.0027145, 2, 0.98536841, 0.02988655, 0.04031725, 0.04298041]]</td>\n",
       "            <td>1</td>\n",
       "        </tr>\n",
       "        \n",
       "\n",
       "        <tr style=\"color: red;\">\n",
       "            <td>2022-29-Apr 15:01:45</td>\n",
       "            <td>[array([[350.46990967]])]</td>\n",
       "            <td>[[0.02675675, 0.0, 0.02677953, 0.0, 0.0010046, 0.00951931, 0.14795322, 0.0027145, 2, 0.98536841, 0.02988655, 0.04031725, 0.04298041]]</td>\n",
       "            <td>1</td>\n",
       "        </tr>\n",
       "        \n",
       "\n",
       "        <tr style=\"color: red;\">\n",
       "            <td>2022-29-Apr 15:01:50</td>\n",
       "            <td>[array([[350.46990967]])]</td>\n",
       "            <td>[[0.02675675, 0.0, 0.02677953, 0.0, 0.0010046, 0.00951931, 0.14795322, 0.0027145, 2, 0.98536841, 0.02988655, 0.04031725, 0.04298041]]</td>\n",
       "            <td>1</td>\n",
       "        </tr>\n",
       "        \n",
       "\n",
       "        <tr style=\"color: red;\">\n",
       "            <td>2022-29-Apr 18:30:43</td>\n",
       "            <td>[array([[350.46990967]])]</td>\n",
       "            <td>[[0.02675675, 0.0, 0.02677953, 0.0, 0.0010046, 0.00951931, 0.14795322, 0.0027145, 2, 0.98536841, 0.02988655, 0.04031725, 0.04298041]]</td>\n",
       "            <td>1</td>\n",
       "        </tr>\n",
       "        \n",
       "\n",
       "        <tr style=\"color: red;\">\n",
       "            <td>2022-29-Apr 18:31:36</td>\n",
       "            <td>[array([[350.46990967]])]</td>\n",
       "            <td>[[0.02675675, 0.0, 0.02677953, 0.0, 0.0010046, 0.00951931, 0.14795322, 0.0027145, 2, 0.98536841, 0.02988655, 0.04031725, 0.04298041]]</td>\n",
       "            <td>1</td>\n",
       "        </tr>\n",
       "        \n",
       "        </table>\n",
       "        "
      ],
      "text/plain": [
       "[<wallaroo.logs.LogEntry at 0x7f609220ca30>,\n",
       " <wallaroo.logs.LogEntry at 0x7f609225fc40>,\n",
       " <wallaroo.logs.LogEntry at 0x7f60952821c0>,\n",
       " <wallaroo.logs.LogEntry at 0x7f6095282eb0>,\n",
       " <wallaroo.logs.LogEntry at 0x7f60952826a0>,\n",
       " <wallaroo.logs.LogEntry at 0x7f60952826d0>]"
      ]
     },
     "execution_count": 34,
     "metadata": {},
     "output_type": "execute_result"
    }
   ],
   "source": [
    "pipeline.logs(valid=False)\n"
   ]
  },
  {
   "cell_type": "markdown",
   "metadata": {},
   "source": [
    "### Undeploy The Pipeline\n",
    "\n",
    "With the example complete, we undeploy the pipeline to return the resources back to the Wallaroo instance."
   ]
  },
  {
   "cell_type": "code",
   "execution_count": null,
   "metadata": {},
   "outputs": [],
   "source": [
    "pipeline.undeploy()"
   ]
  }
 ],
 "metadata": {
  "kernelspec": {
   "display_name": "Python 3.10.7 64-bit",
   "language": "python",
   "name": "python3"
  },
  "language_info": {
   "codemirror_mode": {
    "name": "ipython",
    "version": 3
   },
   "file_extension": ".py",
   "mimetype": "text/x-python",
   "name": "python",
   "nbconvert_exporter": "python",
   "pygments_lexer": "ipython3",
   "version": "3.10.7"
  },
  "vscode": {
   "interpreter": {
    "hash": "b0fa6594d8f4cbf19f97940f81e996739fb7646882a419484c72d19e05852a7e"
   }
  }
 },
 "nbformat": 4,
 "nbformat_minor": 4
}
