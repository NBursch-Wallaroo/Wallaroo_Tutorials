{
 "cells": [
  {
   "cell_type": "markdown",
   "metadata": {},
   "source": [
    "This example shows how to create a user that can access your Wallaroo environment.\n",
    "\n",
    "## Prerequites\n",
    "\n",
    "* Wallaroo Enterprise or Community version installed on a Kubernetes Cloud environment\n",
    "* Authentication enabled"
   ]
  },
  {
   "cell_type": "markdown",
   "metadata": {},
   "source": [
    "Create the user, replacing the username, password, and email as necessary for your environment.\n",
    "\n",
    "The `e2elib` `create_user` command connects with the Wallaroo Keycloak service and adds the user.  The command has the following format:\n",
    "\n",
    "`create_user(\"{username}\", \"{password}\", \"user email address\")`\n",
    "\n",
    "The following conditions must be met:\n",
    "\n",
    "* `username` and  `user email address` are both unique."
   ]
  },
  {
   "cell_type": "code",
   "execution_count": null,
   "metadata": {},
   "outputs": [],
   "source": [
    "import e2elib\n",
    "\n",
    "x=e2elib.Keycloak(\"keycloak\", \"8080\", \"admin\",\"admin\")\n",
    "x.get_token()\n",
    "x.create_user(\"steve\", \"helloworld\", 'steve@ex.co')"
   ]
  },
  {
   "cell_type": "markdown",
   "metadata": {},
   "source": [
    "Set the file `creds.json` into the root directory with the following information, replacing the username, password, and email details from above.\n",
    "\n",
    "```json\n",
    "{\"username\": \"steve\", \"password\": \"helloworld\", \"email\": \"steve@ex.co\"}\n",
    "```"
   ]
  },
  {
   "cell_type": "markdown",
   "metadata": {},
   "source": [
    "Now you can login with the following:"
   ]
  },
  {
   "cell_type": "code",
   "execution_count": null,
   "metadata": {},
   "outputs": [],
   "source": [
    "import wallaroo\n",
    "import os\n",
    "\n",
    "os.environ[\"WALLAROO_SDK_CREDENTIALS\"] = 'creds.json'\n",
    "wl = wallaroo.Client(auth_type=\"user_password\")"
   ]
  }
 ],
 "metadata": {
  "kernelspec": {
   "display_name": "Python 3",
   "language": "python",
   "name": "python3"
  },
  "language_info": {
   "codemirror_mode": {
    "name": "ipython",
    "version": 3
   },
   "file_extension": ".py",
   "mimetype": "text/x-python",
   "name": "python",
   "nbconvert_exporter": "python",
   "pygments_lexer": "ipython3",
   "version": "3.8.6"
  }
 },
 "nbformat": 4,
 "nbformat_minor": 4
}
