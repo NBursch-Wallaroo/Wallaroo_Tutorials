{
 "cells": [
  {
   "cell_type": "markdown",
   "metadata": {},
   "source": [
    "This example shows how to create a user that can access your Wallaroo environment.\n",
    "\n",
    "## Prerequites\n",
    "\n",
    "* Wallaroo Enterprise or Community version installed on a Kubernetes Cloud environment\n",
    "* Authentication enabled"
   ]
  },
  {
   "cell_type": "markdown",
   "metadata": {},
   "source": [
    "Create the user, replacing the username, password, and email as necessary for your environment.\n",
    "\n",
    "The `e2elib` `create_user` command connects with the Wallaroo Keycloak service and adds the user.  The command has the following format:\n",
    "\n",
    "`create_user(\"{username}\", \"{password}\", \"user email address\")`\n",
    "\n",
    "The following conditions must be met:\n",
    "\n",
    "* `username` and  `user email address` are both unique."
   ]
  },
  {
   "cell_type": "code",
   "execution_count": null,
   "metadata": {},
   "outputs": [],
   "source": [
    "import e2elib\n",
    "\n",
    "x=e2elib.Keycloak(\"keycloak\", \"8080\", \"admin\",\"admin\")\n",
    "x.get_token()\n",
    "x.create_user(\"steve\", \"helloworld\", 'steve@ex.co')"
   ]
  },
  {
   "cell_type": "markdown",
   "metadata": {},
   "source": [
    "## Open a Connection to Wallaroo\n",
    "\n",
    "Now you can login with the Jupyter Hub interface build into Wallaroo.  Included is the `wallaroo` library.  A connection is made through the `wallaroo.Client()` command, which provides a URL to grant the SDK permission to your specific Wallaroo environment.  When displayed, enter the URL into a browser and confirm permissions.  Store the connection into a variable that can be referenced later."
   ]
  },
  {
   "cell_type": "code",
   "execution_count": null,
   "metadata": {},
   "outputs": [],
   "source": [
    "import wallaroo\n",
    "\n",
    "wl = wallaroo.Client()"
   ]
  }
 ],
 "metadata": {
  "kernelspec": {
   "display_name": "Python 3",
   "language": "python",
   "name": "python3"
  },
  "language_info": {
   "codemirror_mode": {
    "name": "ipython",
    "version": 3
   },
   "file_extension": ".py",
   "mimetype": "text/x-python",
   "name": "python",
   "nbconvert_exporter": "python",
   "pygments_lexer": "ipython3",
   "version": "3.8.6"
  }
 },
 "nbformat": 4,
 "nbformat_minor": 4
}
