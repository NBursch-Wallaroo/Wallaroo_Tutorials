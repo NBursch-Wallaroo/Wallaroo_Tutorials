{
 "cells": [
  {
   "cell_type": "markdown",
   "metadata": {},
   "source": [
    "## Auto-Conversion And Upload Tutorial\n",
    "\n",
    "Machine Learning (ML) models can be converted and uploaded into Wallaroo workspace using the Wallaroo Client `convert_model(path, source_type, conversion_arguments)` method.  This conversion process transforms the model into an open format that can be run across different framework at compiled C-language speeds.\n",
    "\n",
    "The three input parameters are:\n",
    "\n",
    "* `path` (STRING):  The path to the ML model file.\n",
    "* `source_type` (ModelConversionSource): The type of ML model to be converted.  As of this time Wallaroo auto-conversion supports the following source types and their associated `ModelConversionSource`:\n",
    "  * **sklearn**: `ModelConversionSource.SKLEARN`\n",
    "  * **xgboost**: `ModelConversionSource.XGBOOST`\n",
    "* `conversion_arguments`:  The arguments for the conversion:\n",
    "  * `name`: The name of the model being converted.\n",
    "  * `comment`: Any comments for the model.\n",
    "  * `number_of_columns`: The number of columns the model was trained for.\n",
    "  * `input_type`: The ModelConversationInputType, typically `Float` or `Double` depending on the model.\n",
    "  \n",
    "The following tutorial demonstrates how to convert a **sklearn** Linear Model and a **XGBoost** Regression Model, and upload them into a Wallaroo Workspace.  The following is provided for the tutorial:\n",
    "\n",
    "* `sklearn-linear-model.pickle`: A sklearn linear model.  An example of training the model is provided in the Jupyter Notebook `sklearn-linear-model-example.ipynb`.  It has 25 columns.\n",
    "* `xgb_reg.pickle`:  A XGBoost regression model.  An example of training the model is provided in the Jupyter Notebook `xgboost-regression-model-example.ipynb`.  It has 25 columns."
   ]
  },
  {
   "cell_type": "markdown",
   "metadata": {},
   "source": [
    "## Steps\n",
    "\n",
    "### Prerequisites\n",
    "\n",
    "Before starting, the following must be available:\n",
    "\n",
    "* The model to upload into a workspace.\n",
    "* The number of columns the model was trained for."
   ]
  },
  {
   "cell_type": "markdown",
   "metadata": {},
   "source": [
    "### Import Libraries\n",
    "\n",
    "Import the libraries that will be used for the auto-conversion process."
   ]
  },
  {
   "cell_type": "code",
   "execution_count": 1,
   "metadata": {},
   "outputs": [],
   "source": [
    "import pickle\n",
    "import json\n",
    "\n",
    "import wallaroo\n",
    "\n",
    "from wallaroo.ModelConversion import ConvertSKLearnArguments, ConvertXGBoostArgs, ModelConversionSource, ModelConversionInputType"
   ]
  },
  {
   "cell_type": "markdown",
   "metadata": {},
   "source": [
    "The following code is used to either connect to an existing workspace or to create a new one.  For more details on working with workspaces, see the [Wallaroo Workspace Management Guide](https://docs.wallaroo.ai/wallaroo-operations-guide/wallaroo-workspace-management/)."
   ]
  },
  {
   "cell_type": "code",
   "execution_count": 2,
   "metadata": {},
   "outputs": [],
   "source": [
    "def get_workspace(name):\n",
    "    wl = wallaroo.Client()\n",
    "    for ws in wl.list_workspaces():\n",
    "        if ws.name() == name:\n",
    "            return ws\n",
    "    return None\n",
    "\n",
    "def get_or_create_workspace(name):\n",
    "    wl = wallaroo.Client()\n",
    "    ws = get_workspace(name)\n",
    "    if ws is None:\n",
    "        ws = wl.create_workspace(name)\n",
    "    return ws"
   ]
  },
  {
   "cell_type": "markdown",
   "metadata": {},
   "source": [
    "### Connect to Wallaroo\n",
    "\n",
    "Connect to your Wallaroo instance."
   ]
  },
  {
   "cell_type": "code",
   "execution_count": 3,
   "metadata": {},
   "outputs": [],
   "source": [
    "wl = wallaroo.Client()"
   ]
  },
  {
   "cell_type": "markdown",
   "metadata": {},
   "source": [
    "### Set the Workspace\n",
    "\n",
    "We'll connect or create the workspace `testautoconversion` and use it for our model testing."
   ]
  },
  {
   "cell_type": "code",
   "execution_count": 4,
   "metadata": {},
   "outputs": [
    {
     "data": {
      "text/plain": [
       "{'name': 'testautoconversion', 'id': 15, 'archived': False, 'created_by': '8b67b522-a5c5-4984-a745-e13a4cc7b455', 'created_at': '2022-06-23T19:13:50.507332+00:00', 'models': [], 'pipelines': []}"
      ]
     },
     "execution_count": 4,
     "metadata": {},
     "output_type": "execute_result"
    }
   ],
   "source": [
    "workspace_name = \"testautoconversion\"\n",
    "_ = wl.set_current_workspace(get_or_create_workspace(workspace_name))\n",
    "wl.get_current_workspace()"
   ]
  },
  {
   "cell_type": "markdown",
   "metadata": {},
   "source": [
    "### Set the Model Conversion Arguments\n",
    "\n",
    "We'll create two different configurations, one for each of our models:\n",
    "\n",
    "* `sklearn_model_conversion_args`: Used for our sklearn model.\n",
    "* `xgboost_model_converstion_args`: Used for our XGBoost model."
   ]
  },
  {
   "cell_type": "code",
   "execution_count": 5,
   "metadata": {},
   "outputs": [],
   "source": [
    "# The number of columns\n",
    "NF=25\n",
    "\n",
    "sklearn_model_conversion_args = ConvertSKLearnArguments(\n",
    "    name=\"lm-test\",\n",
    "    comment=\"test linear regression\",\n",
    "    number_of_columns=NF,\n",
    "    input_type=ModelConversionInputType.Double\n",
    ")\n",
    "sklearn_model_conversion_type = ModelConversionSource.SKLEARN\n",
    "\n",
    "xgboost_model_conversion_args = ConvertXGBoostArgs(\n",
    "    name=\"xgb-test-reg\",\n",
    "    comment=\"xgboost regression model test\",\n",
    "    number_of_columns=NF,\n",
    "    input_type=ModelConversionInputType.Float\n",
    ")\n",
    "xgboost_model_conversion_type = ModelConversionSource.XGBOOST"
   ]
  },
  {
   "cell_type": "markdown",
   "metadata": {},
   "source": [
    "### Convert the Models\n",
    "\n",
    "The `convert_model` method converts the model using the arguments, and uploads it into the current workspace - in this case, `testconversion`.  Once complete, we can run `get_current_workspace` to verify that the models were uploaded."
   ]
  },
  {
   "cell_type": "code",
   "execution_count": 6,
   "metadata": {},
   "outputs": [
    {
     "data": {
      "text/plain": [
       "{'name': 'xgb-test-reg', 'version': '039b92e1-431c-41a6-9d76-96d3a88cb0a1', 'file_name': 'b125ecf9-c310-41ec-8715-20bc573d5303-converted.onnx', 'last_update_time': datetime.datetime(2022, 6, 23, 19, 32, 44, 859015, tzinfo=tzutc())}"
      ]
     },
     "execution_count": 6,
     "metadata": {},
     "output_type": "execute_result"
    }
   ],
   "source": [
    "# converts and uploads the sklearn model.\n",
    "wl.convert_model('lm.pickle', sklearn_model_conversion_type, sklearn_model_conversion_args)\n",
    "\n",
    "# converts and uploads the XGBoost model.\n",
    "wl.convert_model('xgb_reg.pickle', xgboost_model_conversion_type, xgboost_model_conversion_args)"
   ]
  },
  {
   "cell_type": "code",
   "execution_count": 7,
   "metadata": {},
   "outputs": [
    {
     "data": {
      "text/plain": [
       "{'name': 'testautoconversion', 'id': 15, 'archived': False, 'created_by': '8b67b522-a5c5-4984-a745-e13a4cc7b455', 'created_at': '2022-06-23T19:13:50.507332+00:00', 'models': [{'name': 'lm-test', 'version': '32153485-e6f4-4cb0-8fb6-6a3d660aecb0', 'file_name': '3e7a1df1-184f-416e-b3e4-267a6f078ad4-converted.onnx', 'last_update_time': datetime.datetime(2022, 6, 23, 19, 32, 43, 914314, tzinfo=tzutc())}, {'name': 'xgb-test-reg', 'version': '039b92e1-431c-41a6-9d76-96d3a88cb0a1', 'file_name': 'b125ecf9-c310-41ec-8715-20bc573d5303-converted.onnx', 'last_update_time': datetime.datetime(2022, 6, 23, 19, 32, 44, 859015, tzinfo=tzutc())}], 'pipelines': []}"
      ]
     },
     "execution_count": 7,
     "metadata": {},
     "output_type": "execute_result"
    }
   ],
   "source": [
    "wl.get_current_workspace()"
   ]
  }
 ],
 "metadata": {
  "kernelspec": {
   "display_name": "Python 3",
   "language": "python",
   "name": "python3"
  },
  "language_info": {
   "codemirror_mode": {
    "name": "ipython",
    "version": 3
   },
   "file_extension": ".py",
   "mimetype": "text/x-python",
   "name": "python",
   "nbconvert_exporter": "python",
   "pygments_lexer": "ipython3",
   "version": "3.8.6"
  }
 },
 "nbformat": 4,
 "nbformat_minor": 4
}
