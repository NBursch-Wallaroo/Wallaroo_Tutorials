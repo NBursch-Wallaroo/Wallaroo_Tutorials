{
 "cells": [
  {
   "cell_type": "markdown",
   "metadata": {},
   "source": [
    "# A Multi Variable Linear Regression Model Notebook for the Wallaroo Platform\n",
    "<!-- A Comprehensive Tutorial for:\n",
    "1. Building a Linear Regression Model\n",
    "2. Deploying the Model into Wallaroo\n",
    "3. Using Wallaroo's Monitoring Capabilities to Analyze the Model. -->"
   ]
  },
  {
   "cell_type": "markdown",
   "metadata": {},
   "source": [
    "#### A Comprehensive Tutorial to predict the amount of people in the room using multiple variable\n",
    "### Table of Contents\n",
    "* [Building a Simple Linear Regression Model](#build)\n",
    "    * [Importing the Necessary Python Libraries](#pylib)\n",
    "    * [Importing the Data Set using Pandas](#data)\n",
    "    * [Pulling our Independent (x) and Dependent (y) Variables from the DataFrame](#variable)\n",
    "    * [Splitting the Data Set into Testing and Training Subsets](#test_train)\n",
    "    * [Creating the Linear Regression Model using Sklearn and Fitting our Training Data to the Model](#make_model)\n",
    "    * [Predicting the Room Occupancy from our Independent Variable Test Set](#predict)\n",
    "    * [Finding the Metrics to Analyze the Prediction](#metrics)\n",
    "    * [Plotting the Linear Regression](#plot)\n",
    "* [Deploying the Model into Wallaroo](#deploying)\n",
    "    * [Converting the Sklearn Model into Onnx for use on the Wallaroo Platform](#onnx)\n",
    "    * [Implementing into Wallaroo](#implement)\n",
    "    * [Creating a Pipeline and Uploading the Model](#pipeline)\n",
    "* [Using Wallaroo's Monitoring Capabilities to Analyze the Model.](#analyze)\n",
    "    * [--------](#blank)"
   ]
  },
  {
   "cell_type": "markdown",
   "metadata": {},
   "source": [
    "## Building a Multiple Variable Linear Regression Model <a class=\"anchor\" id=\"build\"></a>\n",
    "\n",
    "This model will be built from a data set of sensor values and the occupancy of the room the sensors are in.\n",
    "The goal is to use the sensor data to predict the room occupancy."
   ]
  },
  {
   "cell_type": "markdown",
   "metadata": {},
   "source": [
    "### Importing the Necessary Python Libraries <a class=\"anchor\" id=\"pylib\"></a>\n",
    "\n",
    "We will use a variety of libraries to implement the linear regression model\n",
    "#### These libraries include:\n",
    "- matplotlib\n",
    "- numpy\n",
    "- sklearn\n",
    "- pandas\n",
    "- onnx"
   ]
  },
  {
   "cell_type": "code",
   "execution_count": 4,
   "metadata": {},
   "outputs": [],
   "source": [
    "# Code Source: Us\n",
    "\n",
    "# Needed for data visualization\n",
    "import matplotlib.pyplot as plt\n",
    "\n",
    "# Needed for data tuning\n",
    "import numpy as np\n",
    "\n",
    "# Needed for creating the linear regression model\n",
    "from sklearn import linear_model\n",
    "\n",
    "# Needed for metrics of the model\n",
    "from sklearn.metrics import mean_squared_error, r2_score\n",
    "\n",
    "# Needed for csv importing\n",
    "import pandas as pd"
   ]
  },
  {
   "cell_type": "markdown",
   "metadata": {},
   "source": [
    "### Importing the Data Set using Pandas <a class=\"anchor\" id=\"data\"></a>\n",
    "The first step creating a linear regression model is read in the dataset using the pandas library  \n",
    "The `read_csv` method is responsible for reading in the data and `head()` method acesses the first few rows in the data  \n",
    "When picking a variable from the data we'll use `.corr()` to find which variable has the best correlation in the dataset"
   ]
  },
  {
   "cell_type": "code",
   "execution_count": 5,
   "metadata": {},
   "outputs": [
    {
     "data": {
      "text/html": [
       "<div>\n",
       "<style scoped>\n",
       "    .dataframe tbody tr th:only-of-type {\n",
       "        vertical-align: middle;\n",
       "    }\n",
       "\n",
       "    .dataframe tbody tr th {\n",
       "        vertical-align: top;\n",
       "    }\n",
       "\n",
       "    .dataframe thead th {\n",
       "        text-align: right;\n",
       "    }\n",
       "</style>\n",
       "<table border=\"1\" class=\"dataframe\">\n",
       "  <thead>\n",
       "    <tr style=\"text-align: right;\">\n",
       "      <th></th>\n",
       "      <th>Date</th>\n",
       "      <th>Time</th>\n",
       "      <th>S1_Temp</th>\n",
       "      <th>S2_Temp</th>\n",
       "      <th>S3_Temp</th>\n",
       "      <th>S4_Temp</th>\n",
       "      <th>S1_Light</th>\n",
       "      <th>S2_Light</th>\n",
       "      <th>S3_Light</th>\n",
       "      <th>S4_Light</th>\n",
       "      <th>S1_Sound</th>\n",
       "      <th>S2_Sound</th>\n",
       "      <th>S3_Sound</th>\n",
       "      <th>S4_Sound</th>\n",
       "      <th>S5_CO2</th>\n",
       "      <th>S5_CO2_Slope</th>\n",
       "      <th>S6_PIR</th>\n",
       "      <th>S7_PIR</th>\n",
       "      <th>Room_Occupancy_Count</th>\n",
       "    </tr>\n",
       "  </thead>\n",
       "  <tbody>\n",
       "    <tr>\n",
       "      <th>0</th>\n",
       "      <td>2017/12/22</td>\n",
       "      <td>10:49:41</td>\n",
       "      <td>24.94</td>\n",
       "      <td>24.75</td>\n",
       "      <td>24.56</td>\n",
       "      <td>25.38</td>\n",
       "      <td>121</td>\n",
       "      <td>34</td>\n",
       "      <td>53</td>\n",
       "      <td>40</td>\n",
       "      <td>0.08</td>\n",
       "      <td>0.19</td>\n",
       "      <td>0.06</td>\n",
       "      <td>0.06</td>\n",
       "      <td>390</td>\n",
       "      <td>0.769231</td>\n",
       "      <td>0</td>\n",
       "      <td>0</td>\n",
       "      <td>1</td>\n",
       "    </tr>\n",
       "    <tr>\n",
       "      <th>1</th>\n",
       "      <td>2017/12/22</td>\n",
       "      <td>10:50:12</td>\n",
       "      <td>24.94</td>\n",
       "      <td>24.75</td>\n",
       "      <td>24.56</td>\n",
       "      <td>25.44</td>\n",
       "      <td>121</td>\n",
       "      <td>33</td>\n",
       "      <td>53</td>\n",
       "      <td>40</td>\n",
       "      <td>0.93</td>\n",
       "      <td>0.05</td>\n",
       "      <td>0.06</td>\n",
       "      <td>0.06</td>\n",
       "      <td>390</td>\n",
       "      <td>0.646154</td>\n",
       "      <td>0</td>\n",
       "      <td>0</td>\n",
       "      <td>1</td>\n",
       "    </tr>\n",
       "    <tr>\n",
       "      <th>2</th>\n",
       "      <td>2017/12/22</td>\n",
       "      <td>10:50:42</td>\n",
       "      <td>25.00</td>\n",
       "      <td>24.75</td>\n",
       "      <td>24.50</td>\n",
       "      <td>25.44</td>\n",
       "      <td>121</td>\n",
       "      <td>34</td>\n",
       "      <td>53</td>\n",
       "      <td>40</td>\n",
       "      <td>0.43</td>\n",
       "      <td>0.11</td>\n",
       "      <td>0.08</td>\n",
       "      <td>0.06</td>\n",
       "      <td>390</td>\n",
       "      <td>0.519231</td>\n",
       "      <td>0</td>\n",
       "      <td>0</td>\n",
       "      <td>1</td>\n",
       "    </tr>\n",
       "    <tr>\n",
       "      <th>3</th>\n",
       "      <td>2017/12/22</td>\n",
       "      <td>10:51:13</td>\n",
       "      <td>25.00</td>\n",
       "      <td>24.75</td>\n",
       "      <td>24.56</td>\n",
       "      <td>25.44</td>\n",
       "      <td>121</td>\n",
       "      <td>34</td>\n",
       "      <td>53</td>\n",
       "      <td>40</td>\n",
       "      <td>0.41</td>\n",
       "      <td>0.10</td>\n",
       "      <td>0.10</td>\n",
       "      <td>0.09</td>\n",
       "      <td>390</td>\n",
       "      <td>0.388462</td>\n",
       "      <td>0</td>\n",
       "      <td>0</td>\n",
       "      <td>1</td>\n",
       "    </tr>\n",
       "    <tr>\n",
       "      <th>4</th>\n",
       "      <td>2017/12/22</td>\n",
       "      <td>10:51:44</td>\n",
       "      <td>25.00</td>\n",
       "      <td>24.75</td>\n",
       "      <td>24.56</td>\n",
       "      <td>25.44</td>\n",
       "      <td>121</td>\n",
       "      <td>34</td>\n",
       "      <td>54</td>\n",
       "      <td>40</td>\n",
       "      <td>0.18</td>\n",
       "      <td>0.06</td>\n",
       "      <td>0.06</td>\n",
       "      <td>0.06</td>\n",
       "      <td>390</td>\n",
       "      <td>0.253846</td>\n",
       "      <td>0</td>\n",
       "      <td>0</td>\n",
       "      <td>1</td>\n",
       "    </tr>\n",
       "  </tbody>\n",
       "</table>\n",
       "</div>"
      ],
      "text/plain": [
       "         Date      Time  S1_Temp  S2_Temp  S3_Temp  S4_Temp  S1_Light  \\\n",
       "0  2017/12/22  10:49:41    24.94    24.75    24.56    25.38       121   \n",
       "1  2017/12/22  10:50:12    24.94    24.75    24.56    25.44       121   \n",
       "2  2017/12/22  10:50:42    25.00    24.75    24.50    25.44       121   \n",
       "3  2017/12/22  10:51:13    25.00    24.75    24.56    25.44       121   \n",
       "4  2017/12/22  10:51:44    25.00    24.75    24.56    25.44       121   \n",
       "\n",
       "   S2_Light  S3_Light  S4_Light  S1_Sound  S2_Sound  S3_Sound  S4_Sound  \\\n",
       "0        34        53        40      0.08      0.19      0.06      0.06   \n",
       "1        33        53        40      0.93      0.05      0.06      0.06   \n",
       "2        34        53        40      0.43      0.11      0.08      0.06   \n",
       "3        34        53        40      0.41      0.10      0.10      0.09   \n",
       "4        34        54        40      0.18      0.06      0.06      0.06   \n",
       "\n",
       "   S5_CO2  S5_CO2_Slope  S6_PIR  S7_PIR  Room_Occupancy_Count  \n",
       "0     390      0.769231       0       0                     1  \n",
       "1     390      0.646154       0       0                     1  \n",
       "2     390      0.519231       0       0                     1  \n",
       "3     390      0.388462       0       0                     1  \n",
       "4     390      0.253846       0       0                     1  "
      ]
     },
     "execution_count": 5,
     "metadata": {},
     "output_type": "execute_result"
    }
   ],
   "source": [
    "# Reading and displaying the dataset\n",
    "data = pd.read_csv('Occupancy_Estimation.csv')\n",
    "data.head()"
   ]
  },
  {
   "cell_type": "code",
   "execution_count": 57,
   "metadata": {},
   "outputs": [
    {
     "data": {
      "text/html": [
       "<div>\n",
       "<style scoped>\n",
       "    .dataframe tbody tr th:only-of-type {\n",
       "        vertical-align: middle;\n",
       "    }\n",
       "\n",
       "    .dataframe tbody tr th {\n",
       "        vertical-align: top;\n",
       "    }\n",
       "\n",
       "    .dataframe thead th {\n",
       "        text-align: right;\n",
       "    }\n",
       "</style>\n",
       "<table border=\"1\" class=\"dataframe\">\n",
       "  <thead>\n",
       "    <tr style=\"text-align: right;\">\n",
       "      <th></th>\n",
       "      <th>S1_Temp</th>\n",
       "      <th>S2_Temp</th>\n",
       "      <th>S3_Temp</th>\n",
       "      <th>S4_Temp</th>\n",
       "      <th>S1_Light</th>\n",
       "      <th>S2_Light</th>\n",
       "      <th>S3_Light</th>\n",
       "      <th>S4_Light</th>\n",
       "      <th>S1_Sound</th>\n",
       "      <th>S2_Sound</th>\n",
       "      <th>S3_Sound</th>\n",
       "      <th>S4_Sound</th>\n",
       "      <th>S5_CO2</th>\n",
       "      <th>S5_CO2_Slope</th>\n",
       "      <th>S6_PIR</th>\n",
       "      <th>S7_PIR</th>\n",
       "      <th>Room_Occupancy_Count</th>\n",
       "    </tr>\n",
       "  </thead>\n",
       "  <tbody>\n",
       "    <tr>\n",
       "      <th>Room_Occupancy_Count</th>\n",
       "      <td>0.700868</td>\n",
       "      <td>0.671263</td>\n",
       "      <td>0.652047</td>\n",
       "      <td>0.526509</td>\n",
       "      <td>0.849058</td>\n",
       "      <td>0.788764</td>\n",
       "      <td>0.793081</td>\n",
       "      <td>0.355715</td>\n",
       "      <td>0.573748</td>\n",
       "      <td>0.557853</td>\n",
       "      <td>0.531685</td>\n",
       "      <td>0.460287</td>\n",
       "      <td>0.660144</td>\n",
       "      <td>0.601105</td>\n",
       "      <td>0.633133</td>\n",
       "      <td>0.695138</td>\n",
       "      <td>1.0</td>\n",
       "    </tr>\n",
       "  </tbody>\n",
       "</table>\n",
       "</div>"
      ],
      "text/plain": [
       "                       S1_Temp   S2_Temp   S3_Temp   S4_Temp  S1_Light  \\\n",
       "Room_Occupancy_Count  0.700868  0.671263  0.652047  0.526509  0.849058   \n",
       "\n",
       "                      S2_Light  S3_Light  S4_Light  S1_Sound  S2_Sound  \\\n",
       "Room_Occupancy_Count  0.788764  0.793081  0.355715  0.573748  0.557853   \n",
       "\n",
       "                      S3_Sound  S4_Sound    S5_CO2  S5_CO2_Slope    S6_PIR  \\\n",
       "Room_Occupancy_Count  0.531685  0.460287  0.660144      0.601105  0.633133   \n",
       "\n",
       "                        S7_PIR  Room_Occupancy_Count  \n",
       "Room_Occupancy_Count  0.695138                   1.0  "
      ]
     },
     "execution_count": 57,
     "metadata": {},
     "output_type": "execute_result"
    }
   ],
   "source": [
    "# Displays the correlations between each and every variable\n",
    "# occupancy_features = [\"S1_Temp\", \"S1_Light\", \"S1_Sound\", \"S5_CO2\", \"Room_Occupancy_Count\"]\n",
    "# data[occupancy_features].corr()\n",
    "data.corr()[16:]"
   ]
  },
  {
   "cell_type": "markdown",
   "metadata": {},
   "source": [
    "### Pulling our Independent (x) and Dependent (y) Variables from the DataFrame <a class=\"anchor\" id=\"variable\"></a>\n",
    "Next we are going to access the Independent variable `S1_Temp`, `S1_Light`, `S1_Sound`, `S5_CO2` to be stored in X variable and Dependent variable `Room_Occupancy_Count` to be stored Y variable  \n",
    "The `values` function accesses the values in the dataset at the index of the given variable name"
   ]
  },
  {
   "cell_type": "code",
   "execution_count": 112,
   "metadata": {},
   "outputs": [
    {
     "name": "stdout",
     "output_type": "stream",
     "text": [
      "The matrix of features: \n",
      "[[2.494e+01 1.210e+02 8.000e-02 3.900e+02]\n",
      " [2.494e+01 1.210e+02 9.300e-01 3.900e+02]\n",
      " [2.500e+01 1.210e+02 4.300e-01 3.900e+02]\n",
      " ...\n",
      " [2.513e+01 6.000e+00 1.100e-01 3.450e+02]\n",
      " [2.513e+01 6.000e+00 8.000e-02 3.450e+02]\n",
      " [2.513e+01 6.000e+00 8.000e-02 3.450e+02]]\n",
      "\n",
      "The dependent variable matrix: \n",
      "[1 1 1 ... 0 0 0]\n"
     ]
    }
   ],
   "source": [
    "# Matrix of features x and prints data x\n",
    "X = data[[\"S1_Temp\", \"S1_Light\", \"S1_Sound\", \"S5_CO2\"]].values\n",
    "print(\"The matrix of features: \\n{}\\n\".format(X))\n",
    "\n",
    "Y = data['Room_Occupancy_Count'].values\n",
    "print(\"The dependent variable matrix: \\n{}\".format(Y))"
   ]
  },
  {
   "cell_type": "markdown",
   "metadata": {},
   "source": [
    "### Splitting the Data Set into Testing and Training Subsets <a class=\"anchor\" id=\"test_train\"></a>\n",
    "Next we use the `train_test_split()` method in the sklearn library to split the data into test and train sets \n",
    "The train_test_split gives test/train data to x and y  \n",
    "Create test and train datasets with 0.2 (20%) of the dataset being test data  \n",
    "The `random_state` decides which indices of data to pull from  "
   ]
  },
  {
   "cell_type": "code",
   "execution_count": 113,
   "metadata": {},
   "outputs": [],
   "source": [
    "from sklearn.model_selection import train_test_split\n",
    "\n",
    "# The train_test_split gives test/train data to x and y\n",
    "# Create test and train datasets with 0.2 (20%) of the dataset being test data\n",
    "# The random_state decides which indices of data to pull from\n",
    "x_train, x_test, y_train, y_test = train_test_split(X, Y, test_size = 0.2, random_state = 1)"
   ]
  },
  {
   "cell_type": "markdown",
   "metadata": {},
   "source": [
    "### Creating the Linear Regression Model using Sklearn and Fitting our Training Data to the Model <a class=\"anchor\" id=\"make_model\"></a>\n",
    "Now using `LinearRegression()` method we create a linear regression object which we call `regr`  \n",
    "Then we take `.fit(x_train, y_train)` method uses x and y train data as parameters to see how well it fits the model"
   ]
  },
  {
   "cell_type": "code",
   "execution_count": 114,
   "metadata": {},
   "outputs": [
    {
     "data": {
      "text/plain": [
       "LinearRegression()"
      ]
     },
     "execution_count": 114,
     "metadata": {},
     "output_type": "execute_result"
    }
   ],
   "source": [
    "from sklearn.linear_model import LinearRegression\n",
    "\n",
    "# Creating the linear regression object\n",
    "occupancy_model = LinearRegression()\n",
    "\n",
    "# The regr.fit() measures how well the x and y train data fit the model\n",
    "occupancy_model.fit(x_train, y_train)"
   ]
  },
  {
   "cell_type": "markdown",
   "metadata": {},
   "source": [
    "### Predicting the Room Occupancy from our Independent Variable Test Set <a class=\"anchor\" id=\"predict\"></a>\n",
    "In this step we take in the independent variable test set for a the parameter in the `predict()` method in order to predict the outcome for the dependent variable."
   ]
  },
  {
   "cell_type": "code",
   "execution_count": 115,
   "metadata": {},
   "outputs": [],
   "source": [
    "# The regr.predict() creates a prediction based on the x test data\n",
    "y_pred = occupancy_model.predict(x_test)"
   ]
  },
  {
   "cell_type": "markdown",
   "metadata": {},
   "source": [
    "### Finding the Metrics to Analyze the Prediction <a class=\"anchor\" id=\"metrics\"></a>\n",
    "In this step we use various functions and methods in order to see how well our linear regression model is predicting our data. The  `coef_` function tells us the **correlation coefficient**, which shows in what way our variables correlate with each other. Next up we have the `mean_squared_error()` method, which shows us the distance from the estimated values and the true values; The best possible score would be 0. Lastly there's the `r2_score()` method which is responsible for displaying how well our data fits the current model, with an R^2 score of 1."
   ]
  },
  {
   "cell_type": "code",
   "execution_count": 116,
   "metadata": {},
   "outputs": [],
   "source": [
    "from sklearn.metrics import mean_squared_error, r2_score"
   ]
  },
  {
   "cell_type": "code",
   "execution_count": 118,
   "metadata": {},
   "outputs": [
    {
     "name": "stdout",
     "output_type": "stream",
     "text": [
      "Coefficients: \n",
      " [0.16267571 0.01127446 0.22855009 0.00083072]\n",
      "Root mean squared error: 0.47\n",
      "Coefficient of determination: 0.74\n"
     ]
    }
   ],
   "source": [
    "# Prints the coefficients\n",
    "print(\"Coefficients: \\n\", occupancy_model.coef_)\n",
    "\n",
    "# Prints the mean squared error\n",
    "print(\"Root mean squared error: %.2f\" % mean_squared_error(y_test, y_pred, squared=False))\n",
    "\n",
    "# Prints the coefficient of determination: 1 is perfect prediction\n",
    "print(\"Coefficient of determination: %.2f\" % r2_score(y_test, y_pred))"
   ]
  },
  {
   "cell_type": "markdown",
   "metadata": {},
   "source": [
    "### Plotting the Linear Regression <a class=\"anchor\" id=\"plot\"></a>\n",
    "Using `plt` in **matplotlib** library we can print out the different aspects of our linear regression graph."
   ]
  },
  {
   "cell_type": "code",
   "execution_count": null,
   "metadata": {},
   "outputs": [],
   "source": [
    "# The plt.scatter() plots the x and y test points in the linear regression model\n",
    "plt.scatter(x_test, y_test, color=\"black\")\n",
    "\n",
    "# The plt.plot() creates the line of best fit\n",
    "plt.plot(x_test, y_pred, color=\"blue\", linewidth=3)\n",
    "\n",
    "# Sets the x-axis, y-axis, and title of the model\n",
    "plt.xlabel('S1_Temp, S1_Light, S1_Sound, and S5_CO2')\n",
    "plt.ylabel('Room Occupancy')\n",
    "plt.title('Room Occupancy VS S1_Temp, S1_Light, S1_Sound, and S5_CO2 Sensors')\n",
    "\n",
    "# The plt.show() displays the model\n",
    "plt.show()"
   ]
  },
  {
   "cell_type": "markdown",
   "metadata": {},
   "source": [
    "## Deploying the Model into Wallaroo <a class=\"anchor\" id=\"deploying\"></a>\n",
    "The model that was created will now be deployed into the Wallaroo platform"
   ]
  },
  {
   "cell_type": "markdown",
   "metadata": {},
   "source": [
    "### Converting the Sklearn Model into Onnx for use on the Wallaroo Platform <a class=\"anchor\" id=\"onnx\"></a>\n",
    "For the next step refer to [sklearn-regression-to-onnx tutorial](https://docs.wallaroo.ai/wallaroo-tutorials/conversion-tutorials/sklearn-regression-to-onnx/) in the wallaroo documentation for how to convert file to onnx."
   ]
  },
  {
   "cell_type": "code",
   "execution_count": 119,
   "metadata": {},
   "outputs": [],
   "source": [
    "# Used to load the sk-learn model\n",
    "import pickle\n",
    "\n",
    "# Used for the conversion process\n",
    "import onnx, skl2onnx, onnxmltools\n",
    "from skl2onnx.common.data_types import FloatTensorType\n",
    "from skl2onnx.common.data_types import DoubleTensorType"
   ]
  },
  {
   "cell_type": "code",
   "execution_count": 120,
   "metadata": {},
   "outputs": [],
   "source": [
    "# The model_to_onnx converts the model to onnx to be upload to Wallaroo Platfrom\n",
    "# For more detailed steps refer to \"model_conversion\"\n",
    "def model_to_onnx(model, cols, *, input_type='Double'):\n",
    "    input_type_lower=input_type.lower()\n",
    "    # How to manage float values\n",
    "    if input_type=='Double':\n",
    "        tensor_type=DoubleTensorType\n",
    "    elif input_type=='Float':\n",
    "        tensor_type=FloatTensorType\n",
    "    else:\n",
    "        raise ValueError(\"bad input type\")\n",
    "    tensor_size=cols\n",
    "    initial_type=[(f'{input_type_lower}_input', tensor_type([None, tensor_size]))]\n",
    "    onnx_model=onnxmltools.convert_sklearn(model,initial_types=initial_type)\n",
    "    return onnx_model"
   ]
  },
  {
   "cell_type": "code",
   "execution_count": 141,
   "metadata": {},
   "outputs": [],
   "source": [
    "# The model_to_onnx() takes the pickle file and converts it to onnx\n",
    "onnx_model_converted = model_to_onnx(occupancy_model, 4)\n",
    "\n",
    "# The onnx.save_model() saves the converted model into a file\n",
    "onnx.save_model(onnx_model_converted, \"occupancy_model.onnx\")"
   ]
  },
  {
   "cell_type": "markdown",
   "metadata": {},
   "source": [
    "### Implementing into Wallaroo <a class=\"anchor\" id=\"implement\"></a>\n",
    "Reference the [Wallaroo 101 Tutorial](https://docs.wallaroo.ai/wallaroo-101/) for how to access the wallaroo platform"
   ]
  },
  {
   "cell_type": "code",
   "execution_count": 142,
   "metadata": {},
   "outputs": [],
   "source": [
    "# Needed for the use of Wallaroo\n",
    "import wallaroo\n",
    "\n",
    "# The wallaroo.Client() allows the file to access wallaroo platform\n",
    "wl = wallaroo.Client()"
   ]
  },
  {
   "cell_type": "code",
   "execution_count": 143,
   "metadata": {},
   "outputs": [],
   "source": [
    "# Creates the name for workspace, pipeline, and model\n",
    "workspace_name = 'multi variable'\n",
    "pipeline_name = 'occupancymultivarpipeline'\n",
    "model_name = 'occupancymultivarmodel'\n",
    "\n",
    "# Created to fetch the model\n",
    "model_file_name = 'occupancy_model.onnx'"
   ]
  },
  {
   "cell_type": "code",
   "execution_count": 144,
   "metadata": {},
   "outputs": [],
   "source": [
    "# The get_workspace() gets/create the workspace when needed\n",
    "# For more detailed steps refer to \"wallaroo-101\"\n",
    "def get_workspace(name):\n",
    "    workspace = None\n",
    "    for ws in wl.list_workspaces():\n",
    "        if ws.name() == name:\n",
    "            workspace= ws\n",
    "    if(workspace == None):\n",
    "        workspace = wl.create_workspace(name)\n",
    "    return workspace\n",
    "\n",
    "# The get_pipeline() gets/create the pipeline when needed\n",
    "# For more detailed steps refer to \"wallaroo-101\"\n",
    "def get_pipeline(name):\n",
    "    try:\n",
    "        pipeline = wl.pipelines_by_name(pipeline_name)[0]\n",
    "    except EntityNotFoundError:\n",
    "        pipeline = wl.build_pipeline(pipeline_name)\n",
    "    return pipeline"
   ]
  },
  {
   "cell_type": "code",
   "execution_count": 145,
   "metadata": {},
   "outputs": [],
   "source": [
    "# Calls function to create workspace\n",
    "workspace = get_workspace(workspace_name)\n",
    "\n",
    "# The wl.set_current_workspace() sets the workspace to currently being worked on\n",
    "ws = wl.set_current_workspace(workspace)"
   ]
  },
  {
   "cell_type": "code",
   "execution_count": 146,
   "metadata": {},
   "outputs": [
    {
     "data": {
      "text/html": [
       "\n",
       "        <table>\n",
       "            <tr>\n",
       "                <th>Name</th>\n",
       "                <th>Created At</th>\n",
       "                <th>Users</th>\n",
       "                <th>Models</th>\n",
       "                <th>Pipelines</th>\n",
       "            </tr>\n",
       "            \n",
       "        <tr >\n",
       "            <td>v-joseph.bigger@wallaroo.ai - Default Workspace</td>\n",
       "            <td>2022-10-25 20:01:52</td>\n",
       "            <td>['v-joseph.bigger@wallaroo.ai']</td>\n",
       "            <td>0</td>\n",
       "            <td>0</td>\n",
       "        </tr>\n",
       "        \n",
       "\n",
       "        <tr >\n",
       "            <td>multi variable</td>\n",
       "            <td>2022-10-26 15:19:52</td>\n",
       "            <td>['v-joseph.bigger@wallaroo.ai']</td>\n",
       "            <td>5</td>\n",
       "            <td>1</td>\n",
       "        </tr>\n",
       "        \n",
       "        </table>\n",
       "        "
      ],
      "text/plain": [
       "[{'name': 'v-joseph.bigger@wallaroo.ai - Default Workspace', 'id': 4, 'archived': False, 'created_by': '68c7b3ab-0367-4ca9-9065-62560cf5b7f1', 'created_at': '2022-10-25T20:01:52.518057+00:00', 'models': [], 'pipelines': []},\n",
       " {'name': 'multi variable', 'id': 7, 'archived': False, 'created_by': '68c7b3ab-0367-4ca9-9065-62560cf5b7f1', 'created_at': '2022-10-26T15:19:52.772484+00:00', 'models': [{'name': 'occupancymultivarmodel', 'version': '3c9db811-bad9-4839-b528-2dace7fdc90a', 'file_name': 'occupancy_model.onnx', 'image_path': None, 'last_update_time': datetime.datetime(2022, 10, 26, 17, 19, 21, 128277, tzinfo=tzutc())}, {'name': 'occupancymultivarmodel', 'version': 'ab16361a-1bf5-43cb-b600-63398fa88978', 'file_name': 'occupancy_model.onnx', 'image_path': None, 'last_update_time': datetime.datetime(2022, 10, 26, 17, 23, 13, 333998, tzinfo=tzutc())}, {'name': 'occupancymultivarmodel', 'version': 'f0f78cdf-d33e-41f6-840c-3ca816b78c08', 'file_name': 'occupancy_model.onnx', 'image_path': None, 'last_update_time': datetime.datetime(2022, 10, 26, 17, 25, 19, 563737, tzinfo=tzutc())}, {'name': 'postprocess', 'version': 'b0803986-0514-4560-b47f-db49f6549439', 'file_name': 'postprocess.py', 'image_path': None, 'last_update_time': datetime.datetime(2022, 10, 26, 17, 23, 13, 433379, tzinfo=tzutc())}, {'name': 'postprocess', 'version': '2062e661-9b35-44ec-8327-ac407bb88b29', 'file_name': 'postprocess.py', 'image_path': None, 'last_update_time': datetime.datetime(2022, 10, 26, 17, 25, 19, 660673, tzinfo=tzutc())}], 'pipelines': [{'name': 'occupancymultivarpipeline', 'create_time': datetime.datetime(2022, 10, 26, 17, 19, 32, 363105, tzinfo=tzutc()), 'definition': '[]'}]}]"
      ]
     },
     "execution_count": 146,
     "metadata": {},
     "output_type": "execute_result"
    }
   ],
   "source": [
    "# Thw wl.list_workspaces() prints the lists of the workspaces\n",
    "wl.list_workspaces()"
   ]
  },
  {
   "cell_type": "code",
   "execution_count": 147,
   "metadata": {},
   "outputs": [],
   "source": [
    "wl.set_current_workspace(workspace)\n",
    "gw = wl.get_current_workspace()"
   ]
  },
  {
   "cell_type": "code",
   "execution_count": 148,
   "metadata": {},
   "outputs": [],
   "source": [
    "# The wl.upload_model() uploads the model to the platform\n",
    "occupancy_model_onnx = wl.upload_model(model_name, model_file_name).configure()\n",
    "module_post = wl.upload_model(\"postprocess\", \"./postprocess.py\").configure('python')"
   ]
  },
  {
   "cell_type": "markdown",
   "metadata": {},
   "source": [
    "### Creating a Pipeline and Uploading the Model <a class=\"anchor\" id=\"pipeline\"></a>\n",
    "In this step we are using `build_pipeline()`. Here we create the pipeline by giving the method a string. We defined `pipeline_name` earlier.\n",
    "To upload the model we use `upload_model()`. Here we need give a string, and a file. Both we defined earlier in the tutorial.\n",
    "Lastly, we add the model as a step to the pipeline using `add_model_step()`. All we have to give here is give the function our model we used earlier."
   ]
  },
  {
   "cell_type": "code",
   "execution_count": 149,
   "metadata": {},
   "outputs": [],
   "source": [
    "# The wl.build_pipeline() creates the pipeline\n",
    "occupancy_pipeline = wl.build_pipeline(pipeline_name)\n",
    "\n",
    "# The occuupancy_pipeline.add_model_step() adds the model to pipeline to be deployed\n",
    "occupancy_pipeline = occupancy_pipeline.add_model_step(occupancy_model_onnx)"
   ]
  },
  {
   "cell_type": "code",
   "execution_count": 150,
   "metadata": {},
   "outputs": [],
   "source": [
    "occupancy_pipeline = occupancy_pipeline.add_validation('no_negative_people', occupancy_model_onnx.outputs[0][0] >= float(0))"
   ]
  },
  {
   "cell_type": "code",
   "execution_count": 151,
   "metadata": {},
   "outputs": [],
   "source": [
    "occupancy_pipeline = occupancy_pipeline.add_model_step(module_post)"
   ]
  },
  {
   "cell_type": "code",
   "execution_count": 152,
   "metadata": {},
   "outputs": [
    {
     "name": "stdout",
     "output_type": "stream",
     "text": [
      "Waiting for deployment - this will take up to 45s .. ok\n"
     ]
    },
    {
     "data": {
      "text/html": [
       "<table><tr><th>name</th> <td>occupancymultivarpipeline</td></tr><tr><th>created</th> <td>2022-10-26 17:19:32.363105+00:00</td></tr><tr><th>last_updated</th> <td>2022-10-26 17:26:03.231937+00:00</td></tr><tr><th>deployed</th> <td>True</td></tr><tr><th>tags</th> <td></td></tr><tr><th>steps</th> <td>occupancymultivarmodel</td></tr></table>"
      ],
      "text/plain": [
       "{'name': 'occupancymultivarpipeline', 'create_time': datetime.datetime(2022, 10, 26, 17, 19, 32, 363105, tzinfo=tzutc()), 'definition': '[{\\'ModelInference\\': {\\'models\\': [{\\'name\\': \\'occupancymultivarmodel\\', \\'version\\': \\'cb2628e0-dd79-4a8c-941d-c6eb0a50cb6a\\', \\'sha\\': \\'220af1e3ccd12a792748f4da11411abf9e6a53b244d991aaf228be58f0b2f955\\'}]}}, {\\'Check\\': {\\'tree\\': [\\'{\"values\": {\"no_negative_people\": {\"root\": {\"node\": \"binop\", \"op\": \">=\", \"left\": {\"node\": \"variable\", \"variant_id\": {\"name\": \"occupancymultivarmodel\"}, \"position\": \"output\", \"key\": [0, 0]}, \"right\": {\"node\": \"literal\", \"float\": 0.0}}, \"required_data\": [{\"name\": \"occupancymultivarmodel\"}]}}, \"gauges\": [], \"validations\": [\"no_negative_people\"]}\\']}}, {\\'ModelInference\\': {\\'models\\': [{\\'name\\': \\'postprocess\\', \\'version\\': \\'4f1f041d-4753-4dcb-905c-29a038e7701d\\', \\'sha\\': \\'c9326405453ebeb9fc2db95678d08f06d3d2968581b324e8d48daf1b93c76cf8\\'}]}}]'}"
      ]
     },
     "execution_count": 152,
     "metadata": {},
     "output_type": "execute_result"
    }
   ],
   "source": [
    "# The occupancy_pipeline.deploy() activating the pipeline\n",
    "occupancy_pipeline.deploy()"
   ]
  },
  {
   "cell_type": "markdown",
   "metadata": {},
   "source": [
    "## Using Wallaroo's Monitoring Capabilities to Analyze the Model <a class=\"anchor\" id=\"analyze\"></a>\n",
    "Since the model is now deployed we will continue to monitor it and analyze it"
   ]
  },
  {
   "cell_type": "code",
   "execution_count": 153,
   "metadata": {},
   "outputs": [
    {
     "data": {
      "text/plain": [
       "{'status': 'Running',\n",
       " 'details': None,\n",
       " 'engines': [{'ip': '10.244.3.68',\n",
       "   'name': 'engine-5859994cc8-jsn2k',\n",
       "   'status': 'Running',\n",
       "   'reason': None,\n",
       "   'pipeline_statuses': {'pipelines': [{'id': 'occupancymultivarpipeline',\n",
       "      'status': 'Running'}]},\n",
       "   'model_statuses': {'models': [{'name': 'postprocess',\n",
       "      'version': 'b0803986-0514-4560-b47f-db49f6549439',\n",
       "      'sha': 'c9326405453ebeb9fc2db95678d08f06d3d2968581b324e8d48daf1b93c76cf8',\n",
       "      'status': 'Running'},\n",
       "     {'name': 'occupancymultivarmodel',\n",
       "      'version': 'cb2628e0-dd79-4a8c-941d-c6eb0a50cb6a',\n",
       "      'sha': '220af1e3ccd12a792748f4da11411abf9e6a53b244d991aaf228be58f0b2f955',\n",
       "      'status': 'Running'}]}}],\n",
       " 'engine_lbs': [{'ip': '10.244.3.67',\n",
       "   'name': 'engine-lb-67c854cc86-cfpw2',\n",
       "   'status': 'Running',\n",
       "   'reason': None}]}"
      ]
     },
     "execution_count": 153,
     "metadata": {},
     "output_type": "execute_result"
    }
   ],
   "source": [
    "# The occupancy_pipeline.status() displays the status of the pipeline\n",
    "occupancy_pipeline.status()"
   ]
  },
  {
   "cell_type": "code",
   "execution_count": 154,
   "metadata": {},
   "outputs": [],
   "source": [
    "# Needed for the infrences\n",
    "import json\n",
    "from wallaroo.object import EntityNotFoundError"
   ]
  },
  {
   "cell_type": "code",
   "execution_count": 155,
   "metadata": {},
   "outputs": [],
   "source": [
    "# The pandas_to_dict() converts the values into dictionary for infrences\n",
    "def pandas_to_dict(df):\n",
    "    input_dict = {\n",
    "    'tensor': df.to_numpy().tolist()\n",
    "    }\n",
    "    return input_dict"
   ]
  },
  {
   "cell_type": "code",
   "execution_count": 156,
   "metadata": {},
   "outputs": [
    {
     "data": {
      "text/html": [
       "<div>\n",
       "<style scoped>\n",
       "    .dataframe tbody tr th:only-of-type {\n",
       "        vertical-align: middle;\n",
       "    }\n",
       "\n",
       "    .dataframe tbody tr th {\n",
       "        vertical-align: top;\n",
       "    }\n",
       "\n",
       "    .dataframe thead th {\n",
       "        text-align: right;\n",
       "    }\n",
       "</style>\n",
       "<table border=\"1\" class=\"dataframe\">\n",
       "  <thead>\n",
       "    <tr style=\"text-align: right;\">\n",
       "      <th></th>\n",
       "      <th>S1_Temp</th>\n",
       "      <th>S1_Light</th>\n",
       "      <th>S1_Sound</th>\n",
       "      <th>S5_CO2</th>\n",
       "    </tr>\n",
       "  </thead>\n",
       "  <tbody>\n",
       "    <tr>\n",
       "      <th>0</th>\n",
       "      <td>24.94</td>\n",
       "      <td>121</td>\n",
       "      <td>0.08</td>\n",
       "      <td>390</td>\n",
       "    </tr>\n",
       "    <tr>\n",
       "      <th>1</th>\n",
       "      <td>24.94</td>\n",
       "      <td>121</td>\n",
       "      <td>0.93</td>\n",
       "      <td>390</td>\n",
       "    </tr>\n",
       "    <tr>\n",
       "      <th>2</th>\n",
       "      <td>25.00</td>\n",
       "      <td>121</td>\n",
       "      <td>0.43</td>\n",
       "      <td>390</td>\n",
       "    </tr>\n",
       "    <tr>\n",
       "      <th>3</th>\n",
       "      <td>25.00</td>\n",
       "      <td>121</td>\n",
       "      <td>0.41</td>\n",
       "      <td>390</td>\n",
       "    </tr>\n",
       "    <tr>\n",
       "      <th>4</th>\n",
       "      <td>25.00</td>\n",
       "      <td>121</td>\n",
       "      <td>0.18</td>\n",
       "      <td>390</td>\n",
       "    </tr>\n",
       "    <tr>\n",
       "      <th>5</th>\n",
       "      <td>25.00</td>\n",
       "      <td>121</td>\n",
       "      <td>0.13</td>\n",
       "      <td>390</td>\n",
       "    </tr>\n",
       "    <tr>\n",
       "      <th>6</th>\n",
       "      <td>25.00</td>\n",
       "      <td>120</td>\n",
       "      <td>1.39</td>\n",
       "      <td>390</td>\n",
       "    </tr>\n",
       "    <tr>\n",
       "      <th>7</th>\n",
       "      <td>25.00</td>\n",
       "      <td>121</td>\n",
       "      <td>0.09</td>\n",
       "      <td>390</td>\n",
       "    </tr>\n",
       "    <tr>\n",
       "      <th>8</th>\n",
       "      <td>25.00</td>\n",
       "      <td>122</td>\n",
       "      <td>0.09</td>\n",
       "      <td>390</td>\n",
       "    </tr>\n",
       "    <tr>\n",
       "      <th>9</th>\n",
       "      <td>25.00</td>\n",
       "      <td>101</td>\n",
       "      <td>3.84</td>\n",
       "      <td>390</td>\n",
       "    </tr>\n",
       "  </tbody>\n",
       "</table>\n",
       "</div>"
      ],
      "text/plain": [
       "   S1_Temp  S1_Light  S1_Sound  S5_CO2\n",
       "0    24.94       121      0.08     390\n",
       "1    24.94       121      0.93     390\n",
       "2    25.00       121      0.43     390\n",
       "3    25.00       121      0.41     390\n",
       "4    25.00       121      0.18     390\n",
       "5    25.00       121      0.13     390\n",
       "6    25.00       120      1.39     390\n",
       "7    25.00       121      0.09     390\n",
       "8    25.00       122      0.09     390\n",
       "9    25.00       101      3.84     390"
      ]
     },
     "execution_count": 156,
     "metadata": {},
     "output_type": "execute_result"
    }
   ],
   "source": [
    "# The data.iloc[# of rows, # of columns] and\n",
    "# 2,6, 10, 14\n",
    "raw = data.iloc[:10,[2, 6, 10, 14]]\n",
    "raw"
   ]
  },
  {
   "cell_type": "code",
   "execution_count": 161,
   "metadata": {},
   "outputs": [],
   "source": [
    "# Store values for infrences\n",
    "# input_dict = pandas_to_dict(raw)\n",
    "# input_dict = {'tensor': x_test.tolist()}\n",
    "input_dict = {'tensor': [[25, 121, 0.9, 390], [24.8, -117, 0.5, 390], [24.95, 101, 3.27, 390]]}\n",
    "# input_dict"
   ]
  },
  {
   "cell_type": "code",
   "execution_count": 162,
   "metadata": {},
   "outputs": [
    {
     "data": {
      "text/plain": [
       "[InferenceResult({'check_failures': [{'False': {'expr': 'occupancymultivarmodel.outputs[0][0] '\n",
       "                                        '>= 0'}}],\n",
       "  'elapsed': 330305,\n",
       "  'model_name': 'postprocess',\n",
       "  'model_version': 'b0803986-0514-4560-b47f-db49f6549439',\n",
       "  'original_data': {'tensor': [[25, 121, 0.9, 390],\n",
       "                               [24.8, -117, 0.5, 390],\n",
       "                               [24.95, 101, 3.27, 390]]},\n",
       "  'outputs': [{'Json': {'data': [{'original': {'outputs': [{'Double': {'data': [1.5067474012753257,\n",
       "                                                                                -1.3005291444940523,\n",
       "                                                                                1.8147881464737432],\n",
       "                                                                       'dim': [3,\n",
       "                                                                               1],\n",
       "                                                                       'v': 1}}]},\n",
       "                                  'prediction': [2.0, -1.0, 2.0]}],\n",
       "                        'dim': [1],\n",
       "                        'v': 1}}],\n",
       "  'pipeline_name': 'occupancymultivarpipeline',\n",
       "  'shadow_data': {},\n",
       "  'time': 1666805603950})]"
      ]
     },
     "execution_count": 162,
     "metadata": {},
     "output_type": "execute_result"
    }
   ],
   "source": [
    "# The occupancy_pipeline.infer() creates a result based on data given\n",
    "result = occupancy_pipeline.infer(input_dict)\n",
    "result"
   ]
  },
  {
   "cell_type": "code",
   "execution_count": 163,
   "metadata": {},
   "outputs": [
    {
     "data": {
      "text/plain": [
       "[2.0, -1.0, 2.0]"
      ]
     },
     "execution_count": 163,
     "metadata": {},
     "output_type": "execute_result"
    }
   ],
   "source": [
    "result[0].data()[0].tolist()"
   ]
  },
  {
   "cell_type": "code",
   "execution_count": 164,
   "metadata": {},
   "outputs": [
    {
     "data": {
      "text/html": [
       "\n",
       "        <table>\n",
       "            <tr>\n",
       "                <th>Timestamp</th>\n",
       "                <th>Output</th>\n",
       "                <th>Input</th>\n",
       "                <th>Anomalies</th>\n",
       "            </tr>\n",
       "            \n",
       "        <tr style=\"\">\n",
       "            <td>2022-26-Oct 17:32:03</td>\n",
       "            <td>[array([2., 1., 9.])]</td>\n",
       "            <td>[[25, 121, 0.9, 390], [24.8, 117, 0.5, 390], [24.95, 101, 32.7, 390]]</td>\n",
       "            <td>0</td>\n",
       "        </tr>\n",
       "        \n",
       "\n",
       "        <tr style=\"color: red;\">\n",
       "            <td>2022-26-Oct 17:33:05</td>\n",
       "            <td>[array([ 2., -1.,  9.])]</td>\n",
       "            <td>[[25, 121, 0.9, 390], [24.8, -117, 0.5, 390], [24.95, 101, 32.7, 390]]</td>\n",
       "            <td>1</td>\n",
       "        </tr>\n",
       "        \n",
       "\n",
       "        <tr style=\"color: red;\">\n",
       "            <td>2022-26-Oct 17:33:23</td>\n",
       "            <td>[array([ 2., -1.,  2.])]</td>\n",
       "            <td>[[25, 121, 0.9, 390], [24.8, -117, 0.5, 390], [24.95, 101, 3.27, 390]]</td>\n",
       "            <td>1</td>\n",
       "        </tr>\n",
       "        \n",
       "        </table>\n",
       "        "
      ],
      "text/plain": [
       "[<wallaroo.logs.LogEntry at 0x7f15fbf6a9d0>,\n",
       " <wallaroo.logs.LogEntry at 0x7f15fbf6a850>,\n",
       " <wallaroo.logs.LogEntry at 0x7f15fbf6a340>]"
      ]
     },
     "execution_count": 164,
     "metadata": {},
     "output_type": "execute_result"
    }
   ],
   "source": [
    "logs = occupancy_pipeline.logs()\n",
    "# type(logs)\n",
    "# type(logs[0])\n",
    "# vars(logs[0])\n",
    "logs"
   ]
  },
  {
   "cell_type": "code",
   "execution_count": null,
   "metadata": {},
   "outputs": [],
   "source": []
  }
 ],
 "metadata": {
  "kernelspec": {
   "display_name": "Python 3.8.5 32-bit",
   "language": "python",
   "name": "python3"
  },
  "language_info": {
   "codemirror_mode": {
    "name": "ipython",
    "version": 3
   },
   "file_extension": ".py",
   "mimetype": "text/x-python",
   "name": "python",
   "nbconvert_exporter": "python",
   "pygments_lexer": "ipython3",
   "version": "3.8.5"
  },
  "vscode": {
   "interpreter": {
    "hash": "a455151eaa177e2032de9a4d2e8948b068618360c02abe53a3688b732acfc327"
   }
  }
 },
 "nbformat": 4,
 "nbformat_minor": 4
}
