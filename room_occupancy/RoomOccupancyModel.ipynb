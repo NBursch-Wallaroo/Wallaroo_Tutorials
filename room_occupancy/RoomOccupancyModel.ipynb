{
 "cells": [
  {
   "cell_type": "markdown",
   "metadata": {
    "tags": []
   },
   "source": [
    "# A Linear Regression Model Notebook for the Wallaroo Platform\n",
    "#### A Comprehensive Tutorial for:\n",
    "1. Building a Linear Regression Model\n",
    "2. Deploying the Model into Wallaroo\n",
    "3. Using Wallaroo's Monitering Capabilities to Analyze the Model."
   ]
  },
  {
   "cell_type": "markdown",
   "metadata": {},
   "source": [
    "# Building a Linear Regression Model\n",
    "\n",
    "> This model will be built from a data set of sensor values and the occupancy of the room the sensors are in.\n",
    "> The goal is to use the sensor data to predict the room occupancy."
   ]
  },
  {
   "cell_type": "markdown",
   "metadata": {},
   "source": [
    "### Importing the Necessary Python Libraries\n",
    "\n",
    "We will use a variety of libraries to implement the linear regression model\n",
    "\n",
    "These libraries include:\n",
    "- matplotlib\n",
    "- numpy\n",
    "- sklearn\n",
    "- pandas\n",
    "- onnx"
   ]
  },
  {
   "cell_type": "code",
   "execution_count": 45,
   "metadata": {},
   "outputs": [],
   "source": [
    "# Code Source: Us\n",
    "\n",
    "#needed for data visualization\n",
    "import matplotlib.pyplot as plt\n",
    "\n",
    "#needed for data tuning\n",
    "import numpy as np\n",
    "\n",
    "#needed for creating the linear regression model\n",
    "from sklearn import linear_model\n",
    "\n",
    "#needed for metrics of the model\n",
    "from sklearn.metrics import mean_squared_error, r2_score\n",
    "\n",
    "#needed for csv importing\n",
    "import pandas as pd"
   ]
  },
  {
   "cell_type": "markdown",
   "metadata": {},
   "source": [
    "### Importing the Data Set using Pandas"
   ]
  },
  {
   "cell_type": "code",
   "execution_count": 46,
   "metadata": {},
   "outputs": [
    {
     "data": {
      "text/html": [
       "<div>\n",
       "<style scoped>\n",
       "    .dataframe tbody tr th:only-of-type {\n",
       "        vertical-align: middle;\n",
       "    }\n",
       "\n",
       "    .dataframe tbody tr th {\n",
       "        vertical-align: top;\n",
       "    }\n",
       "\n",
       "    .dataframe thead th {\n",
       "        text-align: right;\n",
       "    }\n",
       "</style>\n",
       "<table border=\"1\" class=\"dataframe\">\n",
       "  <thead>\n",
       "    <tr style=\"text-align: right;\">\n",
       "      <th></th>\n",
       "      <th>Date</th>\n",
       "      <th>Time</th>\n",
       "      <th>S1_Temp</th>\n",
       "      <th>S2_Temp</th>\n",
       "      <th>S3_Temp</th>\n",
       "      <th>S4_Temp</th>\n",
       "      <th>S1_Light</th>\n",
       "      <th>S2_Light</th>\n",
       "      <th>S3_Light</th>\n",
       "      <th>S4_Light</th>\n",
       "      <th>S1_Sound</th>\n",
       "      <th>S2_Sound</th>\n",
       "      <th>S3_Sound</th>\n",
       "      <th>S4_Sound</th>\n",
       "      <th>S5_CO2</th>\n",
       "      <th>S5_CO2_Slope</th>\n",
       "      <th>S6_PIR</th>\n",
       "      <th>S7_PIR</th>\n",
       "      <th>Room_Occupancy_Count</th>\n",
       "    </tr>\n",
       "  </thead>\n",
       "  <tbody>\n",
       "    <tr>\n",
       "      <th>0</th>\n",
       "      <td>2017/12/22</td>\n",
       "      <td>10:49:41</td>\n",
       "      <td>24.94</td>\n",
       "      <td>24.75</td>\n",
       "      <td>24.56</td>\n",
       "      <td>25.38</td>\n",
       "      <td>121</td>\n",
       "      <td>34</td>\n",
       "      <td>53</td>\n",
       "      <td>40</td>\n",
       "      <td>0.08</td>\n",
       "      <td>0.19</td>\n",
       "      <td>0.06</td>\n",
       "      <td>0.06</td>\n",
       "      <td>390</td>\n",
       "      <td>0.769231</td>\n",
       "      <td>0</td>\n",
       "      <td>0</td>\n",
       "      <td>1</td>\n",
       "    </tr>\n",
       "    <tr>\n",
       "      <th>1</th>\n",
       "      <td>2017/12/22</td>\n",
       "      <td>10:50:12</td>\n",
       "      <td>24.94</td>\n",
       "      <td>24.75</td>\n",
       "      <td>24.56</td>\n",
       "      <td>25.44</td>\n",
       "      <td>121</td>\n",
       "      <td>33</td>\n",
       "      <td>53</td>\n",
       "      <td>40</td>\n",
       "      <td>0.93</td>\n",
       "      <td>0.05</td>\n",
       "      <td>0.06</td>\n",
       "      <td>0.06</td>\n",
       "      <td>390</td>\n",
       "      <td>0.646154</td>\n",
       "      <td>0</td>\n",
       "      <td>0</td>\n",
       "      <td>1</td>\n",
       "    </tr>\n",
       "    <tr>\n",
       "      <th>2</th>\n",
       "      <td>2017/12/22</td>\n",
       "      <td>10:50:42</td>\n",
       "      <td>25.00</td>\n",
       "      <td>24.75</td>\n",
       "      <td>24.50</td>\n",
       "      <td>25.44</td>\n",
       "      <td>121</td>\n",
       "      <td>34</td>\n",
       "      <td>53</td>\n",
       "      <td>40</td>\n",
       "      <td>0.43</td>\n",
       "      <td>0.11</td>\n",
       "      <td>0.08</td>\n",
       "      <td>0.06</td>\n",
       "      <td>390</td>\n",
       "      <td>0.519231</td>\n",
       "      <td>0</td>\n",
       "      <td>0</td>\n",
       "      <td>1</td>\n",
       "    </tr>\n",
       "    <tr>\n",
       "      <th>3</th>\n",
       "      <td>2017/12/22</td>\n",
       "      <td>10:51:13</td>\n",
       "      <td>25.00</td>\n",
       "      <td>24.75</td>\n",
       "      <td>24.56</td>\n",
       "      <td>25.44</td>\n",
       "      <td>121</td>\n",
       "      <td>34</td>\n",
       "      <td>53</td>\n",
       "      <td>40</td>\n",
       "      <td>0.41</td>\n",
       "      <td>0.10</td>\n",
       "      <td>0.10</td>\n",
       "      <td>0.09</td>\n",
       "      <td>390</td>\n",
       "      <td>0.388462</td>\n",
       "      <td>0</td>\n",
       "      <td>0</td>\n",
       "      <td>1</td>\n",
       "    </tr>\n",
       "    <tr>\n",
       "      <th>4</th>\n",
       "      <td>2017/12/22</td>\n",
       "      <td>10:51:44</td>\n",
       "      <td>25.00</td>\n",
       "      <td>24.75</td>\n",
       "      <td>24.56</td>\n",
       "      <td>25.44</td>\n",
       "      <td>121</td>\n",
       "      <td>34</td>\n",
       "      <td>54</td>\n",
       "      <td>40</td>\n",
       "      <td>0.18</td>\n",
       "      <td>0.06</td>\n",
       "      <td>0.06</td>\n",
       "      <td>0.06</td>\n",
       "      <td>390</td>\n",
       "      <td>0.253846</td>\n",
       "      <td>0</td>\n",
       "      <td>0</td>\n",
       "      <td>1</td>\n",
       "    </tr>\n",
       "  </tbody>\n",
       "</table>\n",
       "</div>"
      ],
      "text/plain": [
       "         Date      Time  S1_Temp  S2_Temp  S3_Temp  S4_Temp  S1_Light  \\\n",
       "0  2017/12/22  10:49:41    24.94    24.75    24.56    25.38       121   \n",
       "1  2017/12/22  10:50:12    24.94    24.75    24.56    25.44       121   \n",
       "2  2017/12/22  10:50:42    25.00    24.75    24.50    25.44       121   \n",
       "3  2017/12/22  10:51:13    25.00    24.75    24.56    25.44       121   \n",
       "4  2017/12/22  10:51:44    25.00    24.75    24.56    25.44       121   \n",
       "\n",
       "   S2_Light  S3_Light  S4_Light  S1_Sound  S2_Sound  S3_Sound  S4_Sound  \\\n",
       "0        34        53        40      0.08      0.19      0.06      0.06   \n",
       "1        33        53        40      0.93      0.05      0.06      0.06   \n",
       "2        34        53        40      0.43      0.11      0.08      0.06   \n",
       "3        34        53        40      0.41      0.10      0.10      0.09   \n",
       "4        34        54        40      0.18      0.06      0.06      0.06   \n",
       "\n",
       "   S5_CO2  S5_CO2_Slope  S6_PIR  S7_PIR  Room_Occupancy_Count  \n",
       "0     390      0.769231       0       0                     1  \n",
       "1     390      0.646154       0       0                     1  \n",
       "2     390      0.519231       0       0                     1  \n",
       "3     390      0.388462       0       0                     1  \n",
       "4     390      0.253846       0       0                     1  "
      ]
     },
     "execution_count": 46,
     "metadata": {},
     "output_type": "execute_result"
    }
   ],
   "source": [
    "data = pd.read_csv('Occupancy_Estimation.csv')\n",
    "data.head()"
   ]
  },
  {
   "cell_type": "code",
   "execution_count": 47,
   "metadata": {},
   "outputs": [
    {
     "data": {
      "text/html": [
       "<div>\n",
       "<style scoped>\n",
       "    .dataframe tbody tr th:only-of-type {\n",
       "        vertical-align: middle;\n",
       "    }\n",
       "\n",
       "    .dataframe tbody tr th {\n",
       "        vertical-align: top;\n",
       "    }\n",
       "\n",
       "    .dataframe thead th {\n",
       "        text-align: right;\n",
       "    }\n",
       "</style>\n",
       "<table border=\"1\" class=\"dataframe\">\n",
       "  <thead>\n",
       "    <tr style=\"text-align: right;\">\n",
       "      <th></th>\n",
       "      <th>S1_Temp</th>\n",
       "      <th>S2_Temp</th>\n",
       "      <th>S3_Temp</th>\n",
       "      <th>S4_Temp</th>\n",
       "      <th>S1_Light</th>\n",
       "      <th>S2_Light</th>\n",
       "      <th>S3_Light</th>\n",
       "      <th>S4_Light</th>\n",
       "      <th>S1_Sound</th>\n",
       "      <th>S2_Sound</th>\n",
       "      <th>S3_Sound</th>\n",
       "      <th>S4_Sound</th>\n",
       "      <th>S5_CO2</th>\n",
       "      <th>S5_CO2_Slope</th>\n",
       "      <th>S6_PIR</th>\n",
       "      <th>S7_PIR</th>\n",
       "      <th>Room_Occupancy_Count</th>\n",
       "    </tr>\n",
       "  </thead>\n",
       "  <tbody>\n",
       "    <tr>\n",
       "      <th>S1_Temp</th>\n",
       "      <td>1.000000</td>\n",
       "      <td>0.799707</td>\n",
       "      <td>0.948839</td>\n",
       "      <td>0.855279</td>\n",
       "      <td>0.680743</td>\n",
       "      <td>0.548735</td>\n",
       "      <td>0.645163</td>\n",
       "      <td>0.212217</td>\n",
       "      <td>0.436099</td>\n",
       "      <td>0.391137</td>\n",
       "      <td>0.438769</td>\n",
       "      <td>0.355826</td>\n",
       "      <td>0.866718</td>\n",
       "      <td>0.137391</td>\n",
       "      <td>0.436363</td>\n",
       "      <td>0.474077</td>\n",
       "      <td>0.700868</td>\n",
       "    </tr>\n",
       "    <tr>\n",
       "      <th>S2_Temp</th>\n",
       "      <td>0.799707</td>\n",
       "      <td>1.000000</td>\n",
       "      <td>0.765525</td>\n",
       "      <td>0.696581</td>\n",
       "      <td>0.639773</td>\n",
       "      <td>0.645987</td>\n",
       "      <td>0.607349</td>\n",
       "      <td>0.370897</td>\n",
       "      <td>0.438274</td>\n",
       "      <td>0.409545</td>\n",
       "      <td>0.427133</td>\n",
       "      <td>0.378724</td>\n",
       "      <td>0.743722</td>\n",
       "      <td>0.202547</td>\n",
       "      <td>0.476901</td>\n",
       "      <td>0.465884</td>\n",
       "      <td>0.671263</td>\n",
       "    </tr>\n",
       "    <tr>\n",
       "      <th>S3_Temp</th>\n",
       "      <td>0.948839</td>\n",
       "      <td>0.765525</td>\n",
       "      <td>1.000000</td>\n",
       "      <td>0.885186</td>\n",
       "      <td>0.594311</td>\n",
       "      <td>0.500054</td>\n",
       "      <td>0.642601</td>\n",
       "      <td>0.301419</td>\n",
       "      <td>0.375183</td>\n",
       "      <td>0.344026</td>\n",
       "      <td>0.398177</td>\n",
       "      <td>0.326182</td>\n",
       "      <td>0.821308</td>\n",
       "      <td>0.095842</td>\n",
       "      <td>0.403355</td>\n",
       "      <td>0.460309</td>\n",
       "      <td>0.652047</td>\n",
       "    </tr>\n",
       "    <tr>\n",
       "      <th>S4_Temp</th>\n",
       "      <td>0.855279</td>\n",
       "      <td>0.696581</td>\n",
       "      <td>0.885186</td>\n",
       "      <td>1.000000</td>\n",
       "      <td>0.581482</td>\n",
       "      <td>0.456350</td>\n",
       "      <td>0.588459</td>\n",
       "      <td>0.386871</td>\n",
       "      <td>0.355111</td>\n",
       "      <td>0.312594</td>\n",
       "      <td>0.340808</td>\n",
       "      <td>0.294939</td>\n",
       "      <td>0.650320</td>\n",
       "      <td>0.106208</td>\n",
       "      <td>0.340000</td>\n",
       "      <td>0.339037</td>\n",
       "      <td>0.526509</td>\n",
       "    </tr>\n",
       "    <tr>\n",
       "      <th>S1_Light</th>\n",
       "      <td>0.680743</td>\n",
       "      <td>0.639773</td>\n",
       "      <td>0.594311</td>\n",
       "      <td>0.581482</td>\n",
       "      <td>1.000000</td>\n",
       "      <td>0.842090</td>\n",
       "      <td>0.816438</td>\n",
       "      <td>0.510853</td>\n",
       "      <td>0.601166</td>\n",
       "      <td>0.534274</td>\n",
       "      <td>0.494080</td>\n",
       "      <td>0.441712</td>\n",
       "      <td>0.602740</td>\n",
       "      <td>0.498185</td>\n",
       "      <td>0.607159</td>\n",
       "      <td>0.545213</td>\n",
       "      <td>0.849058</td>\n",
       "    </tr>\n",
       "    <tr>\n",
       "      <th>S2_Light</th>\n",
       "      <td>0.548735</td>\n",
       "      <td>0.645987</td>\n",
       "      <td>0.500054</td>\n",
       "      <td>0.456350</td>\n",
       "      <td>0.842090</td>\n",
       "      <td>1.000000</td>\n",
       "      <td>0.709579</td>\n",
       "      <td>0.458914</td>\n",
       "      <td>0.503021</td>\n",
       "      <td>0.560630</td>\n",
       "      <td>0.439269</td>\n",
       "      <td>0.413932</td>\n",
       "      <td>0.566764</td>\n",
       "      <td>0.493281</td>\n",
       "      <td>0.554658</td>\n",
       "      <td>0.556797</td>\n",
       "      <td>0.788764</td>\n",
       "    </tr>\n",
       "    <tr>\n",
       "      <th>S3_Light</th>\n",
       "      <td>0.645163</td>\n",
       "      <td>0.607349</td>\n",
       "      <td>0.642601</td>\n",
       "      <td>0.588459</td>\n",
       "      <td>0.816438</td>\n",
       "      <td>0.709579</td>\n",
       "      <td>1.000000</td>\n",
       "      <td>0.579484</td>\n",
       "      <td>0.502606</td>\n",
       "      <td>0.434859</td>\n",
       "      <td>0.577151</td>\n",
       "      <td>0.473606</td>\n",
       "      <td>0.650829</td>\n",
       "      <td>0.447708</td>\n",
       "      <td>0.501836</td>\n",
       "      <td>0.577815</td>\n",
       "      <td>0.793081</td>\n",
       "    </tr>\n",
       "    <tr>\n",
       "      <th>S4_Light</th>\n",
       "      <td>0.212217</td>\n",
       "      <td>0.370897</td>\n",
       "      <td>0.301419</td>\n",
       "      <td>0.386871</td>\n",
       "      <td>0.510853</td>\n",
       "      <td>0.458914</td>\n",
       "      <td>0.579484</td>\n",
       "      <td>1.000000</td>\n",
       "      <td>0.293632</td>\n",
       "      <td>0.303949</td>\n",
       "      <td>0.169702</td>\n",
       "      <td>0.200793</td>\n",
       "      <td>0.148608</td>\n",
       "      <td>0.212718</td>\n",
       "      <td>0.324545</td>\n",
       "      <td>0.220196</td>\n",
       "      <td>0.355715</td>\n",
       "    </tr>\n",
       "    <tr>\n",
       "      <th>S1_Sound</th>\n",
       "      <td>0.436099</td>\n",
       "      <td>0.438274</td>\n",
       "      <td>0.375183</td>\n",
       "      <td>0.355111</td>\n",
       "      <td>0.601166</td>\n",
       "      <td>0.503021</td>\n",
       "      <td>0.502606</td>\n",
       "      <td>0.293632</td>\n",
       "      <td>1.000000</td>\n",
       "      <td>0.560062</td>\n",
       "      <td>0.540736</td>\n",
       "      <td>0.557733</td>\n",
       "      <td>0.391903</td>\n",
       "      <td>0.335772</td>\n",
       "      <td>0.522015</td>\n",
       "      <td>0.463040</td>\n",
       "      <td>0.573748</td>\n",
       "    </tr>\n",
       "    <tr>\n",
       "      <th>S2_Sound</th>\n",
       "      <td>0.391137</td>\n",
       "      <td>0.409545</td>\n",
       "      <td>0.344026</td>\n",
       "      <td>0.312594</td>\n",
       "      <td>0.534274</td>\n",
       "      <td>0.560630</td>\n",
       "      <td>0.434859</td>\n",
       "      <td>0.303949</td>\n",
       "      <td>0.560062</td>\n",
       "      <td>1.000000</td>\n",
       "      <td>0.529830</td>\n",
       "      <td>0.578635</td>\n",
       "      <td>0.333836</td>\n",
       "      <td>0.357235</td>\n",
       "      <td>0.485697</td>\n",
       "      <td>0.507231</td>\n",
       "      <td>0.557853</td>\n",
       "    </tr>\n",
       "    <tr>\n",
       "      <th>S3_Sound</th>\n",
       "      <td>0.438769</td>\n",
       "      <td>0.427133</td>\n",
       "      <td>0.398177</td>\n",
       "      <td>0.340808</td>\n",
       "      <td>0.494080</td>\n",
       "      <td>0.439269</td>\n",
       "      <td>0.577151</td>\n",
       "      <td>0.169702</td>\n",
       "      <td>0.540736</td>\n",
       "      <td>0.529830</td>\n",
       "      <td>1.000000</td>\n",
       "      <td>0.696670</td>\n",
       "      <td>0.447220</td>\n",
       "      <td>0.318815</td>\n",
       "      <td>0.434225</td>\n",
       "      <td>0.536820</td>\n",
       "      <td>0.531685</td>\n",
       "    </tr>\n",
       "    <tr>\n",
       "      <th>S4_Sound</th>\n",
       "      <td>0.355826</td>\n",
       "      <td>0.378724</td>\n",
       "      <td>0.326182</td>\n",
       "      <td>0.294939</td>\n",
       "      <td>0.441712</td>\n",
       "      <td>0.413932</td>\n",
       "      <td>0.473606</td>\n",
       "      <td>0.200793</td>\n",
       "      <td>0.557733</td>\n",
       "      <td>0.578635</td>\n",
       "      <td>0.696670</td>\n",
       "      <td>1.000000</td>\n",
       "      <td>0.330629</td>\n",
       "      <td>0.323519</td>\n",
       "      <td>0.394954</td>\n",
       "      <td>0.466848</td>\n",
       "      <td>0.460287</td>\n",
       "    </tr>\n",
       "    <tr>\n",
       "      <th>S5_CO2</th>\n",
       "      <td>0.866718</td>\n",
       "      <td>0.743722</td>\n",
       "      <td>0.821308</td>\n",
       "      <td>0.650320</td>\n",
       "      <td>0.602740</td>\n",
       "      <td>0.566764</td>\n",
       "      <td>0.650829</td>\n",
       "      <td>0.148608</td>\n",
       "      <td>0.391903</td>\n",
       "      <td>0.333836</td>\n",
       "      <td>0.447220</td>\n",
       "      <td>0.330629</td>\n",
       "      <td>1.000000</td>\n",
       "      <td>0.069220</td>\n",
       "      <td>0.395265</td>\n",
       "      <td>0.473437</td>\n",
       "      <td>0.660144</td>\n",
       "    </tr>\n",
       "    <tr>\n",
       "      <th>S5_CO2_Slope</th>\n",
       "      <td>0.137391</td>\n",
       "      <td>0.202547</td>\n",
       "      <td>0.095842</td>\n",
       "      <td>0.106208</td>\n",
       "      <td>0.498185</td>\n",
       "      <td>0.493281</td>\n",
       "      <td>0.447708</td>\n",
       "      <td>0.212718</td>\n",
       "      <td>0.335772</td>\n",
       "      <td>0.357235</td>\n",
       "      <td>0.318815</td>\n",
       "      <td>0.323519</td>\n",
       "      <td>0.069220</td>\n",
       "      <td>1.000000</td>\n",
       "      <td>0.368374</td>\n",
       "      <td>0.425346</td>\n",
       "      <td>0.601105</td>\n",
       "    </tr>\n",
       "    <tr>\n",
       "      <th>S6_PIR</th>\n",
       "      <td>0.436363</td>\n",
       "      <td>0.476901</td>\n",
       "      <td>0.403355</td>\n",
       "      <td>0.340000</td>\n",
       "      <td>0.607159</td>\n",
       "      <td>0.554658</td>\n",
       "      <td>0.501836</td>\n",
       "      <td>0.324545</td>\n",
       "      <td>0.522015</td>\n",
       "      <td>0.485697</td>\n",
       "      <td>0.434225</td>\n",
       "      <td>0.394954</td>\n",
       "      <td>0.395265</td>\n",
       "      <td>0.368374</td>\n",
       "      <td>1.000000</td>\n",
       "      <td>0.571125</td>\n",
       "      <td>0.633133</td>\n",
       "    </tr>\n",
       "    <tr>\n",
       "      <th>S7_PIR</th>\n",
       "      <td>0.474077</td>\n",
       "      <td>0.465884</td>\n",
       "      <td>0.460309</td>\n",
       "      <td>0.339037</td>\n",
       "      <td>0.545213</td>\n",
       "      <td>0.556797</td>\n",
       "      <td>0.577815</td>\n",
       "      <td>0.220196</td>\n",
       "      <td>0.463040</td>\n",
       "      <td>0.507231</td>\n",
       "      <td>0.536820</td>\n",
       "      <td>0.466848</td>\n",
       "      <td>0.473437</td>\n",
       "      <td>0.425346</td>\n",
       "      <td>0.571125</td>\n",
       "      <td>1.000000</td>\n",
       "      <td>0.695138</td>\n",
       "    </tr>\n",
       "    <tr>\n",
       "      <th>Room_Occupancy_Count</th>\n",
       "      <td>0.700868</td>\n",
       "      <td>0.671263</td>\n",
       "      <td>0.652047</td>\n",
       "      <td>0.526509</td>\n",
       "      <td>0.849058</td>\n",
       "      <td>0.788764</td>\n",
       "      <td>0.793081</td>\n",
       "      <td>0.355715</td>\n",
       "      <td>0.573748</td>\n",
       "      <td>0.557853</td>\n",
       "      <td>0.531685</td>\n",
       "      <td>0.460287</td>\n",
       "      <td>0.660144</td>\n",
       "      <td>0.601105</td>\n",
       "      <td>0.633133</td>\n",
       "      <td>0.695138</td>\n",
       "      <td>1.000000</td>\n",
       "    </tr>\n",
       "  </tbody>\n",
       "</table>\n",
       "</div>"
      ],
      "text/plain": [
       "                       S1_Temp   S2_Temp   S3_Temp   S4_Temp  S1_Light  \\\n",
       "S1_Temp               1.000000  0.799707  0.948839  0.855279  0.680743   \n",
       "S2_Temp               0.799707  1.000000  0.765525  0.696581  0.639773   \n",
       "S3_Temp               0.948839  0.765525  1.000000  0.885186  0.594311   \n",
       "S4_Temp               0.855279  0.696581  0.885186  1.000000  0.581482   \n",
       "S1_Light              0.680743  0.639773  0.594311  0.581482  1.000000   \n",
       "S2_Light              0.548735  0.645987  0.500054  0.456350  0.842090   \n",
       "S3_Light              0.645163  0.607349  0.642601  0.588459  0.816438   \n",
       "S4_Light              0.212217  0.370897  0.301419  0.386871  0.510853   \n",
       "S1_Sound              0.436099  0.438274  0.375183  0.355111  0.601166   \n",
       "S2_Sound              0.391137  0.409545  0.344026  0.312594  0.534274   \n",
       "S3_Sound              0.438769  0.427133  0.398177  0.340808  0.494080   \n",
       "S4_Sound              0.355826  0.378724  0.326182  0.294939  0.441712   \n",
       "S5_CO2                0.866718  0.743722  0.821308  0.650320  0.602740   \n",
       "S5_CO2_Slope          0.137391  0.202547  0.095842  0.106208  0.498185   \n",
       "S6_PIR                0.436363  0.476901  0.403355  0.340000  0.607159   \n",
       "S7_PIR                0.474077  0.465884  0.460309  0.339037  0.545213   \n",
       "Room_Occupancy_Count  0.700868  0.671263  0.652047  0.526509  0.849058   \n",
       "\n",
       "                      S2_Light  S3_Light  S4_Light  S1_Sound  S2_Sound  \\\n",
       "S1_Temp               0.548735  0.645163  0.212217  0.436099  0.391137   \n",
       "S2_Temp               0.645987  0.607349  0.370897  0.438274  0.409545   \n",
       "S3_Temp               0.500054  0.642601  0.301419  0.375183  0.344026   \n",
       "S4_Temp               0.456350  0.588459  0.386871  0.355111  0.312594   \n",
       "S1_Light              0.842090  0.816438  0.510853  0.601166  0.534274   \n",
       "S2_Light              1.000000  0.709579  0.458914  0.503021  0.560630   \n",
       "S3_Light              0.709579  1.000000  0.579484  0.502606  0.434859   \n",
       "S4_Light              0.458914  0.579484  1.000000  0.293632  0.303949   \n",
       "S1_Sound              0.503021  0.502606  0.293632  1.000000  0.560062   \n",
       "S2_Sound              0.560630  0.434859  0.303949  0.560062  1.000000   \n",
       "S3_Sound              0.439269  0.577151  0.169702  0.540736  0.529830   \n",
       "S4_Sound              0.413932  0.473606  0.200793  0.557733  0.578635   \n",
       "S5_CO2                0.566764  0.650829  0.148608  0.391903  0.333836   \n",
       "S5_CO2_Slope          0.493281  0.447708  0.212718  0.335772  0.357235   \n",
       "S6_PIR                0.554658  0.501836  0.324545  0.522015  0.485697   \n",
       "S7_PIR                0.556797  0.577815  0.220196  0.463040  0.507231   \n",
       "Room_Occupancy_Count  0.788764  0.793081  0.355715  0.573748  0.557853   \n",
       "\n",
       "                      S3_Sound  S4_Sound    S5_CO2  S5_CO2_Slope    S6_PIR  \\\n",
       "S1_Temp               0.438769  0.355826  0.866718      0.137391  0.436363   \n",
       "S2_Temp               0.427133  0.378724  0.743722      0.202547  0.476901   \n",
       "S3_Temp               0.398177  0.326182  0.821308      0.095842  0.403355   \n",
       "S4_Temp               0.340808  0.294939  0.650320      0.106208  0.340000   \n",
       "S1_Light              0.494080  0.441712  0.602740      0.498185  0.607159   \n",
       "S2_Light              0.439269  0.413932  0.566764      0.493281  0.554658   \n",
       "S3_Light              0.577151  0.473606  0.650829      0.447708  0.501836   \n",
       "S4_Light              0.169702  0.200793  0.148608      0.212718  0.324545   \n",
       "S1_Sound              0.540736  0.557733  0.391903      0.335772  0.522015   \n",
       "S2_Sound              0.529830  0.578635  0.333836      0.357235  0.485697   \n",
       "S3_Sound              1.000000  0.696670  0.447220      0.318815  0.434225   \n",
       "S4_Sound              0.696670  1.000000  0.330629      0.323519  0.394954   \n",
       "S5_CO2                0.447220  0.330629  1.000000      0.069220  0.395265   \n",
       "S5_CO2_Slope          0.318815  0.323519  0.069220      1.000000  0.368374   \n",
       "S6_PIR                0.434225  0.394954  0.395265      0.368374  1.000000   \n",
       "S7_PIR                0.536820  0.466848  0.473437      0.425346  0.571125   \n",
       "Room_Occupancy_Count  0.531685  0.460287  0.660144      0.601105  0.633133   \n",
       "\n",
       "                        S7_PIR  Room_Occupancy_Count  \n",
       "S1_Temp               0.474077              0.700868  \n",
       "S2_Temp               0.465884              0.671263  \n",
       "S3_Temp               0.460309              0.652047  \n",
       "S4_Temp               0.339037              0.526509  \n",
       "S1_Light              0.545213              0.849058  \n",
       "S2_Light              0.556797              0.788764  \n",
       "S3_Light              0.577815              0.793081  \n",
       "S4_Light              0.220196              0.355715  \n",
       "S1_Sound              0.463040              0.573748  \n",
       "S2_Sound              0.507231              0.557853  \n",
       "S3_Sound              0.536820              0.531685  \n",
       "S4_Sound              0.466848              0.460287  \n",
       "S5_CO2                0.473437              0.660144  \n",
       "S5_CO2_Slope          0.425346              0.601105  \n",
       "S6_PIR                0.571125              0.633133  \n",
       "S7_PIR                1.000000              0.695138  \n",
       "Room_Occupancy_Count  0.695138              1.000000  "
      ]
     },
     "execution_count": 47,
     "metadata": {},
     "output_type": "execute_result"
    }
   ],
   "source": [
    "data.corr()"
   ]
  },
  {
   "cell_type": "markdown",
   "metadata": {},
   "source": [
    "### Pulling our Independent (x) and Dependent (y) Variables from the DataFrame"
   ]
  },
  {
   "cell_type": "code",
   "execution_count": 48,
   "metadata": {},
   "outputs": [],
   "source": [
    "# matrix of features x\n",
    "x = data[['S1_Light']].values\n",
    "\n",
    "# array of independent variable y\n",
    "y = data['Room_Occupancy_Count'].values"
   ]
  },
  {
   "cell_type": "code",
   "execution_count": 49,
   "metadata": {},
   "outputs": [
    {
     "name": "stdout",
     "output_type": "stream",
     "text": [
      "[[121]\n",
      " [121]\n",
      " [121]\n",
      " ...\n",
      " [  6]\n",
      " [  6]\n",
      " [  6]]\n"
     ]
    }
   ],
   "source": [
    "print(x)"
   ]
  },
  {
   "cell_type": "code",
   "execution_count": 50,
   "metadata": {},
   "outputs": [
    {
     "name": "stdout",
     "output_type": "stream",
     "text": [
      "[1 1 1 ... 0 0 0]\n"
     ]
    }
   ],
   "source": [
    "print(y)"
   ]
  },
  {
   "cell_type": "markdown",
   "metadata": {},
   "source": [
    "### Splitting the Data Set into Testing and Training Subsets"
   ]
  },
  {
   "cell_type": "code",
   "execution_count": 51,
   "metadata": {},
   "outputs": [],
   "source": [
    "from sklearn.model_selection import train_test_split\n",
    "\n",
    "# create test and train datasets with 0.2 (20%) of the dataset being test data\n",
    "x_train, x_test, y_train, y_test = train_test_split(x, y, test_size = 0.2, random_state = 1)"
   ]
  },
  {
   "cell_type": "markdown",
   "metadata": {},
   "source": [
    "### Creating the Linear Regression Model using Sklearn and Fitting our Training Data to the Model"
   ]
  },
  {
   "cell_type": "code",
   "execution_count": 52,
   "metadata": {},
   "outputs": [
    {
     "data": {
      "text/plain": [
       "LinearRegression()"
      ]
     },
     "execution_count": 52,
     "metadata": {},
     "output_type": "execute_result"
    }
   ],
   "source": [
    "from sklearn.linear_model import LinearRegression\n",
    "\n",
    "# creating the linear regression object\n",
    "regr = LinearRegression()\n",
    "regr.fit(x_train, y_train)"
   ]
  },
  {
   "cell_type": "markdown",
   "metadata": {},
   "source": [
    "### Predicting the Room Occupancy from our Independent Variable Test Set"
   ]
  },
  {
   "cell_type": "code",
   "execution_count": 53,
   "metadata": {},
   "outputs": [
    {
     "data": {
      "text/plain": [
       "array([0.12055646, 0.0165267 , 0.0165267 , ..., 0.0165267 , 0.0165267 ,\n",
       "       0.0165267 ])"
      ]
     },
     "execution_count": 53,
     "metadata": {},
     "output_type": "execute_result"
    }
   ],
   "source": [
    "y_pred = regr.predict(x_test)\n",
    "rows = y_pred.shape[0]\n",
    "predictions = y_pred.reshape((rows, ))\n",
    "y_pred"
   ]
  },
  {
   "cell_type": "markdown",
   "metadata": {},
   "source": [
    "### Finding the Metrics to Analyze the Prediction"
   ]
  },
  {
   "cell_type": "code",
   "execution_count": 54,
   "metadata": {},
   "outputs": [],
   "source": [
    "from sklearn.metrics import mean_squared_error, r2_score"
   ]
  },
  {
   "cell_type": "code",
   "execution_count": 55,
   "metadata": {},
   "outputs": [
    {
     "name": "stdout",
     "output_type": "stream",
     "text": [
      "Coefficients: \n",
      " [0.01486139]\n",
      "Root mean squared error: 0.50\n",
      "Coefficient of determination: 0.70\n"
     ]
    }
   ],
   "source": [
    "# The coefficients\n",
    "print(\"Coefficients: \\n\", regr.coef_)\n",
    "# The mean squared error\n",
    "print(\"Root mean squared error: %.2f\" % mean_squared_error(y_test, y_pred, squared=False))\n",
    "# The coefficient of determination: 1 is perfect prediction\n",
    "print(\"Coefficient of determination: %.2f\" % r2_score(y_test, y_pred))"
   ]
  },
  {
   "cell_type": "code",
   "execution_count": 107,
   "metadata": {},
   "outputs": [],
   "source": [
    "def actual_postprocess(predictions):\n",
    "    # turn the results of predictions into a vector\n",
    "    # sklearn predictions are already a vector, so this is idempotent\n",
    "    rows = predictions.shape[0]\n",
    "    predictions = predictions.reshape((rows, ))\n",
    "    for i in range(len(predictions)):\n",
    "        predictions[i] = round(predictions[i])\n",
    "    return predictions"
   ]
  },
  {
   "cell_type": "code",
   "execution_count": 108,
   "metadata": {},
   "outputs": [
    {
     "data": {
      "text/plain": [
       "array([0., 0., 0., ..., 0., 0., 0.])"
      ]
     },
     "execution_count": 108,
     "metadata": {},
     "output_type": "execute_result"
    }
   ],
   "source": [
    "# y_pred = actual_postprocess(y_pred)\n",
    "# y_pred"
   ]
  },
  {
   "cell_type": "markdown",
   "metadata": {},
   "source": [
    "### Plotting the Linear Regression"
   ]
  },
  {
   "cell_type": "code",
   "execution_count": 58,
   "metadata": {},
   "outputs": [
    {
     "data": {
      "image/png": "[encoded data removed]",
      "text/plain": [
       "<Figure size 640x480 with 1 Axes>"
      ]
     },
     "metadata": {},
     "output_type": "display_data"
    }
   ],
   "source": [
    "plt.scatter(x_test, y_test, color=\"black\")\n",
    "plt.plot(x_test, y_pred, color=\"blue\", linewidth=3)\n",
    "\n",
    "plt.xlabel('S1_Light')\n",
    "plt.ylabel('Room Occupancy')\n",
    "plt.title('Room Occupancy VS S1_Light Sensor')\n",
    "plt.show()"
   ]
  },
  {
   "cell_type": "markdown",
   "metadata": {},
   "source": [
    "### Converting the Sklearn Model into Onnx for use on the Wallaroo Platform"
   ]
  },
  {
   "cell_type": "code",
   "execution_count": 59,
   "metadata": {},
   "outputs": [],
   "source": [
    "# Used to load the sk-learn model\n",
    "import pickle\n",
    "\n",
    "# Used for the conversion process\n",
    "import onnx, skl2onnx, onnxmltools\n",
    "from skl2onnx.common.data_types import FloatTensorType\n",
    "from skl2onnx.common.data_types import DoubleTensorType"
   ]
  },
  {
   "cell_type": "code",
   "execution_count": 60,
   "metadata": {},
   "outputs": [],
   "source": [
    "def model_to_onnx(model, cols, *, input_type='Double'):\n",
    "    input_type_lower=input_type.lower()\n",
    "    # How to manage float values\n",
    "    if input_type=='Double':\n",
    "        tensor_type=DoubleTensorType\n",
    "    elif input_type=='Float':\n",
    "        tensor_type=FloatTensorType\n",
    "    else:\n",
    "        raise ValueError(\"bad input type\")\n",
    "    tensor_size=cols\n",
    "    initial_type=[(f'{input_type_lower}_input', tensor_type([None, tensor_size]))]\n",
    "    onnx_model=onnxmltools.convert_sklearn(model,initial_types=initial_type)\n",
    "    return onnx_model"
   ]
  },
  {
   "cell_type": "code",
   "execution_count": 61,
   "metadata": {},
   "outputs": [],
   "source": [
    "pickle.dump(regr, open('occupancy_model.pickle', 'wb'))"
   ]
  },
  {
   "cell_type": "code",
   "execution_count": 62,
   "metadata": {},
   "outputs": [],
   "source": [
    "sklearn_model = pickle.load(open('occupancy_model.pickle', 'rb'))"
   ]
  },
  {
   "cell_type": "code",
   "execution_count": 63,
   "metadata": {},
   "outputs": [],
   "source": [
    "onnx_model_converted = model_to_onnx(sklearn_model, 1)"
   ]
  },
  {
   "cell_type": "code",
   "execution_count": 64,
   "metadata": {},
   "outputs": [],
   "source": [
    "onnx.save_model(onnx_model_converted, \"occupancy_model.onnx\")"
   ]
  },
  {
   "cell_type": "code",
   "execution_count": 65,
   "metadata": {},
   "outputs": [],
   "source": [
    "import wallaroo"
   ]
  },
  {
   "cell_type": "code",
   "execution_count": 66,
   "metadata": {},
   "outputs": [],
   "source": [
    "wl = wallaroo.Client()"
   ]
  },
  {
   "cell_type": "code",
   "execution_count": 67,
   "metadata": {},
   "outputs": [],
   "source": [
    "workspace_name = 'mnsuproject'\n",
    "pipeline_name = 'occupancypipeline'\n",
    "model_name = 'occupancymodel'\n",
    "model_file_name = 'occupancy_model.onnx'"
   ]
  },
  {
   "cell_type": "code",
   "execution_count": 68,
   "metadata": {},
   "outputs": [],
   "source": [
    "def get_workspace(name):\n",
    "    wl = wallaroo.Client()\n",
    "    workspace = None\n",
    "    for ws in wl.list_workspaces():\n",
    "        if ws.name() == name:\n",
    "            workspace= ws\n",
    "    if(workspace == None):\n",
    "        workspace = wl.create_workspace(name)\n",
    "    return workspace\n",
    "\n",
    "def get_pipeline(name):\n",
    "    wl = wallaroo.Client()\n",
    "    try:\n",
    "        pipeline = wl.pipelines_by_name(pipeline_name)[0]\n",
    "    except EntityNotFoundError:\n",
    "        pipeline = wl.build_pipeline(pipeline_name)\n",
    "    return pipeline"
   ]
  },
  {
   "cell_type": "code",
   "execution_count": 69,
   "metadata": {},
   "outputs": [
    {
     "data": {
      "text/plain": [
       "{'name': 'mnsuproject', 'id': 13, 'archived': False, 'created_by': '5e5c838e-b6db-4c1c-935d-64e91be15b8e', 'created_at': '2022-09-21T20:20:36.547755+00:00', 'models': [{'name': 'occupancymodel', 'version': '45904398-7ce1-4cfe-b01f-91524c8ecba8', 'file_name': 'occupancy_model.onnx', 'image_path': None, 'last_update_time': datetime.datetime(2022, 9, 21, 20, 20, 37, 517983, tzinfo=tzutc())}, {'name': 'occupancymodel', 'version': '303d4175-44ce-4939-a50d-ebccf53e3e36', 'file_name': 'occupancy_model.onnx', 'image_path': None, 'last_update_time': datetime.datetime(2022, 9, 28, 15, 19, 26, 509665, tzinfo=tzutc())}, {'name': 'occupancymodel', 'version': '14d781b4-8f09-43be-835e-6cae3cfe16e9', 'file_name': 'occupancy_model.onnx', 'image_path': None, 'last_update_time': datetime.datetime(2022, 9, 28, 15, 26, 39, 900902, tzinfo=tzutc())}, {'name': 'occupancymodel', 'version': '75687b2b-6246-4565-933c-f57ec9e832d0', 'file_name': 'occupancy_model.onnx', 'image_path': None, 'last_update_time': datetime.datetime(2022, 9, 28, 15, 27, 14, 409271, tzinfo=tzutc())}, {'name': 'occupancymodel', 'version': '843a4b17-44ce-4e4a-aff9-a04fe5ae5d5b', 'file_name': 'occupancy_model.onnx', 'image_path': None, 'last_update_time': datetime.datetime(2022, 9, 28, 15, 27, 17, 133541, tzinfo=tzutc())}, {'name': 'occupancymodel', 'version': '26e01304-ce60-4d3d-84cf-ddf22d1ef031', 'file_name': 'occupancy_model.onnx', 'image_path': None, 'last_update_time': datetime.datetime(2022, 9, 28, 16, 5, 30, 884080, tzinfo=tzutc())}, {'name': 'occupancymodel', 'version': '2fc177bb-295a-41e1-8b30-e8b772c927b5', 'file_name': 'occupancy_model.onnx', 'image_path': None, 'last_update_time': datetime.datetime(2022, 9, 28, 16, 10, 26, 135128, tzinfo=tzutc())}, {'name': 'occupancymodel', 'version': '52f6b14c-70f3-4984-b25a-43fef414ad85', 'file_name': 'occupancy_model.onnx', 'image_path': None, 'last_update_time': datetime.datetime(2022, 9, 28, 16, 12, 11, 410656, tzinfo=tzutc())}, {'name': 'occupancymodel', 'version': '908068c2-6b28-4626-ac0f-7d6830195045', 'file_name': 'occupancy_model.onnx', 'image_path': None, 'last_update_time': datetime.datetime(2022, 9, 28, 16, 13, 36, 578110, tzinfo=tzutc())}, {'name': 'occupancymodel', 'version': 'b86f0c59-72a5-423f-8fab-f0f6403f6b49', 'file_name': 'occupancy_model.onnx', 'image_path': None, 'last_update_time': datetime.datetime(2022, 9, 28, 16, 17, 32, 521642, tzinfo=tzutc())}, {'name': 'occupancymodel', 'version': 'e3556a37-3f42-478d-b94b-39c757ef3c2f', 'file_name': 'occupancy_model.onnx', 'image_path': None, 'last_update_time': datetime.datetime(2022, 9, 28, 16, 18, 16, 53492, tzinfo=tzutc())}, {'name': 'occupancymodel', 'version': '48f0b1fa-22b4-4dcf-a284-48ea0bd2e7c7', 'file_name': 'occupancy_model.onnx', 'image_path': None, 'last_update_time': datetime.datetime(2022, 9, 28, 16, 18, 35, 556111, tzinfo=tzutc())}, {'name': 'occupancymodel', 'version': '902b4d86-916a-49b3-bc25-7910ae214f8b', 'file_name': 'occupancy_model.onnx', 'image_path': None, 'last_update_time': datetime.datetime(2022, 9, 28, 16, 19, 32, 187795, tzinfo=tzutc())}, {'name': 'occupancymodel', 'version': 'ec90b95f-921d-402f-81ea-d24ccb919155', 'file_name': 'occupancy_model.onnx', 'image_path': None, 'last_update_time': datetime.datetime(2022, 9, 28, 16, 25, 11, 35301, tzinfo=tzutc())}, {'name': 'occupancymodel', 'version': '616e7ba0-fa80-4de4-9d76-aa5d330a2817', 'file_name': 'occupancy_model.onnx', 'image_path': None, 'last_update_time': datetime.datetime(2022, 9, 28, 16, 26, 53, 679923, tzinfo=tzutc())}, {'name': 'occupancymodel', 'version': '56f6d996-0f3b-443d-b825-a40bcafa3378', 'file_name': 'occupancy_model.onnx', 'image_path': None, 'last_update_time': datetime.datetime(2022, 9, 28, 16, 28, 18, 234037, tzinfo=tzutc())}, {'name': 'occupancymodel', 'version': '6ccf400e-418b-483e-93b1-96ed7ca688a1', 'file_name': 'occupancy_model.onnx', 'image_path': None, 'last_update_time': datetime.datetime(2022, 9, 28, 16, 33, 0, 406314, tzinfo=tzutc())}, {'name': 'postprocess', 'version': 'bfeeb7ef-2509-4da5-965f-a089c50044d2', 'file_name': 'postprocess.py', 'image_path': None, 'last_update_time': datetime.datetime(2022, 9, 28, 16, 10, 26, 278112, tzinfo=tzutc())}, {'name': 'postprocess', 'version': '0c2da61b-5677-4cdc-a29f-a170c76c3e4b', 'file_name': 'postprocess.py', 'image_path': None, 'last_update_time': datetime.datetime(2022, 9, 28, 16, 12, 11, 525542, tzinfo=tzutc())}, {'name': 'postprocess', 'version': 'ba9760fe-4c05-4073-9c4b-6f93a413bfb6', 'file_name': 'postprocess.py', 'image_path': None, 'last_update_time': datetime.datetime(2022, 9, 28, 16, 13, 36, 691197, tzinfo=tzutc())}, {'name': 'postprocess', 'version': '82b16f27-e66b-4f52-9d91-3060d7daebed', 'file_name': 'postprocess.py', 'image_path': None, 'last_update_time': datetime.datetime(2022, 9, 28, 16, 17, 32, 629053, tzinfo=tzutc())}, {'name': 'postprocess', 'version': 'ea7e1d95-3395-41bf-9950-f4749ebb9697', 'file_name': 'postprocess.py', 'image_path': None, 'last_update_time': datetime.datetime(2022, 9, 28, 16, 18, 16, 180172, tzinfo=tzutc())}, {'name': 'postprocess', 'version': '96379c4d-c5f8-4aa2-bda6-514f9586ba11', 'file_name': 'postprocess.py', 'image_path': None, 'last_update_time': datetime.datetime(2022, 9, 28, 16, 18, 35, 668526, tzinfo=tzutc())}, {'name': 'postprocess', 'version': 'fa76d090-ebaa-4614-b034-f4940563ef49', 'file_name': 'postprocess.py', 'image_path': None, 'last_update_time': datetime.datetime(2022, 9, 28, 16, 25, 11, 155826, tzinfo=tzutc())}, {'name': 'postprocess', 'version': 'eac38455-aa29-49d3-9e1a-3598afdbdd5f', 'file_name': 'postprocess.py', 'image_path': None, 'last_update_time': datetime.datetime(2022, 9, 28, 16, 26, 53, 800925, tzinfo=tzutc())}, {'name': 'postprocess', 'version': 'f801d03c-0f69-43f9-a9ab-cd4e617ebed5', 'file_name': 'postprocess.py', 'image_path': None, 'last_update_time': datetime.datetime(2022, 9, 28, 16, 28, 18, 357203, tzinfo=tzutc())}, {'name': 'postprocess', 'version': '9dac44bd-fb3f-45d7-9358-25a41393be0c', 'file_name': 'postprocess.py', 'image_path': None, 'last_update_time': datetime.datetime(2022, 9, 28, 16, 33, 0, 584886, tzinfo=tzutc())}], 'pipelines': [{'name': 'occupancypipeline', 'create_time': datetime.datetime(2022, 9, 21, 20, 20, 37, 684974, tzinfo=tzutc()), 'definition': '[]'}]}"
      ]
     },
     "execution_count": 69,
     "metadata": {},
     "output_type": "execute_result"
    }
   ],
   "source": [
    "workspace = get_workspace(workspace_name)\n",
    "\n",
    "wl.set_current_workspace(workspace)"
   ]
  },
  {
   "cell_type": "code",
   "execution_count": 70,
   "metadata": {},
   "outputs": [
    {
     "data": {
      "text/html": [
       "\n",
       "        <table>\n",
       "            <tr>\n",
       "                <th>Name</th>\n",
       "                <th>Created At</th>\n",
       "                <th>Users</th>\n",
       "                <th>Models</th>\n",
       "                <th>Pipelines</th>\n",
       "            </tr>\n",
       "            \n",
       "        <tr >\n",
       "            <td>v-dylan.moore@wallaroo.ai - Default Workspace</td>\n",
       "            <td>2022-09-02 21:39:41</td>\n",
       "            <td>['v-dylan.moore@wallaroo.ai', 'v-samuel.baeyen@wallaroo.ai', 'v-joseph.bigger@wallaroo.ai', 'v-jit.bhakta@wallaroo.ai', 'v-nathaniel.bursch@wallaroo.ai']</td>\n",
       "            <td>1</td>\n",
       "            <td>0</td>\n",
       "        </tr>\n",
       "        \n",
       "\n",
       "        <tr >\n",
       "            <td>testautoconversion</td>\n",
       "            <td>2022-09-21 15:04:52</td>\n",
       "            <td>['v-joseph.bigger@wallaroo.ai', 'v-jit.bhakta@wallaroo.ai', 'v-dylan.moore@wallaroo.ai', 'v-samuel.baeyen@wallaroo.ai', 'v-nathaniel.bursch@wallaroo.ai']</td>\n",
       "            <td>23</td>\n",
       "            <td>3</td>\n",
       "        </tr>\n",
       "        \n",
       "\n",
       "        <tr >\n",
       "            <td>mnsuproject</td>\n",
       "            <td>2022-09-21 20:20:36</td>\n",
       "            <td>['v-dylan.moore@wallaroo.ai', 'v-samuel.baeyen@wallaroo.ai', 'v-nathaniel.bursch@wallaroo.ai', 'v-joseph.bigger@wallaroo.ai', 'v-jit.bhakta@wallaroo.ai']</td>\n",
       "            <td>27</td>\n",
       "            <td>1</td>\n",
       "        </tr>\n",
       "        \n",
       "        </table>\n",
       "        "
      ],
      "text/plain": [
       "[{'name': 'v-dylan.moore@wallaroo.ai - Default Workspace', 'id': 1, 'archived': False, 'created_by': '5e5c838e-b6db-4c1c-935d-64e91be15b8e', 'created_at': '2022-09-02T21:39:41.313648+00:00', 'models': [{'name': 'lm-test', 'version': 'cde39aed-9c8e-4a38-85d8-7d0be75a7cda', 'file_name': '77be5153-cce8-4827-aa12-be63e757dd36-converted.onnx', 'image_path': None, 'last_update_time': datetime.datetime(2022, 9, 21, 15, 25, 31, 223511, tzinfo=tzutc())}], 'pipelines': []},\n",
       " {'name': 'testautoconversion', 'id': 7, 'archived': False, 'created_by': '15716047-e288-4631-b1a3-b5ae5a2eeb6d', 'created_at': '2022-09-21T15:04:52.908889+00:00', 'models': [{'name': 'lm-test', 'version': 'd6ca80d3-186e-4689-855c-46fee2195db9', 'file_name': '85ce7b77-2659-4db2-9ba8-e72b9c322373-converted.onnx', 'image_path': None, 'last_update_time': datetime.datetime(2022, 9, 21, 15, 16, 33, 327108, tzinfo=tzutc())}, {'name': 'occupancysam', 'version': '5e730092-de08-4c6c-ac3f-ea4eea0d2b59', 'file_name': 'occupancy.onnx', 'image_path': None, 'last_update_time': datetime.datetime(2022, 9, 21, 17, 12, 25, 591446, tzinfo=tzutc())}, {'name': 'occupancysam', 'version': '7bcb93d0-021a-43f2-a371-dc2313cf5059', 'file_name': 'occupancy.onnx', 'image_path': None, 'last_update_time': datetime.datetime(2022, 9, 21, 17, 17, 4, 288347, tzinfo=tzutc())}, {'name': 'occupancysam', 'version': 'f448f86c-3694-424c-9cf8-d75a9431ec3e', 'file_name': 'occupancy.onnx', 'image_path': None, 'last_update_time': datetime.datetime(2022, 9, 21, 17, 19, 50, 751812, tzinfo=tzutc())}, {'name': 'occupancy', 'version': '74817c84-27a6-475d-9184-4ec72f88c177', 'file_name': 'occupancy.onnx', 'image_path': None, 'last_update_time': datetime.datetime(2022, 9, 21, 17, 21, 56, 390527, tzinfo=tzutc())}, {'name': 'occupancy', 'version': '6f69476a-e4e2-498f-8fd6-6595aa8b2335', 'file_name': 'occupancy.onnx', 'image_path': None, 'last_update_time': datetime.datetime(2022, 9, 21, 17, 39, 54, 44706, tzinfo=tzutc())}, {'name': 'occupancymodel', 'version': 'ca7d23c2-dd07-48cc-8192-475ad9777bbe', 'file_name': 'occupancy_model.onnx', 'image_path': None, 'last_update_time': datetime.datetime(2022, 9, 21, 15, 33, 33, 173341, tzinfo=tzutc())}, {'name': 'occupancymodel', 'version': '416cfc45-ef4d-43bb-9ba9-f8f175413042', 'file_name': 'occupancy_model.onnx', 'image_path': None, 'last_update_time': datetime.datetime(2022, 9, 21, 15, 33, 43, 5656, tzinfo=tzutc())}, {'name': 'occupancymodel', 'version': 'bcda1082-a4b3-45b3-8c5c-adc31c5b07a4', 'file_name': 'occupancy_model.onnx', 'image_path': None, 'last_update_time': datetime.datetime(2022, 9, 21, 15, 54, 52, 163356, tzinfo=tzutc())}, {'name': 'occupancymodel', 'version': '22ac6454-89d9-444c-9f58-0a0e68e512e2', 'file_name': 'occupancy_model.onnx', 'image_path': None, 'last_update_time': datetime.datetime(2022, 9, 21, 16, 13, 28, 456300, tzinfo=tzutc())}, {'name': 'occupancymodel', 'version': 'be24d430-78db-4c18-acb5-143935375c01', 'file_name': 'occupancy_model.onnx', 'image_path': None, 'last_update_time': datetime.datetime(2022, 9, 21, 16, 27, 10, 572124, tzinfo=tzutc())}, {'name': 'occupancymodel', 'version': 'd3dd51df-fe21-4ecd-95da-6eb3b5e7815e', 'file_name': 'occupancy_model.onnx', 'image_path': None, 'last_update_time': datetime.datetime(2022, 9, 21, 18, 22, 11, 535528, tzinfo=tzutc())}, {'name': 'houserent', 'version': '444d7258-9ac1-4668-be34-b56129198654', 'file_name': 'HouseRent.onnx', 'image_path': None, 'last_update_time': datetime.datetime(2022, 9, 21, 16, 9, 12, 85450, tzinfo=tzutc())}, {'name': 'houserent', 'version': 'c81ee3c6-fde4-4c0b-8e3a-fcde6ab07c46', 'file_name': 'HouseRent.onnx', 'image_path': None, 'last_update_time': datetime.datetime(2022, 9, 21, 16, 9, 36, 579643, tzinfo=tzutc())}, {'name': 'houserent', 'version': 'fc65bfd9-45a6-4513-b960-7a7ab54e2146', 'file_name': 'houserent.onnx', 'image_path': None, 'last_update_time': datetime.datetime(2022, 9, 21, 16, 11, 37, 189421, tzinfo=tzutc())}, {'name': 'houserent', 'version': '79d9e21b-f634-4d59-854e-62937efeb480', 'file_name': 'houserent.onnx', 'image_path': None, 'last_update_time': datetime.datetime(2022, 9, 21, 16, 12, 4, 833019, tzinfo=tzutc())}, {'name': 'houserent', 'version': '3735932c-d112-425e-bba1-9399d8fc789a', 'file_name': 'houserent.onnx', 'image_path': None, 'last_update_time': datetime.datetime(2022, 9, 21, 16, 26, 50, 820067, tzinfo=tzutc())}, {'name': 'houserent', 'version': 'aa74c723-d127-4f57-a55c-289381fb7a9b', 'file_name': 'houserent.onnx', 'image_path': None, 'last_update_time': datetime.datetime(2022, 9, 21, 16, 28, 14, 236463, tzinfo=tzutc())}, {'name': 'houserent', 'version': 'd324cebd-60af-4e0b-aae2-bf7c235943d5', 'file_name': 'houserent.onnx', 'image_path': None, 'last_update_time': datetime.datetime(2022, 9, 21, 17, 33, 31, 410152, tzinfo=tzutc())}, {'name': 'houserent', 'version': '94a49581-32e7-4b3b-a5d6-98ad8ecc7fe9', 'file_name': 'houserent.onnx', 'image_path': None, 'last_update_time': datetime.datetime(2022, 9, 21, 17, 34, 6, 63865, tzinfo=tzutc())}, {'name': 'houserent', 'version': 'e77e2cc6-cf8d-4dbb-9355-9ca8309407bb', 'file_name': 'houserent.onnx', 'image_path': None, 'last_update_time': datetime.datetime(2022, 9, 21, 17, 35, 5, 413521, tzinfo=tzutc())}, {'name': 'houserent', 'version': '47a871cf-dda7-4e40-b2fa-1442c819010e', 'file_name': 'houserent.onnx', 'image_path': None, 'last_update_time': datetime.datetime(2022, 9, 21, 17, 37, 56, 540132, tzinfo=tzutc())}, {'name': 'houserent', 'version': '0d248778-528f-460a-9efb-c3265856c064', 'file_name': 'houserent.onnx', 'image_path': None, 'last_update_time': datetime.datetime(2022, 9, 21, 21, 31, 31, 149130, tzinfo=tzutc())}], 'pipelines': [{'name': 'occupancypipeline', 'create_time': datetime.datetime(2022, 9, 21, 15, 34, 13, 981267, tzinfo=tzutc()), 'definition': '[]'}, {'name': 'jeet-houserent-pipeline', 'create_time': datetime.datetime(2022, 9, 21, 16, 14, 56, 213389, tzinfo=tzutc()), 'definition': '[]'}, {'name': 'occupancypiplinesam', 'create_time': datetime.datetime(2022, 9, 21, 17, 14, 9, 582507, tzinfo=tzutc()), 'definition': '[]'}]},\n",
       " {'name': 'mnsuproject', 'id': 13, 'archived': False, 'created_by': '5e5c838e-b6db-4c1c-935d-64e91be15b8e', 'created_at': '2022-09-21T20:20:36.547755+00:00', 'models': [{'name': 'occupancymodel', 'version': '45904398-7ce1-4cfe-b01f-91524c8ecba8', 'file_name': 'occupancy_model.onnx', 'image_path': None, 'last_update_time': datetime.datetime(2022, 9, 21, 20, 20, 37, 517983, tzinfo=tzutc())}, {'name': 'occupancymodel', 'version': '303d4175-44ce-4939-a50d-ebccf53e3e36', 'file_name': 'occupancy_model.onnx', 'image_path': None, 'last_update_time': datetime.datetime(2022, 9, 28, 15, 19, 26, 509665, tzinfo=tzutc())}, {'name': 'occupancymodel', 'version': '14d781b4-8f09-43be-835e-6cae3cfe16e9', 'file_name': 'occupancy_model.onnx', 'image_path': None, 'last_update_time': datetime.datetime(2022, 9, 28, 15, 26, 39, 900902, tzinfo=tzutc())}, {'name': 'occupancymodel', 'version': '75687b2b-6246-4565-933c-f57ec9e832d0', 'file_name': 'occupancy_model.onnx', 'image_path': None, 'last_update_time': datetime.datetime(2022, 9, 28, 15, 27, 14, 409271, tzinfo=tzutc())}, {'name': 'occupancymodel', 'version': '843a4b17-44ce-4e4a-aff9-a04fe5ae5d5b', 'file_name': 'occupancy_model.onnx', 'image_path': None, 'last_update_time': datetime.datetime(2022, 9, 28, 15, 27, 17, 133541, tzinfo=tzutc())}, {'name': 'occupancymodel', 'version': '26e01304-ce60-4d3d-84cf-ddf22d1ef031', 'file_name': 'occupancy_model.onnx', 'image_path': None, 'last_update_time': datetime.datetime(2022, 9, 28, 16, 5, 30, 884080, tzinfo=tzutc())}, {'name': 'occupancymodel', 'version': '2fc177bb-295a-41e1-8b30-e8b772c927b5', 'file_name': 'occupancy_model.onnx', 'image_path': None, 'last_update_time': datetime.datetime(2022, 9, 28, 16, 10, 26, 135128, tzinfo=tzutc())}, {'name': 'occupancymodel', 'version': '52f6b14c-70f3-4984-b25a-43fef414ad85', 'file_name': 'occupancy_model.onnx', 'image_path': None, 'last_update_time': datetime.datetime(2022, 9, 28, 16, 12, 11, 410656, tzinfo=tzutc())}, {'name': 'occupancymodel', 'version': '908068c2-6b28-4626-ac0f-7d6830195045', 'file_name': 'occupancy_model.onnx', 'image_path': None, 'last_update_time': datetime.datetime(2022, 9, 28, 16, 13, 36, 578110, tzinfo=tzutc())}, {'name': 'occupancymodel', 'version': 'b86f0c59-72a5-423f-8fab-f0f6403f6b49', 'file_name': 'occupancy_model.onnx', 'image_path': None, 'last_update_time': datetime.datetime(2022, 9, 28, 16, 17, 32, 521642, tzinfo=tzutc())}, {'name': 'occupancymodel', 'version': 'e3556a37-3f42-478d-b94b-39c757ef3c2f', 'file_name': 'occupancy_model.onnx', 'image_path': None, 'last_update_time': datetime.datetime(2022, 9, 28, 16, 18, 16, 53492, tzinfo=tzutc())}, {'name': 'occupancymodel', 'version': '48f0b1fa-22b4-4dcf-a284-48ea0bd2e7c7', 'file_name': 'occupancy_model.onnx', 'image_path': None, 'last_update_time': datetime.datetime(2022, 9, 28, 16, 18, 35, 556111, tzinfo=tzutc())}, {'name': 'occupancymodel', 'version': '902b4d86-916a-49b3-bc25-7910ae214f8b', 'file_name': 'occupancy_model.onnx', 'image_path': None, 'last_update_time': datetime.datetime(2022, 9, 28, 16, 19, 32, 187795, tzinfo=tzutc())}, {'name': 'occupancymodel', 'version': 'ec90b95f-921d-402f-81ea-d24ccb919155', 'file_name': 'occupancy_model.onnx', 'image_path': None, 'last_update_time': datetime.datetime(2022, 9, 28, 16, 25, 11, 35301, tzinfo=tzutc())}, {'name': 'occupancymodel', 'version': '616e7ba0-fa80-4de4-9d76-aa5d330a2817', 'file_name': 'occupancy_model.onnx', 'image_path': None, 'last_update_time': datetime.datetime(2022, 9, 28, 16, 26, 53, 679923, tzinfo=tzutc())}, {'name': 'occupancymodel', 'version': '56f6d996-0f3b-443d-b825-a40bcafa3378', 'file_name': 'occupancy_model.onnx', 'image_path': None, 'last_update_time': datetime.datetime(2022, 9, 28, 16, 28, 18, 234037, tzinfo=tzutc())}, {'name': 'occupancymodel', 'version': '6ccf400e-418b-483e-93b1-96ed7ca688a1', 'file_name': 'occupancy_model.onnx', 'image_path': None, 'last_update_time': datetime.datetime(2022, 9, 28, 16, 33, 0, 406314, tzinfo=tzutc())}, {'name': 'postprocess', 'version': 'bfeeb7ef-2509-4da5-965f-a089c50044d2', 'file_name': 'postprocess.py', 'image_path': None, 'last_update_time': datetime.datetime(2022, 9, 28, 16, 10, 26, 278112, tzinfo=tzutc())}, {'name': 'postprocess', 'version': '0c2da61b-5677-4cdc-a29f-a170c76c3e4b', 'file_name': 'postprocess.py', 'image_path': None, 'last_update_time': datetime.datetime(2022, 9, 28, 16, 12, 11, 525542, tzinfo=tzutc())}, {'name': 'postprocess', 'version': 'ba9760fe-4c05-4073-9c4b-6f93a413bfb6', 'file_name': 'postprocess.py', 'image_path': None, 'last_update_time': datetime.datetime(2022, 9, 28, 16, 13, 36, 691197, tzinfo=tzutc())}, {'name': 'postprocess', 'version': '82b16f27-e66b-4f52-9d91-3060d7daebed', 'file_name': 'postprocess.py', 'image_path': None, 'last_update_time': datetime.datetime(2022, 9, 28, 16, 17, 32, 629053, tzinfo=tzutc())}, {'name': 'postprocess', 'version': 'ea7e1d95-3395-41bf-9950-f4749ebb9697', 'file_name': 'postprocess.py', 'image_path': None, 'last_update_time': datetime.datetime(2022, 9, 28, 16, 18, 16, 180172, tzinfo=tzutc())}, {'name': 'postprocess', 'version': '96379c4d-c5f8-4aa2-bda6-514f9586ba11', 'file_name': 'postprocess.py', 'image_path': None, 'last_update_time': datetime.datetime(2022, 9, 28, 16, 18, 35, 668526, tzinfo=tzutc())}, {'name': 'postprocess', 'version': 'fa76d090-ebaa-4614-b034-f4940563ef49', 'file_name': 'postprocess.py', 'image_path': None, 'last_update_time': datetime.datetime(2022, 9, 28, 16, 25, 11, 155826, tzinfo=tzutc())}, {'name': 'postprocess', 'version': 'eac38455-aa29-49d3-9e1a-3598afdbdd5f', 'file_name': 'postprocess.py', 'image_path': None, 'last_update_time': datetime.datetime(2022, 9, 28, 16, 26, 53, 800925, tzinfo=tzutc())}, {'name': 'postprocess', 'version': 'f801d03c-0f69-43f9-a9ab-cd4e617ebed5', 'file_name': 'postprocess.py', 'image_path': None, 'last_update_time': datetime.datetime(2022, 9, 28, 16, 28, 18, 357203, tzinfo=tzutc())}, {'name': 'postprocess', 'version': '9dac44bd-fb3f-45d7-9358-25a41393be0c', 'file_name': 'postprocess.py', 'image_path': None, 'last_update_time': datetime.datetime(2022, 9, 28, 16, 33, 0, 584886, tzinfo=tzutc())}], 'pipelines': [{'name': 'occupancypipeline', 'create_time': datetime.datetime(2022, 9, 21, 20, 20, 37, 684974, tzinfo=tzutc()), 'definition': '[]'}]}]"
      ]
     },
     "execution_count": 70,
     "metadata": {},
     "output_type": "execute_result"
    }
   ],
   "source": [
    "wl.list_workspaces()"
   ]
  },
  {
   "cell_type": "code",
   "execution_count": 71,
   "metadata": {},
   "outputs": [
    {
     "data": {
      "text/plain": [
       "{'name': 'mnsuproject', 'id': 13, 'archived': False, 'created_by': '5e5c838e-b6db-4c1c-935d-64e91be15b8e', 'created_at': '2022-09-21T20:20:36.547755+00:00', 'models': [{'name': 'occupancymodel', 'version': '45904398-7ce1-4cfe-b01f-91524c8ecba8', 'file_name': 'occupancy_model.onnx', 'image_path': None, 'last_update_time': datetime.datetime(2022, 9, 21, 20, 20, 37, 517983, tzinfo=tzutc())}, {'name': 'occupancymodel', 'version': '303d4175-44ce-4939-a50d-ebccf53e3e36', 'file_name': 'occupancy_model.onnx', 'image_path': None, 'last_update_time': datetime.datetime(2022, 9, 28, 15, 19, 26, 509665, tzinfo=tzutc())}, {'name': 'occupancymodel', 'version': '14d781b4-8f09-43be-835e-6cae3cfe16e9', 'file_name': 'occupancy_model.onnx', 'image_path': None, 'last_update_time': datetime.datetime(2022, 9, 28, 15, 26, 39, 900902, tzinfo=tzutc())}, {'name': 'occupancymodel', 'version': '75687b2b-6246-4565-933c-f57ec9e832d0', 'file_name': 'occupancy_model.onnx', 'image_path': None, 'last_update_time': datetime.datetime(2022, 9, 28, 15, 27, 14, 409271, tzinfo=tzutc())}, {'name': 'occupancymodel', 'version': '843a4b17-44ce-4e4a-aff9-a04fe5ae5d5b', 'file_name': 'occupancy_model.onnx', 'image_path': None, 'last_update_time': datetime.datetime(2022, 9, 28, 15, 27, 17, 133541, tzinfo=tzutc())}, {'name': 'occupancymodel', 'version': '26e01304-ce60-4d3d-84cf-ddf22d1ef031', 'file_name': 'occupancy_model.onnx', 'image_path': None, 'last_update_time': datetime.datetime(2022, 9, 28, 16, 5, 30, 884080, tzinfo=tzutc())}, {'name': 'occupancymodel', 'version': '2fc177bb-295a-41e1-8b30-e8b772c927b5', 'file_name': 'occupancy_model.onnx', 'image_path': None, 'last_update_time': datetime.datetime(2022, 9, 28, 16, 10, 26, 135128, tzinfo=tzutc())}, {'name': 'occupancymodel', 'version': '52f6b14c-70f3-4984-b25a-43fef414ad85', 'file_name': 'occupancy_model.onnx', 'image_path': None, 'last_update_time': datetime.datetime(2022, 9, 28, 16, 12, 11, 410656, tzinfo=tzutc())}, {'name': 'occupancymodel', 'version': '908068c2-6b28-4626-ac0f-7d6830195045', 'file_name': 'occupancy_model.onnx', 'image_path': None, 'last_update_time': datetime.datetime(2022, 9, 28, 16, 13, 36, 578110, tzinfo=tzutc())}, {'name': 'occupancymodel', 'version': 'b86f0c59-72a5-423f-8fab-f0f6403f6b49', 'file_name': 'occupancy_model.onnx', 'image_path': None, 'last_update_time': datetime.datetime(2022, 9, 28, 16, 17, 32, 521642, tzinfo=tzutc())}, {'name': 'occupancymodel', 'version': 'e3556a37-3f42-478d-b94b-39c757ef3c2f', 'file_name': 'occupancy_model.onnx', 'image_path': None, 'last_update_time': datetime.datetime(2022, 9, 28, 16, 18, 16, 53492, tzinfo=tzutc())}, {'name': 'occupancymodel', 'version': '48f0b1fa-22b4-4dcf-a284-48ea0bd2e7c7', 'file_name': 'occupancy_model.onnx', 'image_path': None, 'last_update_time': datetime.datetime(2022, 9, 28, 16, 18, 35, 556111, tzinfo=tzutc())}, {'name': 'occupancymodel', 'version': '902b4d86-916a-49b3-bc25-7910ae214f8b', 'file_name': 'occupancy_model.onnx', 'image_path': None, 'last_update_time': datetime.datetime(2022, 9, 28, 16, 19, 32, 187795, tzinfo=tzutc())}, {'name': 'occupancymodel', 'version': 'ec90b95f-921d-402f-81ea-d24ccb919155', 'file_name': 'occupancy_model.onnx', 'image_path': None, 'last_update_time': datetime.datetime(2022, 9, 28, 16, 25, 11, 35301, tzinfo=tzutc())}, {'name': 'occupancymodel', 'version': '616e7ba0-fa80-4de4-9d76-aa5d330a2817', 'file_name': 'occupancy_model.onnx', 'image_path': None, 'last_update_time': datetime.datetime(2022, 9, 28, 16, 26, 53, 679923, tzinfo=tzutc())}, {'name': 'occupancymodel', 'version': '56f6d996-0f3b-443d-b825-a40bcafa3378', 'file_name': 'occupancy_model.onnx', 'image_path': None, 'last_update_time': datetime.datetime(2022, 9, 28, 16, 28, 18, 234037, tzinfo=tzutc())}, {'name': 'occupancymodel', 'version': '6ccf400e-418b-483e-93b1-96ed7ca688a1', 'file_name': 'occupancy_model.onnx', 'image_path': None, 'last_update_time': datetime.datetime(2022, 9, 28, 16, 33, 0, 406314, tzinfo=tzutc())}, {'name': 'postprocess', 'version': 'bfeeb7ef-2509-4da5-965f-a089c50044d2', 'file_name': 'postprocess.py', 'image_path': None, 'last_update_time': datetime.datetime(2022, 9, 28, 16, 10, 26, 278112, tzinfo=tzutc())}, {'name': 'postprocess', 'version': '0c2da61b-5677-4cdc-a29f-a170c76c3e4b', 'file_name': 'postprocess.py', 'image_path': None, 'last_update_time': datetime.datetime(2022, 9, 28, 16, 12, 11, 525542, tzinfo=tzutc())}, {'name': 'postprocess', 'version': 'ba9760fe-4c05-4073-9c4b-6f93a413bfb6', 'file_name': 'postprocess.py', 'image_path': None, 'last_update_time': datetime.datetime(2022, 9, 28, 16, 13, 36, 691197, tzinfo=tzutc())}, {'name': 'postprocess', 'version': '82b16f27-e66b-4f52-9d91-3060d7daebed', 'file_name': 'postprocess.py', 'image_path': None, 'last_update_time': datetime.datetime(2022, 9, 28, 16, 17, 32, 629053, tzinfo=tzutc())}, {'name': 'postprocess', 'version': 'ea7e1d95-3395-41bf-9950-f4749ebb9697', 'file_name': 'postprocess.py', 'image_path': None, 'last_update_time': datetime.datetime(2022, 9, 28, 16, 18, 16, 180172, tzinfo=tzutc())}, {'name': 'postprocess', 'version': '96379c4d-c5f8-4aa2-bda6-514f9586ba11', 'file_name': 'postprocess.py', 'image_path': None, 'last_update_time': datetime.datetime(2022, 9, 28, 16, 18, 35, 668526, tzinfo=tzutc())}, {'name': 'postprocess', 'version': 'fa76d090-ebaa-4614-b034-f4940563ef49', 'file_name': 'postprocess.py', 'image_path': None, 'last_update_time': datetime.datetime(2022, 9, 28, 16, 25, 11, 155826, tzinfo=tzutc())}, {'name': 'postprocess', 'version': 'eac38455-aa29-49d3-9e1a-3598afdbdd5f', 'file_name': 'postprocess.py', 'image_path': None, 'last_update_time': datetime.datetime(2022, 9, 28, 16, 26, 53, 800925, tzinfo=tzutc())}, {'name': 'postprocess', 'version': 'f801d03c-0f69-43f9-a9ab-cd4e617ebed5', 'file_name': 'postprocess.py', 'image_path': None, 'last_update_time': datetime.datetime(2022, 9, 28, 16, 28, 18, 357203, tzinfo=tzutc())}, {'name': 'postprocess', 'version': '9dac44bd-fb3f-45d7-9358-25a41393be0c', 'file_name': 'postprocess.py', 'image_path': None, 'last_update_time': datetime.datetime(2022, 9, 28, 16, 33, 0, 584886, tzinfo=tzutc())}], 'pipelines': [{'name': 'occupancypipeline', 'create_time': datetime.datetime(2022, 9, 21, 20, 20, 37, 684974, tzinfo=tzutc()), 'definition': '[]'}]}"
      ]
     },
     "execution_count": 71,
     "metadata": {},
     "output_type": "execute_result"
    }
   ],
   "source": [
    "wl.set_current_workspace(workspace)\n",
    "wl.get_current_workspace()"
   ]
  },
  {
   "cell_type": "code",
   "execution_count": 72,
   "metadata": {},
   "outputs": [],
   "source": [
    "occupancy_model = wl.upload_model(model_name, model_file_name).configure()\n",
    "module_post = wl.upload_model(\"postprocess\", \"./postprocess.py\").configure('python')"
   ]
  },
  {
   "cell_type": "code",
   "execution_count": 73,
   "metadata": {},
   "outputs": [],
   "source": [
    "# wl.list_models()"
   ]
  },
  {
   "cell_type": "code",
   "execution_count": 74,
   "metadata": {},
   "outputs": [],
   "source": [
    "occupancy_pipeline = wl.build_pipeline(pipeline_name)"
   ]
  },
  {
   "cell_type": "code",
   "execution_count": 75,
   "metadata": {},
   "outputs": [
    {
     "data": {
      "text/html": [
       "<table><tr><th>name</th> <td>occupancypipeline</td></tr><tr><th>created</th> <td>2022-09-21 20:20:37.684974+00:00</td></tr><tr><th>last_updated</th> <td>2022-09-28 16:33:13.966898+00:00</td></tr><tr><th>deployed</th> <td>True</td></tr><tr><th>tags</th> <td></td></tr><tr><th>steps</th> <td>occupancymodel</td></tr></table>"
      ],
      "text/plain": [
       "{'name': 'occupancypipeline', 'create_time': datetime.datetime(2022, 9, 21, 20, 20, 37, 684974, tzinfo=tzutc()), 'definition': \"[{'ModelInference': {'models': [{'name': 'occupancymodel', 'version': '34c71085-c4c9-4c47-a603-c7ce2dd4f6a9', 'sha': '6f71ee4487124f5b4e10a98759dda0424310029293e9c29cbd1fe89c027bfb5d'}]}}]\"}"
      ]
     },
     "execution_count": 75,
     "metadata": {},
     "output_type": "execute_result"
    }
   ],
   "source": [
    "occupancy_pipeline.add_model_step(occupancy_model)"
   ]
  },
  {
   "cell_type": "code",
   "execution_count": 76,
   "metadata": {},
   "outputs": [
    {
     "data": {
      "text/html": [
       "<table><tr><th>name</th> <td>occupancypipeline</td></tr><tr><th>created</th> <td>2022-09-21 20:20:37.684974+00:00</td></tr><tr><th>last_updated</th> <td>2022-09-28 16:33:13.966898+00:00</td></tr><tr><th>deployed</th> <td>True</td></tr><tr><th>tags</th> <td></td></tr><tr><th>steps</th> <td>occupancymodel</td></tr></table>"
      ],
      "text/plain": [
       "{'name': 'occupancypipeline', 'create_time': datetime.datetime(2022, 9, 21, 20, 20, 37, 684974, tzinfo=tzutc()), 'definition': \"[{'ModelInference': {'models': [{'name': 'occupancymodel', 'version': '34c71085-c4c9-4c47-a603-c7ce2dd4f6a9', 'sha': '6f71ee4487124f5b4e10a98759dda0424310029293e9c29cbd1fe89c027bfb5d'}]}}, {'ModelInference': {'models': [{'name': 'postprocess', 'version': 'fe6ec9c3-41b5-4820-9973-4727c799aaf7', 'sha': '64e23579ad39649fdcf164acf743611dd808d4dea6ad84f4b8317717cba13230'}]}}]\"}"
      ]
     },
     "execution_count": 76,
     "metadata": {},
     "output_type": "execute_result"
    }
   ],
   "source": [
    "occupancy_pipeline.add_model_step(module_post)"
   ]
  },
  {
   "cell_type": "code",
   "execution_count": 77,
   "metadata": {},
   "outputs": [
    {
     "name": "stdout",
     "output_type": "stream",
     "text": [
      " ok\n"
     ]
    },
    {
     "data": {
      "text/html": [
       "<table><tr><th>name</th> <td>occupancypipeline</td></tr><tr><th>created</th> <td>2022-09-21 20:20:37.684974+00:00</td></tr><tr><th>last_updated</th> <td>2022-09-28 16:33:14.091186+00:00</td></tr><tr><th>deployed</th> <td>True</td></tr><tr><th>tags</th> <td></td></tr><tr><th>steps</th> <td>occupancymodel</td></tr></table>"
      ],
      "text/plain": [
       "{'name': 'occupancypipeline', 'create_time': datetime.datetime(2022, 9, 21, 20, 20, 37, 684974, tzinfo=tzutc()), 'definition': \"[{'ModelInference': {'models': [{'name': 'occupancymodel', 'version': '34c71085-c4c9-4c47-a603-c7ce2dd4f6a9', 'sha': '6f71ee4487124f5b4e10a98759dda0424310029293e9c29cbd1fe89c027bfb5d'}]}}, {'ModelInference': {'models': [{'name': 'postprocess', 'version': 'fe6ec9c3-41b5-4820-9973-4727c799aaf7', 'sha': '64e23579ad39649fdcf164acf743611dd808d4dea6ad84f4b8317717cba13230'}]}}]\"}"
      ]
     },
     "execution_count": 77,
     "metadata": {},
     "output_type": "execute_result"
    }
   ],
   "source": [
    "occupancy_pipeline.deploy()"
   ]
  },
  {
   "cell_type": "code",
   "execution_count": 78,
   "metadata": {},
   "outputs": [
    {
     "data": {
      "text/plain": [
       "{'status': 'Running',\n",
       " 'details': None,\n",
       " 'engines': [{'ip': '10.244.3.70',\n",
       "   'name': 'engine-f8d888cc6-zvpgs',\n",
       "   'status': 'Running',\n",
       "   'reason': None,\n",
       "   'pipeline_statuses': {'pipelines': [{'id': 'occupancypipeline',\n",
       "      'status': 'Running'}]},\n",
       "   'model_statuses': {'models': [{'name': 'occupancymodel',\n",
       "      'version': '6ccf400e-418b-483e-93b1-96ed7ca688a1',\n",
       "      'sha': 'e87e0c9e74945aeb74e483bdb90bbf412f20ec09577dbdc53b5118906e06cb1f',\n",
       "      'status': 'Running'},\n",
       "     {'name': 'postprocess',\n",
       "      'version': '9dac44bd-fb3f-45d7-9358-25a41393be0c',\n",
       "      'sha': '64e23579ad39649fdcf164acf743611dd808d4dea6ad84f4b8317717cba13230',\n",
       "      'status': 'Running'}]}}],\n",
       " 'engine_lbs': [{'ip': '10.244.3.69',\n",
       "   'name': 'engine-lb-67c854cc86-rgkh4',\n",
       "   'status': 'Running',\n",
       "   'reason': None}]}"
      ]
     },
     "execution_count": 78,
     "metadata": {},
     "output_type": "execute_result"
    }
   ],
   "source": [
    "occupancy_pipeline.status()"
   ]
  },
  {
   "cell_type": "code",
   "execution_count": 79,
   "metadata": {},
   "outputs": [],
   "source": [
    "import json\n",
    "from wallaroo.object import EntityNotFoundError"
   ]
  },
  {
   "cell_type": "code",
   "execution_count": 80,
   "metadata": {},
   "outputs": [],
   "source": [
    "def pandas_to_dict(df):\n",
    "    input_dict = {\n",
    "    'tensor': df.to_numpy().tolist()\n",
    "    }\n",
    "    return input_dict"
   ]
  },
  {
   "cell_type": "code",
   "execution_count": 81,
   "metadata": {},
   "outputs": [
    {
     "data": {
      "text/html": [
       "<div>\n",
       "<style scoped>\n",
       "    .dataframe tbody tr th:only-of-type {\n",
       "        vertical-align: middle;\n",
       "    }\n",
       "\n",
       "    .dataframe tbody tr th {\n",
       "        vertical-align: top;\n",
       "    }\n",
       "\n",
       "    .dataframe thead th {\n",
       "        text-align: right;\n",
       "    }\n",
       "</style>\n",
       "<table border=\"1\" class=\"dataframe\">\n",
       "  <thead>\n",
       "    <tr style=\"text-align: right;\">\n",
       "      <th></th>\n",
       "      <th>S1_Light</th>\n",
       "    </tr>\n",
       "  </thead>\n",
       "  <tbody>\n",
       "    <tr>\n",
       "      <th>0</th>\n",
       "      <td>121</td>\n",
       "    </tr>\n",
       "    <tr>\n",
       "      <th>1</th>\n",
       "      <td>121</td>\n",
       "    </tr>\n",
       "    <tr>\n",
       "      <th>2</th>\n",
       "      <td>121</td>\n",
       "    </tr>\n",
       "    <tr>\n",
       "      <th>3</th>\n",
       "      <td>121</td>\n",
       "    </tr>\n",
       "    <tr>\n",
       "      <th>4</th>\n",
       "      <td>121</td>\n",
       "    </tr>\n",
       "    <tr>\n",
       "      <th>5</th>\n",
       "      <td>121</td>\n",
       "    </tr>\n",
       "    <tr>\n",
       "      <th>6</th>\n",
       "      <td>120</td>\n",
       "    </tr>\n",
       "    <tr>\n",
       "      <th>7</th>\n",
       "      <td>121</td>\n",
       "    </tr>\n",
       "    <tr>\n",
       "      <th>8</th>\n",
       "      <td>122</td>\n",
       "    </tr>\n",
       "    <tr>\n",
       "      <th>9</th>\n",
       "      <td>101</td>\n",
       "    </tr>\n",
       "  </tbody>\n",
       "</table>\n",
       "</div>"
      ],
      "text/plain": [
       "   S1_Light\n",
       "0       121\n",
       "1       121\n",
       "2       121\n",
       "3       121\n",
       "4       121\n",
       "5       121\n",
       "6       120\n",
       "7       121\n",
       "8       122\n",
       "9       101"
      ]
     },
     "execution_count": 81,
     "metadata": {},
     "output_type": "execute_result"
    }
   ],
   "source": [
    "raw = data.iloc[:10,6:7]\n",
    "raw"
   ]
  },
  {
   "cell_type": "code",
   "execution_count": 102,
   "metadata": {},
   "outputs": [],
   "source": [
    "\n",
    "input_dict = pandas_to_dict(raw)\n",
    "# input_dict = {'tensor': x_test.tolist()}\n",
    "# input_dict = {'tensor': [[121],[12]]}"
   ]
  },
  {
   "cell_type": "code",
   "execution_count": 103,
   "metadata": {},
   "outputs": [
    {
     "data": {
      "text/plain": [
       "[InferenceResult({'check_failures': [],\n",
       "  'elapsed': 377202,\n",
       "  'model_name': 'postprocess',\n",
       "  'model_version': '9dac44bd-fb3f-45d7-9358-25a41393be0c',\n",
       "  'original_data': {'tensor': [[121],\n",
       "                               [121],\n",
       "                               [121],\n",
       "                               [121],\n",
       "                               [121],\n",
       "                               [121],\n",
       "                               [120],\n",
       "                               [121],\n",
       "                               [122],\n",
       "                               [101]]},\n",
       "  'outputs': [{'Json': {'data': [{'original': {'outputs': [{'Double': {'data': [1.8147553252418904,\n",
       "                                                                                1.8147553252418904,\n",
       "                                                                                1.8147553252418904,\n",
       "                                                                                1.8147553252418904,\n",
       "                                                                                1.8147553252418904,\n",
       "                                                                                1.8147553252418904,\n",
       "                                                                                1.7998939316842129,\n",
       "                                                                                1.8147553252418904,\n",
       "                                                                                1.8296167187995676,\n",
       "                                                                                1.517527454088346],\n",
       "                                                                       'dim': [10,\n",
       "                                                                               1],\n",
       "                                                                       'v': 1}}]},\n",
       "                                  'prediction': [2.0,\n",
       "                                                 2.0,\n",
       "                                                 2.0,\n",
       "                                                 2.0,\n",
       "                                                 2.0,\n",
       "                                                 2.0,\n",
       "                                                 2.0,\n",
       "                                                 2.0,\n",
       "                                                 2.0,\n",
       "                                                 2.0]}],\n",
       "                        'dim': [1],\n",
       "                        'v': 1}}],\n",
       "  'pipeline_name': 'occupancypipeline',\n",
       "  'shadow_data': {},\n",
       "  'time': 1664382947362})]"
      ]
     },
     "execution_count": 103,
     "metadata": {},
     "output_type": "execute_result"
    }
   ],
   "source": [
    "result = occupancy_pipeline.infer(input_dict)\n",
    "result"
   ]
  },
  {
   "cell_type": "code",
   "execution_count": 115,
   "metadata": {},
   "outputs": [
    {
     "data": {
      "text/plain": [
       "[2.0, 2.0, 2.0, 2.0, 2.0, 2.0, 2.0, 2.0, 2.0, 2.0]"
      ]
     },
     "execution_count": 115,
     "metadata": {},
     "output_type": "execute_result"
    }
   ],
   "source": [
    "result[0].data()[0].tolist()"
   ]
  },
  {
   "cell_type": "code",
   "execution_count": 84,
   "metadata": {},
   "outputs": [],
   "source": [
    "# occupancy_pipeline.undeploy()"
   ]
  },
  {
   "cell_type": "code",
   "execution_count": 85,
   "metadata": {},
   "outputs": [],
   "source": [
    "logs = occupancy_pipeline.logs()"
   ]
  },
  {
   "cell_type": "code",
   "execution_count": 86,
   "metadata": {},
   "outputs": [
    {
     "data": {
      "text/plain": [
       "wallaroo.logs.LogEntries"
      ]
     },
     "execution_count": 86,
     "metadata": {},
     "output_type": "execute_result"
    }
   ],
   "source": [
    "type(logs)"
   ]
  },
  {
   "cell_type": "code",
   "execution_count": 87,
   "metadata": {},
   "outputs": [
    {
     "data": {
      "text/plain": [
       "wallaroo.logs.LogEntry"
      ]
     },
     "execution_count": 87,
     "metadata": {},
     "output_type": "execute_result"
    }
   ],
   "source": [
    "type(logs[0])"
   ]
  },
  {
   "cell_type": "raw",
   "metadata": {},
   "source": [
    "vars(logs[0])"
   ]
  },
  {
   "cell_type": "code",
   "execution_count": 88,
   "metadata": {},
   "outputs": [
    {
     "data": {
      "text/plain": [
       "{'elapsed': 172102,\n",
       " 'model_name': 'occupancymodel',\n",
       " 'model_version': '45904398-7ce1-4cfe-b01f-91524c8ecba8',\n",
       " 'input': [[121],\n",
       "  [121],\n",
       "  [121],\n",
       "  [121],\n",
       "  [121],\n",
       "  [121],\n",
       "  [120],\n",
       "  [121],\n",
       "  [122],\n",
       "  [101]],\n",
       " 'output': [array([[1.81815241],\n",
       "         [1.81815241],\n",
       "         [1.81815241],\n",
       "         [1.81815241],\n",
       "         [1.81815241],\n",
       "         [1.81815241],\n",
       "         [1.80329799],\n",
       "         [1.81815241],\n",
       "         [1.83300683],\n",
       "         [1.52106398]])],\n",
       " 'validation_failures': [],\n",
       " 'timestamp': datetime.datetime(2022, 9, 21, 20, 25, 20, 715000),\n",
       " 'raw': {'model_name': 'occupancymodel',\n",
       "  'model_version': '45904398-7ce1-4cfe-b01f-91524c8ecba8',\n",
       "  'pipeline_name': 'occupancypipeline',\n",
       "  'outputs': [{'Double': {'v': 1,\n",
       "     'dim': [10, 1],\n",
       "     'data': [1.8181524064645578,\n",
       "      1.8181524064645578,\n",
       "      1.8181524064645578,\n",
       "      1.8181524064645578,\n",
       "      1.8181524064645578,\n",
       "      1.8181524064645578,\n",
       "      1.8032979852974789,\n",
       "      1.8181524064645578,\n",
       "      1.833006827631637,\n",
       "      1.5210639831229773]}}],\n",
       "  'elapsed': 172102,\n",
       "  'time': 1663791920715,\n",
       "  'original_data': {'tensor': [[121],\n",
       "    [121],\n",
       "    [121],\n",
       "    [121],\n",
       "    [121],\n",
       "    [121],\n",
       "    [120],\n",
       "    [121],\n",
       "    [122],\n",
       "    [101]]},\n",
       "  'check_failures': [],\n",
       "  'shadow_data': {}},\n",
       " 'shadow_data': {}}"
      ]
     },
     "execution_count": 88,
     "metadata": {},
     "output_type": "execute_result"
    }
   ],
   "source": [
    "vars(logs[0])"
   ]
  },
  {
   "cell_type": "code",
   "execution_count": null,
   "metadata": {},
   "outputs": [],
   "source": []
  }
 ],
 "metadata": {
  "kernelspec": {
   "display_name": "Python 3",
   "language": "python",
   "name": "python3"
  },
  "language_info": {
   "codemirror_mode": {
    "name": "ipython",
    "version": 3
   },
   "file_extension": ".py",
   "mimetype": "text/x-python",
   "name": "python",
   "nbconvert_exporter": "python",
   "pygments_lexer": "ipython3",
   "version": "3.8.6"
  }
 },
 "nbformat": 4,
 "nbformat_minor": 5
}
