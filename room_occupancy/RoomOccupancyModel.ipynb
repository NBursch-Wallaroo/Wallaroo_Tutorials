{
 "cells": [
  {
   "cell_type": "markdown",
   "id": "166d64b9",
   "metadata": {
    "tags": []
   },
   "source": [
    "# A Linear Regression Model Notebook for the Wallaroo Platform\n",
    "#### A Comprehensive Tutorial for:\n",
    "1. Building a Linear Regression Model\n",
    "2. Deploying the Model into Wallaroo\n",
    "3. Using Wallaroo's Monitering Capabilities to Analyze the Model."
   ]
  },
  {
   "cell_type": "markdown",
   "id": "e392d802",
   "metadata": {},
   "source": [
    "# Building a Linear Regression Model\n",
    "\n",
    "> This model will be built from a data set of sensor values and the occupancy of the room the sensors are in.\n",
    "> The goal is to use the sensor data to predict the room occupancy."
   ]
  },
  {
   "cell_type": "markdown",
   "id": "75f8d2ba",
   "metadata": {},
   "source": [
    "### Importing the Necessary Python Libraries\n",
    "\n",
    "We will use a variety of libraries to implement the linear regression model\n",
    "\n",
    "These libraries include:\n",
    "- matplotlib\n",
    "- numpy\n",
    "- sklearn\n",
    "- pandas\n",
    "- onnx"
   ]
  },
  {
   "cell_type": "code",
<<<<<<< Updated upstream
   "execution_count": 2,
=======
   "execution_count": 1,
   "id": "65fc3c90",
>>>>>>> Stashed changes
   "metadata": {},
   "outputs": [],
   "source": [
    "# Code Source: Us\n",
    "\n",
    "# Needed for data visualization\n",
    "import matplotlib.pyplot as plt\n",
    "\n",
    "# Needed for data tuning\n",
    "import numpy as np\n",
    "\n",
    "# Needed for creating the linear regression model\n",
    "from sklearn import linear_model\n",
    "\n",
    "# Needed for metrics of the model\n",
    "from sklearn.metrics import mean_squared_error, r2_score\n",
    "\n",
    "# Needed for csv importing\n",
    "import pandas as pd"
   ]
  },
  {
   "cell_type": "markdown",
   "id": "d6e59e74",
   "metadata": {},
   "source": [
    "## Importing the Data Set using Pandas\n",
    "##### The first step creating a linear regression model is read in the dataset using the pandas library  \n",
    "The `read_csv` method is responsible for reading in the data and `head()` method acesses the first few rows in the data  \n",
    "When picking a variable from the data we'll use `.corr()` to find which variable has the best correlation in the dataset"
   ]
  },
  {
   "cell_type": "code",
<<<<<<< Updated upstream
   "execution_count": 3,
=======
   "execution_count": 2,
   "id": "5345b130",
>>>>>>> Stashed changes
   "metadata": {},
   "outputs": [
    {
     "data": {
      "text/html": [
       "<div>\n",
       "<style scoped>\n",
       "    .dataframe tbody tr th:only-of-type {\n",
       "        vertical-align: middle;\n",
       "    }\n",
       "\n",
       "    .dataframe tbody tr th {\n",
       "        vertical-align: top;\n",
       "    }\n",
       "\n",
       "    .dataframe thead th {\n",
       "        text-align: right;\n",
       "    }\n",
       "</style>\n",
       "<table border=\"1\" class=\"dataframe\">\n",
       "  <thead>\n",
       "    <tr style=\"text-align: right;\">\n",
       "      <th></th>\n",
       "      <th>Date</th>\n",
       "      <th>Time</th>\n",
       "      <th>S1_Temp</th>\n",
       "      <th>S2_Temp</th>\n",
       "      <th>S3_Temp</th>\n",
       "      <th>S4_Temp</th>\n",
       "      <th>S1_Light</th>\n",
       "      <th>S2_Light</th>\n",
       "      <th>S3_Light</th>\n",
       "      <th>S4_Light</th>\n",
       "      <th>S1_Sound</th>\n",
       "      <th>S2_Sound</th>\n",
       "      <th>S3_Sound</th>\n",
       "      <th>S4_Sound</th>\n",
       "      <th>S5_CO2</th>\n",
       "      <th>S5_CO2_Slope</th>\n",
       "      <th>S6_PIR</th>\n",
       "      <th>S7_PIR</th>\n",
       "      <th>Room_Occupancy_Count</th>\n",
       "    </tr>\n",
       "  </thead>\n",
       "  <tbody>\n",
       "    <tr>\n",
       "      <th>0</th>\n",
       "      <td>2017/12/22</td>\n",
       "      <td>10:49:41</td>\n",
       "      <td>24.94</td>\n",
       "      <td>24.75</td>\n",
       "      <td>24.56</td>\n",
       "      <td>25.38</td>\n",
       "      <td>121</td>\n",
       "      <td>34</td>\n",
       "      <td>53</td>\n",
       "      <td>40</td>\n",
       "      <td>0.08</td>\n",
       "      <td>0.19</td>\n",
       "      <td>0.06</td>\n",
       "      <td>0.06</td>\n",
       "      <td>390</td>\n",
       "      <td>0.769231</td>\n",
       "      <td>0</td>\n",
       "      <td>0</td>\n",
       "      <td>1</td>\n",
       "    </tr>\n",
       "    <tr>\n",
       "      <th>1</th>\n",
       "      <td>2017/12/22</td>\n",
       "      <td>10:50:12</td>\n",
       "      <td>24.94</td>\n",
       "      <td>24.75</td>\n",
       "      <td>24.56</td>\n",
       "      <td>25.44</td>\n",
       "      <td>121</td>\n",
       "      <td>33</td>\n",
       "      <td>53</td>\n",
       "      <td>40</td>\n",
       "      <td>0.93</td>\n",
       "      <td>0.05</td>\n",
       "      <td>0.06</td>\n",
       "      <td>0.06</td>\n",
       "      <td>390</td>\n",
       "      <td>0.646154</td>\n",
       "      <td>0</td>\n",
       "      <td>0</td>\n",
       "      <td>1</td>\n",
       "    </tr>\n",
       "    <tr>\n",
       "      <th>2</th>\n",
       "      <td>2017/12/22</td>\n",
       "      <td>10:50:42</td>\n",
       "      <td>25.00</td>\n",
       "      <td>24.75</td>\n",
       "      <td>24.50</td>\n",
       "      <td>25.44</td>\n",
       "      <td>121</td>\n",
       "      <td>34</td>\n",
       "      <td>53</td>\n",
       "      <td>40</td>\n",
       "      <td>0.43</td>\n",
       "      <td>0.11</td>\n",
       "      <td>0.08</td>\n",
       "      <td>0.06</td>\n",
       "      <td>390</td>\n",
       "      <td>0.519231</td>\n",
       "      <td>0</td>\n",
       "      <td>0</td>\n",
       "      <td>1</td>\n",
       "    </tr>\n",
       "    <tr>\n",
       "      <th>3</th>\n",
       "      <td>2017/12/22</td>\n",
       "      <td>10:51:13</td>\n",
       "      <td>25.00</td>\n",
       "      <td>24.75</td>\n",
       "      <td>24.56</td>\n",
       "      <td>25.44</td>\n",
       "      <td>121</td>\n",
       "      <td>34</td>\n",
       "      <td>53</td>\n",
       "      <td>40</td>\n",
       "      <td>0.41</td>\n",
       "      <td>0.10</td>\n",
       "      <td>0.10</td>\n",
       "      <td>0.09</td>\n",
       "      <td>390</td>\n",
       "      <td>0.388462</td>\n",
       "      <td>0</td>\n",
       "      <td>0</td>\n",
       "      <td>1</td>\n",
       "    </tr>\n",
       "    <tr>\n",
       "      <th>4</th>\n",
       "      <td>2017/12/22</td>\n",
       "      <td>10:51:44</td>\n",
       "      <td>25.00</td>\n",
       "      <td>24.75</td>\n",
       "      <td>24.56</td>\n",
       "      <td>25.44</td>\n",
       "      <td>121</td>\n",
       "      <td>34</td>\n",
       "      <td>54</td>\n",
       "      <td>40</td>\n",
       "      <td>0.18</td>\n",
       "      <td>0.06</td>\n",
       "      <td>0.06</td>\n",
       "      <td>0.06</td>\n",
       "      <td>390</td>\n",
       "      <td>0.253846</td>\n",
       "      <td>0</td>\n",
       "      <td>0</td>\n",
       "      <td>1</td>\n",
       "    </tr>\n",
       "  </tbody>\n",
       "</table>\n",
       "</div>"
      ],
      "text/plain": [
       "         Date      Time  S1_Temp  S2_Temp  S3_Temp  S4_Temp  S1_Light  \\\n",
       "0  2017/12/22  10:49:41    24.94    24.75    24.56    25.38       121   \n",
       "1  2017/12/22  10:50:12    24.94    24.75    24.56    25.44       121   \n",
       "2  2017/12/22  10:50:42    25.00    24.75    24.50    25.44       121   \n",
       "3  2017/12/22  10:51:13    25.00    24.75    24.56    25.44       121   \n",
       "4  2017/12/22  10:51:44    25.00    24.75    24.56    25.44       121   \n",
       "\n",
       "   S2_Light  S3_Light  S4_Light  S1_Sound  S2_Sound  S3_Sound  S4_Sound  \\\n",
       "0        34        53        40      0.08      0.19      0.06      0.06   \n",
       "1        33        53        40      0.93      0.05      0.06      0.06   \n",
       "2        34        53        40      0.43      0.11      0.08      0.06   \n",
       "3        34        53        40      0.41      0.10      0.10      0.09   \n",
       "4        34        54        40      0.18      0.06      0.06      0.06   \n",
       "\n",
       "   S5_CO2  S5_CO2_Slope  S6_PIR  S7_PIR  Room_Occupancy_Count  \n",
       "0     390      0.769231       0       0                     1  \n",
       "1     390      0.646154       0       0                     1  \n",
       "2     390      0.519231       0       0                     1  \n",
       "3     390      0.388462       0       0                     1  \n",
       "4     390      0.253846       0       0                     1  "
      ]
     },
     "execution_count": 3,
     "metadata": {},
     "output_type": "execute_result"
    }
   ],
   "source": [
    "# Reading and displaying the dataset\n",
    "data = pd.read_csv('Occupancy_Estimation.csv')\n",
    "data.head()"
   ]
  },
  {
   "cell_type": "code",
<<<<<<< Updated upstream
   "execution_count": 4,
=======
   "execution_count": 3,
   "id": "33742614",
>>>>>>> Stashed changes
   "metadata": {},
   "outputs": [
    {
     "data": {
      "text/html": [
       "<div>\n",
       "<style scoped>\n",
       "    .dataframe tbody tr th:only-of-type {\n",
       "        vertical-align: middle;\n",
       "    }\n",
       "\n",
       "    .dataframe tbody tr th {\n",
       "        vertical-align: top;\n",
       "    }\n",
       "\n",
       "    .dataframe thead th {\n",
       "        text-align: right;\n",
       "    }\n",
       "</style>\n",
       "<table border=\"1\" class=\"dataframe\">\n",
       "  <thead>\n",
       "    <tr style=\"text-align: right;\">\n",
       "      <th></th>\n",
       "      <th>S1_Temp</th>\n",
       "      <th>S2_Temp</th>\n",
       "      <th>S3_Temp</th>\n",
       "      <th>S4_Temp</th>\n",
       "      <th>S1_Light</th>\n",
       "      <th>S2_Light</th>\n",
       "      <th>S3_Light</th>\n",
       "      <th>S4_Light</th>\n",
       "      <th>S1_Sound</th>\n",
       "      <th>S2_Sound</th>\n",
       "      <th>S3_Sound</th>\n",
       "      <th>S4_Sound</th>\n",
       "      <th>S5_CO2</th>\n",
       "      <th>S5_CO2_Slope</th>\n",
       "      <th>S6_PIR</th>\n",
       "      <th>S7_PIR</th>\n",
       "      <th>Room_Occupancy_Count</th>\n",
       "    </tr>\n",
       "  </thead>\n",
       "  <tbody>\n",
       "    <tr>\n",
       "      <th>S1_Temp</th>\n",
       "      <td>1.000000</td>\n",
       "      <td>0.799707</td>\n",
       "      <td>0.948839</td>\n",
       "      <td>0.855279</td>\n",
       "      <td>0.680743</td>\n",
       "      <td>0.548735</td>\n",
       "      <td>0.645163</td>\n",
       "      <td>0.212217</td>\n",
       "      <td>0.436099</td>\n",
       "      <td>0.391137</td>\n",
       "      <td>0.438769</td>\n",
       "      <td>0.355826</td>\n",
       "      <td>0.866718</td>\n",
       "      <td>0.137391</td>\n",
       "      <td>0.436363</td>\n",
       "      <td>0.474077</td>\n",
       "      <td>0.700868</td>\n",
       "    </tr>\n",
       "    <tr>\n",
       "      <th>S2_Temp</th>\n",
       "      <td>0.799707</td>\n",
       "      <td>1.000000</td>\n",
       "      <td>0.765525</td>\n",
       "      <td>0.696581</td>\n",
       "      <td>0.639773</td>\n",
       "      <td>0.645987</td>\n",
       "      <td>0.607349</td>\n",
       "      <td>0.370897</td>\n",
       "      <td>0.438274</td>\n",
       "      <td>0.409545</td>\n",
       "      <td>0.427133</td>\n",
       "      <td>0.378724</td>\n",
       "      <td>0.743722</td>\n",
       "      <td>0.202547</td>\n",
       "      <td>0.476901</td>\n",
       "      <td>0.465884</td>\n",
       "      <td>0.671263</td>\n",
       "    </tr>\n",
       "    <tr>\n",
       "      <th>S3_Temp</th>\n",
       "      <td>0.948839</td>\n",
       "      <td>0.765525</td>\n",
       "      <td>1.000000</td>\n",
       "      <td>0.885186</td>\n",
       "      <td>0.594311</td>\n",
       "      <td>0.500054</td>\n",
       "      <td>0.642601</td>\n",
       "      <td>0.301419</td>\n",
       "      <td>0.375183</td>\n",
       "      <td>0.344026</td>\n",
       "      <td>0.398177</td>\n",
       "      <td>0.326182</td>\n",
       "      <td>0.821308</td>\n",
       "      <td>0.095842</td>\n",
       "      <td>0.403355</td>\n",
       "      <td>0.460309</td>\n",
       "      <td>0.652047</td>\n",
       "    </tr>\n",
       "    <tr>\n",
       "      <th>S4_Temp</th>\n",
       "      <td>0.855279</td>\n",
       "      <td>0.696581</td>\n",
       "      <td>0.885186</td>\n",
       "      <td>1.000000</td>\n",
       "      <td>0.581482</td>\n",
       "      <td>0.456350</td>\n",
       "      <td>0.588459</td>\n",
       "      <td>0.386871</td>\n",
       "      <td>0.355111</td>\n",
       "      <td>0.312594</td>\n",
       "      <td>0.340808</td>\n",
       "      <td>0.294939</td>\n",
       "      <td>0.650320</td>\n",
       "      <td>0.106208</td>\n",
       "      <td>0.340000</td>\n",
       "      <td>0.339037</td>\n",
       "      <td>0.526509</td>\n",
       "    </tr>\n",
       "    <tr>\n",
       "      <th>S1_Light</th>\n",
       "      <td>0.680743</td>\n",
       "      <td>0.639773</td>\n",
       "      <td>0.594311</td>\n",
       "      <td>0.581482</td>\n",
       "      <td>1.000000</td>\n",
       "      <td>0.842090</td>\n",
       "      <td>0.816438</td>\n",
       "      <td>0.510853</td>\n",
       "      <td>0.601166</td>\n",
       "      <td>0.534274</td>\n",
       "      <td>0.494080</td>\n",
       "      <td>0.441712</td>\n",
       "      <td>0.602740</td>\n",
       "      <td>0.498185</td>\n",
       "      <td>0.607159</td>\n",
       "      <td>0.545213</td>\n",
       "      <td>0.849058</td>\n",
       "    </tr>\n",
       "    <tr>\n",
       "      <th>S2_Light</th>\n",
       "      <td>0.548735</td>\n",
       "      <td>0.645987</td>\n",
       "      <td>0.500054</td>\n",
       "      <td>0.456350</td>\n",
       "      <td>0.842090</td>\n",
       "      <td>1.000000</td>\n",
       "      <td>0.709579</td>\n",
       "      <td>0.458914</td>\n",
       "      <td>0.503021</td>\n",
       "      <td>0.560630</td>\n",
       "      <td>0.439269</td>\n",
       "      <td>0.413932</td>\n",
       "      <td>0.566764</td>\n",
       "      <td>0.493281</td>\n",
       "      <td>0.554658</td>\n",
       "      <td>0.556797</td>\n",
       "      <td>0.788764</td>\n",
       "    </tr>\n",
       "    <tr>\n",
       "      <th>S3_Light</th>\n",
       "      <td>0.645163</td>\n",
       "      <td>0.607349</td>\n",
       "      <td>0.642601</td>\n",
       "      <td>0.588459</td>\n",
       "      <td>0.816438</td>\n",
       "      <td>0.709579</td>\n",
       "      <td>1.000000</td>\n",
       "      <td>0.579484</td>\n",
       "      <td>0.502606</td>\n",
       "      <td>0.434859</td>\n",
       "      <td>0.577151</td>\n",
       "      <td>0.473606</td>\n",
       "      <td>0.650829</td>\n",
       "      <td>0.447708</td>\n",
       "      <td>0.501836</td>\n",
       "      <td>0.577815</td>\n",
       "      <td>0.793081</td>\n",
       "    </tr>\n",
       "    <tr>\n",
       "      <th>S4_Light</th>\n",
       "      <td>0.212217</td>\n",
       "      <td>0.370897</td>\n",
       "      <td>0.301419</td>\n",
       "      <td>0.386871</td>\n",
       "      <td>0.510853</td>\n",
       "      <td>0.458914</td>\n",
       "      <td>0.579484</td>\n",
       "      <td>1.000000</td>\n",
       "      <td>0.293632</td>\n",
       "      <td>0.303949</td>\n",
       "      <td>0.169702</td>\n",
       "      <td>0.200793</td>\n",
       "      <td>0.148608</td>\n",
       "      <td>0.212718</td>\n",
       "      <td>0.324545</td>\n",
       "      <td>0.220196</td>\n",
       "      <td>0.355715</td>\n",
       "    </tr>\n",
       "    <tr>\n",
       "      <th>S1_Sound</th>\n",
       "      <td>0.436099</td>\n",
       "      <td>0.438274</td>\n",
       "      <td>0.375183</td>\n",
       "      <td>0.355111</td>\n",
       "      <td>0.601166</td>\n",
       "      <td>0.503021</td>\n",
       "      <td>0.502606</td>\n",
       "      <td>0.293632</td>\n",
       "      <td>1.000000</td>\n",
       "      <td>0.560062</td>\n",
       "      <td>0.540736</td>\n",
       "      <td>0.557733</td>\n",
       "      <td>0.391903</td>\n",
       "      <td>0.335772</td>\n",
       "      <td>0.522015</td>\n",
       "      <td>0.463040</td>\n",
       "      <td>0.573748</td>\n",
       "    </tr>\n",
       "    <tr>\n",
       "      <th>S2_Sound</th>\n",
       "      <td>0.391137</td>\n",
       "      <td>0.409545</td>\n",
       "      <td>0.344026</td>\n",
       "      <td>0.312594</td>\n",
       "      <td>0.534274</td>\n",
       "      <td>0.560630</td>\n",
       "      <td>0.434859</td>\n",
       "      <td>0.303949</td>\n",
       "      <td>0.560062</td>\n",
       "      <td>1.000000</td>\n",
       "      <td>0.529830</td>\n",
       "      <td>0.578635</td>\n",
       "      <td>0.333836</td>\n",
       "      <td>0.357235</td>\n",
       "      <td>0.485697</td>\n",
       "      <td>0.507231</td>\n",
       "      <td>0.557853</td>\n",
       "    </tr>\n",
       "    <tr>\n",
       "      <th>S3_Sound</th>\n",
       "      <td>0.438769</td>\n",
       "      <td>0.427133</td>\n",
       "      <td>0.398177</td>\n",
       "      <td>0.340808</td>\n",
       "      <td>0.494080</td>\n",
       "      <td>0.439269</td>\n",
       "      <td>0.577151</td>\n",
       "      <td>0.169702</td>\n",
       "      <td>0.540736</td>\n",
       "      <td>0.529830</td>\n",
       "      <td>1.000000</td>\n",
       "      <td>0.696670</td>\n",
       "      <td>0.447220</td>\n",
       "      <td>0.318815</td>\n",
       "      <td>0.434225</td>\n",
       "      <td>0.536820</td>\n",
       "      <td>0.531685</td>\n",
       "    </tr>\n",
       "    <tr>\n",
       "      <th>S4_Sound</th>\n",
       "      <td>0.355826</td>\n",
       "      <td>0.378724</td>\n",
       "      <td>0.326182</td>\n",
       "      <td>0.294939</td>\n",
       "      <td>0.441712</td>\n",
       "      <td>0.413932</td>\n",
       "      <td>0.473606</td>\n",
       "      <td>0.200793</td>\n",
       "      <td>0.557733</td>\n",
       "      <td>0.578635</td>\n",
       "      <td>0.696670</td>\n",
       "      <td>1.000000</td>\n",
       "      <td>0.330629</td>\n",
       "      <td>0.323519</td>\n",
       "      <td>0.394954</td>\n",
       "      <td>0.466848</td>\n",
       "      <td>0.460287</td>\n",
       "    </tr>\n",
       "    <tr>\n",
       "      <th>S5_CO2</th>\n",
       "      <td>0.866718</td>\n",
       "      <td>0.743722</td>\n",
       "      <td>0.821308</td>\n",
       "      <td>0.650320</td>\n",
       "      <td>0.602740</td>\n",
       "      <td>0.566764</td>\n",
       "      <td>0.650829</td>\n",
       "      <td>0.148608</td>\n",
       "      <td>0.391903</td>\n",
       "      <td>0.333836</td>\n",
       "      <td>0.447220</td>\n",
       "      <td>0.330629</td>\n",
       "      <td>1.000000</td>\n",
       "      <td>0.069220</td>\n",
       "      <td>0.395265</td>\n",
       "      <td>0.473437</td>\n",
       "      <td>0.660144</td>\n",
       "    </tr>\n",
       "    <tr>\n",
       "      <th>S5_CO2_Slope</th>\n",
       "      <td>0.137391</td>\n",
       "      <td>0.202547</td>\n",
       "      <td>0.095842</td>\n",
       "      <td>0.106208</td>\n",
       "      <td>0.498185</td>\n",
       "      <td>0.493281</td>\n",
       "      <td>0.447708</td>\n",
       "      <td>0.212718</td>\n",
       "      <td>0.335772</td>\n",
       "      <td>0.357235</td>\n",
       "      <td>0.318815</td>\n",
       "      <td>0.323519</td>\n",
       "      <td>0.069220</td>\n",
       "      <td>1.000000</td>\n",
       "      <td>0.368374</td>\n",
       "      <td>0.425346</td>\n",
       "      <td>0.601105</td>\n",
       "    </tr>\n",
       "    <tr>\n",
       "      <th>S6_PIR</th>\n",
       "      <td>0.436363</td>\n",
       "      <td>0.476901</td>\n",
       "      <td>0.403355</td>\n",
       "      <td>0.340000</td>\n",
       "      <td>0.607159</td>\n",
       "      <td>0.554658</td>\n",
       "      <td>0.501836</td>\n",
       "      <td>0.324545</td>\n",
       "      <td>0.522015</td>\n",
       "      <td>0.485697</td>\n",
       "      <td>0.434225</td>\n",
       "      <td>0.394954</td>\n",
       "      <td>0.395265</td>\n",
       "      <td>0.368374</td>\n",
       "      <td>1.000000</td>\n",
       "      <td>0.571125</td>\n",
       "      <td>0.633133</td>\n",
       "    </tr>\n",
       "    <tr>\n",
       "      <th>S7_PIR</th>\n",
       "      <td>0.474077</td>\n",
       "      <td>0.465884</td>\n",
       "      <td>0.460309</td>\n",
       "      <td>0.339037</td>\n",
       "      <td>0.545213</td>\n",
       "      <td>0.556797</td>\n",
       "      <td>0.577815</td>\n",
       "      <td>0.220196</td>\n",
       "      <td>0.463040</td>\n",
       "      <td>0.507231</td>\n",
       "      <td>0.536820</td>\n",
       "      <td>0.466848</td>\n",
       "      <td>0.473437</td>\n",
       "      <td>0.425346</td>\n",
       "      <td>0.571125</td>\n",
       "      <td>1.000000</td>\n",
       "      <td>0.695138</td>\n",
       "    </tr>\n",
       "    <tr>\n",
       "      <th>Room_Occupancy_Count</th>\n",
       "      <td>0.700868</td>\n",
       "      <td>0.671263</td>\n",
       "      <td>0.652047</td>\n",
       "      <td>0.526509</td>\n",
       "      <td>0.849058</td>\n",
       "      <td>0.788764</td>\n",
       "      <td>0.793081</td>\n",
       "      <td>0.355715</td>\n",
       "      <td>0.573748</td>\n",
       "      <td>0.557853</td>\n",
       "      <td>0.531685</td>\n",
       "      <td>0.460287</td>\n",
       "      <td>0.660144</td>\n",
       "      <td>0.601105</td>\n",
       "      <td>0.633133</td>\n",
       "      <td>0.695138</td>\n",
       "      <td>1.000000</td>\n",
       "    </tr>\n",
       "  </tbody>\n",
       "</table>\n",
       "</div>"
      ],
      "text/plain": [
       "                       S1_Temp   S2_Temp   S3_Temp   S4_Temp  S1_Light  \\\n",
       "S1_Temp               1.000000  0.799707  0.948839  0.855279  0.680743   \n",
       "S2_Temp               0.799707  1.000000  0.765525  0.696581  0.639773   \n",
       "S3_Temp               0.948839  0.765525  1.000000  0.885186  0.594311   \n",
       "S4_Temp               0.855279  0.696581  0.885186  1.000000  0.581482   \n",
       "S1_Light              0.680743  0.639773  0.594311  0.581482  1.000000   \n",
       "S2_Light              0.548735  0.645987  0.500054  0.456350  0.842090   \n",
       "S3_Light              0.645163  0.607349  0.642601  0.588459  0.816438   \n",
       "S4_Light              0.212217  0.370897  0.301419  0.386871  0.510853   \n",
       "S1_Sound              0.436099  0.438274  0.375183  0.355111  0.601166   \n",
       "S2_Sound              0.391137  0.409545  0.344026  0.312594  0.534274   \n",
       "S3_Sound              0.438769  0.427133  0.398177  0.340808  0.494080   \n",
       "S4_Sound              0.355826  0.378724  0.326182  0.294939  0.441712   \n",
       "S5_CO2                0.866718  0.743722  0.821308  0.650320  0.602740   \n",
       "S5_CO2_Slope          0.137391  0.202547  0.095842  0.106208  0.498185   \n",
       "S6_PIR                0.436363  0.476901  0.403355  0.340000  0.607159   \n",
       "S7_PIR                0.474077  0.465884  0.460309  0.339037  0.545213   \n",
       "Room_Occupancy_Count  0.700868  0.671263  0.652047  0.526509  0.849058   \n",
       "\n",
       "                      S2_Light  S3_Light  S4_Light  S1_Sound  S2_Sound  \\\n",
       "S1_Temp               0.548735  0.645163  0.212217  0.436099  0.391137   \n",
       "S2_Temp               0.645987  0.607349  0.370897  0.438274  0.409545   \n",
       "S3_Temp               0.500054  0.642601  0.301419  0.375183  0.344026   \n",
       "S4_Temp               0.456350  0.588459  0.386871  0.355111  0.312594   \n",
       "S1_Light              0.842090  0.816438  0.510853  0.601166  0.534274   \n",
       "S2_Light              1.000000  0.709579  0.458914  0.503021  0.560630   \n",
       "S3_Light              0.709579  1.000000  0.579484  0.502606  0.434859   \n",
       "S4_Light              0.458914  0.579484  1.000000  0.293632  0.303949   \n",
       "S1_Sound              0.503021  0.502606  0.293632  1.000000  0.560062   \n",
       "S2_Sound              0.560630  0.434859  0.303949  0.560062  1.000000   \n",
       "S3_Sound              0.439269  0.577151  0.169702  0.540736  0.529830   \n",
       "S4_Sound              0.413932  0.473606  0.200793  0.557733  0.578635   \n",
       "S5_CO2                0.566764  0.650829  0.148608  0.391903  0.333836   \n",
       "S5_CO2_Slope          0.493281  0.447708  0.212718  0.335772  0.357235   \n",
       "S6_PIR                0.554658  0.501836  0.324545  0.522015  0.485697   \n",
       "S7_PIR                0.556797  0.577815  0.220196  0.463040  0.507231   \n",
       "Room_Occupancy_Count  0.788764  0.793081  0.355715  0.573748  0.557853   \n",
       "\n",
       "                      S3_Sound  S4_Sound    S5_CO2  S5_CO2_Slope    S6_PIR  \\\n",
       "S1_Temp               0.438769  0.355826  0.866718      0.137391  0.436363   \n",
       "S2_Temp               0.427133  0.378724  0.743722      0.202547  0.476901   \n",
       "S3_Temp               0.398177  0.326182  0.821308      0.095842  0.403355   \n",
       "S4_Temp               0.340808  0.294939  0.650320      0.106208  0.340000   \n",
       "S1_Light              0.494080  0.441712  0.602740      0.498185  0.607159   \n",
       "S2_Light              0.439269  0.413932  0.566764      0.493281  0.554658   \n",
       "S3_Light              0.577151  0.473606  0.650829      0.447708  0.501836   \n",
       "S4_Light              0.169702  0.200793  0.148608      0.212718  0.324545   \n",
       "S1_Sound              0.540736  0.557733  0.391903      0.335772  0.522015   \n",
       "S2_Sound              0.529830  0.578635  0.333836      0.357235  0.485697   \n",
       "S3_Sound              1.000000  0.696670  0.447220      0.318815  0.434225   \n",
       "S4_Sound              0.696670  1.000000  0.330629      0.323519  0.394954   \n",
       "S5_CO2                0.447220  0.330629  1.000000      0.069220  0.395265   \n",
       "S5_CO2_Slope          0.318815  0.323519  0.069220      1.000000  0.368374   \n",
       "S6_PIR                0.434225  0.394954  0.395265      0.368374  1.000000   \n",
       "S7_PIR                0.536820  0.466848  0.473437      0.425346  0.571125   \n",
       "Room_Occupancy_Count  0.531685  0.460287  0.660144      0.601105  0.633133   \n",
       "\n",
       "                        S7_PIR  Room_Occupancy_Count  \n",
       "S1_Temp               0.474077              0.700868  \n",
       "S2_Temp               0.465884              0.671263  \n",
       "S3_Temp               0.460309              0.652047  \n",
       "S4_Temp               0.339037              0.526509  \n",
       "S1_Light              0.545213              0.849058  \n",
       "S2_Light              0.556797              0.788764  \n",
       "S3_Light              0.577815              0.793081  \n",
       "S4_Light              0.220196              0.355715  \n",
       "S1_Sound              0.463040              0.573748  \n",
       "S2_Sound              0.507231              0.557853  \n",
       "S3_Sound              0.536820              0.531685  \n",
       "S4_Sound              0.466848              0.460287  \n",
       "S5_CO2                0.473437              0.660144  \n",
       "S5_CO2_Slope          0.425346              0.601105  \n",
       "S6_PIR                0.571125              0.633133  \n",
       "S7_PIR                1.000000              0.695138  \n",
       "Room_Occupancy_Count  0.695138              1.000000  "
      ]
     },
     "execution_count": 4,
     "metadata": {},
     "output_type": "execute_result"
    }
   ],
   "source": [
    "# Displays the correlations between each and every variables\n",
    "data.corr()"
   ]
  },
  {
   "cell_type": "markdown",
   "id": "c21f18b5",
   "metadata": {},
   "source": [
    "### Pulling our Independent (x) and Dependent (y) Variables from the DataFrame\n",
    "##### Next we are going to access the Independent variable `S1_Light` and Dependent variable `Room_Occupancy_Count` to be stored in the x and y value  \n",
    "The `values` function accesses the values in the dataset at the index of the given variable name"
   ]
  },
  {
   "cell_type": "code",
<<<<<<< Updated upstream
   "execution_count": 5,
=======
   "execution_count": 4,
   "id": "34052e01",
>>>>>>> Stashed changes
   "metadata": {},
   "outputs": [
    {
     "name": "stdout",
     "output_type": "stream",
     "text": [
      "[[121]\n",
      " [121]\n",
      " [121]\n",
      " ...\n",
      " [  6]\n",
      " [  6]\n",
      " [  6]]\n",
      "[1 1 1 ... 0 0 0]\n"
     ]
    }
   ],
   "source": [
    "# Matrix of features x and prints data x\n",
    "x = data[['S1_Light']].values\n",
    "print(x)\n",
    "\n",
    "# Array of independent variable y and prints data y\n",
    "y = data['Room_Occupancy_Count'].values\n",
    "print(y)"
   ]
  },
  {
   "cell_type": "markdown",
   "id": "73e265c7",
   "metadata": {},
   "source": [
    "### Splitting the Data Set into Testing and Training Subsets\n",
    "##### Next we use the `train_test_split()` method in the sklearn library to split the data into test and train sets \n",
    "The train_test_split gives test/train data to x and y  \n",
    "Create test and train datasets with 0.2 (20%) of the dataset being test data  \n",
    "The `random_state` decides which indices of data to pull from  \n"
   ]
  },
  {
   "cell_type": "code",
<<<<<<< Updated upstream
   "execution_count": 6,
=======
   "execution_count": 5,
   "id": "669c606e",
>>>>>>> Stashed changes
   "metadata": {},
   "outputs": [],
   "source": [
    "from sklearn.model_selection import train_test_split\n",
    "\n",
    "# The train_test_split gives test/train data to x and y\n",
    "# Create test and train datasets with 0.2 (20%) of the dataset being test data\n",
    "# The random_state decides which indices of data to pull from\n",
    "x_train, x_test, y_train, y_test = train_test_split(x, y, test_size = 0.2, random_state = 3)"
   ]
  },
  {
   "cell_type": "markdown",
   "id": "ec33aea2",
   "metadata": {},
   "source": [
    "### Creating the Linear Regression Model using Sklearn and Fitting our Training Data to the Model"
   ]
  },
  {
   "cell_type": "code",
<<<<<<< Updated upstream
   "execution_count": 11,
=======
   "execution_count": 6,
   "id": "048ac202",
>>>>>>> Stashed changes
   "metadata": {},
   "outputs": [
    {
     "data": {
      "text/plain": [
       "LinearRegression()"
      ]
     },
     "execution_count": 11,
     "metadata": {},
     "output_type": "execute_result"
    }
   ],
   "source": [
    "from sklearn.linear_model import LinearRegression\n",
    "\n",
    "# Creating the linear regression object\n",
    "regr = LinearRegression()\n",
    "\n",
    "# The regr.fit() measures how well the x and y train data fit the model\n",
    "regr.fit(x_train, y_train)"
   ]
  },
  {
   "cell_type": "markdown",
   "id": "8fa81caa",
   "metadata": {},
   "source": [
    "### Predicting the Room Occupancy from our Independent Variable Test Set\n",
    "##### In this step we take in the independent variable test set for a the parameter in the `predict()` method in order to predict the outcome for the dependent variable."
   ]
  },
  {
   "cell_type": "code",
<<<<<<< Updated upstream
   "execution_count": 8,
=======
   "execution_count": 7,
   "id": "947311f6",
>>>>>>> Stashed changes
   "metadata": {},
   "outputs": [],
   "source": [
    "# The regr.predict() creates a prediction based on the x test data\n",
    "y_pred = regr.predict(x_test)"
   ]
  },
  {
   "cell_type": "markdown",
   "id": "9ebe08bf",
   "metadata": {},
   "source": [
    "### Finding the Metrics to Analyze the Prediction\n",
    "###### In this step we use various functions and methods in order to see how well our linear regression model is predicting our data. The  `coef_` function tells us the **correlation coefficient**, which shows in what way our variables correlate with each other. Next up we have the `mean_squared_error()` method, which shows us the distance from the estimated values and the true values; The best possible score would be 0. Lastly there's the `r2_score()` method which is responsible for displaying how well our data fits the current model, with an R^2 score of 1."
   ]
  },
  {
   "cell_type": "code",
<<<<<<< Updated upstream
   "execution_count": 9,
=======
   "execution_count": 8,
   "id": "c3797c97",
>>>>>>> Stashed changes
   "metadata": {},
   "outputs": [],
   "source": [
    "from sklearn.metrics import mean_squared_error, r2_score"
   ]
  },
  {
   "cell_type": "code",
<<<<<<< Updated upstream
   "execution_count": 12,
=======
   "execution_count": 9,
   "id": "6084af51",
>>>>>>> Stashed changes
   "metadata": {},
   "outputs": [
    {
     "name": "stdout",
     "output_type": "stream",
     "text": [
      "Coefficients: \n",
      " [0.01485442]\n",
      "Root mean squared error: 0.46\n",
      "Coefficient of determination: 0.73\n"
     ]
    }
   ],
   "source": [
    "# Prints the coefficients\n",
    "print(\"Coefficients: \\n\", regr.coef_)\n",
    "\n",
    "# Prints the mean squared error\n",
    "print(\"Root mean squared error: %.2f\" % mean_squared_error(y_test, y_pred, squared=False))\n",
    "\n",
    "# Prints the coefficient of determination: 1 is perfect prediction\n",
    "print(\"Coefficient of determination: %.2f\" % r2_score(y_test, y_pred))"
   ]
  },
  {
   "cell_type": "markdown",
   "id": "6a44b89c",
   "metadata": {},
   "source": [
    "### Plotting the Linear Regression\n",
    "##### Using `plt` in **matplotlib** library we can print out the different aspects of our linear regression graph."
   ]
  },
  {
   "cell_type": "code",
<<<<<<< Updated upstream
   "execution_count": 14,
=======
   "execution_count": 10,
   "id": "52b5ef93",
>>>>>>> Stashed changes
   "metadata": {},
   "outputs": [
    {
     "data": {
      "image/png": "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\n",
      "text/plain": [
       "<Figure size 640x480 with 1 Axes>"
      ]
     },
     "metadata": {},
     "output_type": "display_data"
    }
   ],
   "source": [
    "# The plt.scatter() plots the x and y test points in the linear regression model\n",
    "plt.scatter(x_test, y_test, color=\"black\")\n",
    "\n",
    "# The plt.plot() creates the line of best fit\n",
    "plt.plot(x_test, y_pred, color=\"blue\", linewidth=3)\n",
    "\n",
    "# Sets the x-axis, y-axis, and title of the model\n",
    "plt.xlabel('S1_Light')\n",
    "plt.ylabel('Room Occupancy')\n",
    "plt.title('Room Occupancy VS S1_Light Sensor')\n",
    "\n",
    "# The plt.show() displays the model\n",
    "plt.show()"
   ]
  },
  {
   "cell_type": "markdown",
   "id": "02357149",
   "metadata": {},
   "source": [
    "### Converting the Sklearn Model into Onnx for use on the Wallaroo Platform\n",
    "##### For the next step refer to [sklearn-regression-to-onnx tutorial] in the wallaroo documentation for how to convert file to onnx.\n",
    "[sklearn-regression-to-onnx]:https://docs.wallaroo.ai/wallaroo-tutorials/conversion-tutorials/sklearn-regression-to-onnx/ \"sklearn-regression-to-onnx\""
   ]
  },
  {
   "cell_type": "code",
<<<<<<< Updated upstream
   "execution_count": 18,
=======
   "execution_count": 11,
   "id": "ea14927e",
>>>>>>> Stashed changes
   "metadata": {},
   "outputs": [],
   "source": [
    "# Used to load the sk-learn model\n",
    "import pickle\n",
    "\n",
    "# Used for the conversion process\n",
    "import onnx, skl2onnx, onnxmltools\n",
    "from skl2onnx.common.data_types import FloatTensorType\n",
    "from skl2onnx.common.data_types import DoubleTensorType"
   ]
  },
  {
   "cell_type": "code",
<<<<<<< Updated upstream
   "execution_count": 19,
=======
   "execution_count": 12,
   "id": "a0100225",
>>>>>>> Stashed changes
   "metadata": {},
   "outputs": [],
   "source": [
    "# The model_to_onnx converts the model to onnx to be upload to Wallaroo Platfrom\n",
    "# For more detailed steps refer to \"model_conversion\"\n",
    "def model_to_onnx(model, cols, *, input_type='Double'):\n",
    "    input_type_lower=input_type.lower()\n",
    "    # How to manage float values\n",
    "    if input_type=='Double':\n",
    "        tensor_type=DoubleTensorType\n",
    "    elif input_type=='Float':\n",
    "        tensor_type=FloatTensorType\n",
    "    else:\n",
    "        raise ValueError(\"bad input type\")\n",
    "    tensor_size=cols\n",
    "    initial_type=[(f'{input_type_lower}_input', tensor_type([None, tensor_size]))]\n",
    "    onnx_model=onnxmltools.convert_sklearn(model,initial_types=initial_type)\n",
    "    return onnx_model"
   ]
  },
  {
   "cell_type": "code",
<<<<<<< Updated upstream
   "execution_count": 20,
=======
   "execution_count": 13,
   "id": "d7d0e0ed",
>>>>>>> Stashed changes
   "metadata": {},
   "outputs": [],
   "source": [
    "# The pickle.dump() creating the sample.pickle file\n",
    "pickle.dump(regr, open('occupancy_model.pickle', 'wb'))\n",
    "\n",
    "# The pickle.load() is storing the file into a variable\n",
    "sklearn_model = pickle.load(open('occupancy_model.pickle', 'rb'))"
   ]
  },
  {
   "cell_type": "code",
<<<<<<< Updated upstream
   "execution_count": 21,
=======
   "execution_count": 14,
   "id": "7b73fd81",
>>>>>>> Stashed changes
   "metadata": {},
   "outputs": [],
   "source": [
    "# The model_to_onnx() takes the pickle file and converts it to onnx\n",
    "onnx_model_converted = model_to_onnx(sklearn_model, 1)\n",
    "\n",
    "# The onnx.save_model() saves the converted model into a file\n",
    "onnx.save_model(onnx_model_converted, \"occupancy_model.onnx\")"
   ]
  },
  {
   "cell_type": "code",
<<<<<<< Updated upstream
   "execution_count": 22,
=======
   "execution_count": null,
   "id": "cfc0bf51-bf7e-4142-840e-afe26a6351f2",
   "metadata": {},
   "outputs": [],
   "source": [
    "### Implementing into Wallaroo\n",
    "##### Reference the [Wallaroo 101 Tutorial] for how to access the wallaroo platform\n",
    "[Wallaroo 101 Tutorial]: https://docs.wallaroo.ai/wallaroo-101/ \"Wallaroo 101\""
   ]
  },
  {
   "cell_type": "code",
   "execution_count": 15,
   "id": "30bfe14a",
>>>>>>> Stashed changes
   "metadata": {},
   "outputs": [
    {
     "name": "stdout",
     "output_type": "stream",
     "text": [
      "Please log into the following URL in a web browser:\n",
      "\n",
      "\thttps://flashy-bear-7133.keycloak.wallaroo.community/auth/realms/master/device?user_code=SDUS-TOCX\n",
      "\n",
      "Login successful!\n"
     ]
    }
   ],
   "source": [
    "# Needed for the use of Wallaroo\n",
    "import wallaroo\n",
    "\n",
    "# The wallaroo.Client() allows the file to access wallaroo platform\n",
    "wl = wallaroo.Client()"
   ]
  },
  {
   "cell_type": "code",
<<<<<<< Updated upstream
   "execution_count": 24,
=======
   "execution_count": 16,
   "id": "407fc579",
>>>>>>> Stashed changes
   "metadata": {},
   "outputs": [],
   "source": [
    "# Creates the name for workspace, pipeline, and model\n",
    "workspace_name = 'mnsuproject'\n",
    "pipeline_name = 'occupancypipeline'\n",
    "model_name = 'occupancymodel'\n",
    "\n",
    "# Created to fetch the model\n",
    "model_file_name = 'occupancy_model.onnx'"
   ]
  },
  {
   "cell_type": "code",
<<<<<<< Updated upstream
   "execution_count": 26,
=======
   "execution_count": 17,
   "id": "3092bafe",
>>>>>>> Stashed changes
   "metadata": {},
   "outputs": [],
   "source": [
    "# The get_workspace() gets/create the workspace when needed\n",
    "# For more detailed steps refer to \"wallaroo-101\"\n",
    "def get_workspace(name):\n",
    "    wl = wallaroo.Client()\n",
    "    workspace = None\n",
    "    for ws in wl.list_workspaces():\n",
    "        if ws.name() == name:\n",
    "            workspace= ws\n",
    "    if(workspace == None):\n",
    "        workspace = wl.create_workspace(name)\n",
    "    return workspace\n",
    "\n",
    "# The get_pipeline() gets/create the pipeline when needed\n",
    "# For more detailed steps refer to \"wallaroo-101\"\n",
    "def get_pipeline(name):\n",
    "    wl = wallaroo.Client()\n",
    "    try:\n",
    "        pipeline = wl.pipelines_by_name(pipeline_name)[0]\n",
    "    except EntityNotFoundError:\n",
    "        pipeline = wl.build_pipeline(pipeline_name)\n",
    "    return pipeline"
   ]
  },
  {
   "cell_type": "code",
<<<<<<< Updated upstream
   "execution_count": 27,
=======
   "execution_count": 18,
   "id": "25f943e4",
>>>>>>> Stashed changes
   "metadata": {},
   "outputs": [
    {
     "data": {
      "text/plain": [
       "{'name': 'mnsuproject', 'id': 13, 'archived': False, 'created_by': '5e5c838e-b6db-4c1c-935d-64e91be15b8e', 'created_at': '2022-09-21T20:20:36.547755+00:00', 'models': [{'name': 'occupancymodel', 'version': '45904398-7ce1-4cfe-b01f-91524c8ecba8', 'file_name': 'occupancy_model.onnx', 'image_path': None, 'last_update_time': datetime.datetime(2022, 9, 21, 20, 20, 37, 517983, tzinfo=tzutc())}, {'name': 'occupancymodel', 'version': '303d4175-44ce-4939-a50d-ebccf53e3e36', 'file_name': 'occupancy_model.onnx', 'image_path': None, 'last_update_time': datetime.datetime(2022, 9, 28, 15, 19, 26, 509665, tzinfo=tzutc())}, {'name': 'occupancymodel', 'version': '14d781b4-8f09-43be-835e-6cae3cfe16e9', 'file_name': 'occupancy_model.onnx', 'image_path': None, 'last_update_time': datetime.datetime(2022, 9, 28, 15, 26, 39, 900902, tzinfo=tzutc())}, {'name': 'occupancymodel', 'version': '75687b2b-6246-4565-933c-f57ec9e832d0', 'file_name': 'occupancy_model.onnx', 'image_path': None, 'last_update_time': datetime.datetime(2022, 9, 28, 15, 27, 14, 409271, tzinfo=tzutc())}, {'name': 'occupancymodel', 'version': '843a4b17-44ce-4e4a-aff9-a04fe5ae5d5b', 'file_name': 'occupancy_model.onnx', 'image_path': None, 'last_update_time': datetime.datetime(2022, 9, 28, 15, 27, 17, 133541, tzinfo=tzutc())}, {'name': 'occupancymodel', 'version': '26e01304-ce60-4d3d-84cf-ddf22d1ef031', 'file_name': 'occupancy_model.onnx', 'image_path': None, 'last_update_time': datetime.datetime(2022, 9, 28, 16, 5, 30, 884080, tzinfo=tzutc())}, {'name': 'occupancymodel', 'version': '2fc177bb-295a-41e1-8b30-e8b772c927b5', 'file_name': 'occupancy_model.onnx', 'image_path': None, 'last_update_time': datetime.datetime(2022, 9, 28, 16, 10, 26, 135128, tzinfo=tzutc())}, {'name': 'occupancymodel', 'version': '52f6b14c-70f3-4984-b25a-43fef414ad85', 'file_name': 'occupancy_model.onnx', 'image_path': None, 'last_update_time': datetime.datetime(2022, 9, 28, 16, 12, 11, 410656, tzinfo=tzutc())}, {'name': 'occupancymodel', 'version': '908068c2-6b28-4626-ac0f-7d6830195045', 'file_name': 'occupancy_model.onnx', 'image_path': None, 'last_update_time': datetime.datetime(2022, 9, 28, 16, 13, 36, 578110, tzinfo=tzutc())}, {'name': 'postprocess', 'version': 'bfeeb7ef-2509-4da5-965f-a089c50044d2', 'file_name': 'postprocess.py', 'image_path': None, 'last_update_time': datetime.datetime(2022, 9, 28, 16, 10, 26, 278112, tzinfo=tzutc())}, {'name': 'postprocess', 'version': '0c2da61b-5677-4cdc-a29f-a170c76c3e4b', 'file_name': 'postprocess.py', 'image_path': None, 'last_update_time': datetime.datetime(2022, 9, 28, 16, 12, 11, 525542, tzinfo=tzutc())}, {'name': 'postprocess', 'version': 'ba9760fe-4c05-4073-9c4b-6f93a413bfb6', 'file_name': 'postprocess.py', 'image_path': None, 'last_update_time': datetime.datetime(2022, 9, 28, 16, 13, 36, 691197, tzinfo=tzutc())}], 'pipelines': [{'name': 'occupancypipeline', 'create_time': datetime.datetime(2022, 9, 21, 20, 20, 37, 684974, tzinfo=tzutc()), 'definition': '[]'}]}"
      ]
     },
     "execution_count": 27,
     "metadata": {},
     "output_type": "execute_result"
    }
   ],
   "source": [
    "# Calls function to create workspace\n",
    "workspace = get_workspace(workspace_name)\n",
    "\n",
    "# The wl.set_current_workspace() sets the workspace to currently being worked on\n",
    "wl.set_current_workspace(workspace)"
   ]
  },
  {
   "cell_type": "code",
<<<<<<< Updated upstream
   "execution_count": 28,
=======
   "execution_count": 19,
   "id": "39ca8b16",
>>>>>>> Stashed changes
   "metadata": {},
   "outputs": [
    {
     "data": {
      "text/html": [
       "\n",
       "        <table>\n",
       "            <tr>\n",
       "                <th>Name</th>\n",
       "                <th>Created At</th>\n",
       "                <th>Users</th>\n",
       "                <th>Models</th>\n",
       "                <th>Pipelines</th>\n",
       "            </tr>\n",
       "            \n",
       "        <tr >\n",
       "            <td>v-dylan.moore@wallaroo.ai - Default Workspace</td>\n",
       "            <td>2022-09-02 21:39:41</td>\n",
       "            <td>['v-dylan.moore@wallaroo.ai', 'v-samuel.baeyen@wallaroo.ai', 'v-joseph.bigger@wallaroo.ai', 'v-jit.bhakta@wallaroo.ai', 'v-nathaniel.bursch@wallaroo.ai']</td>\n",
       "            <td>1</td>\n",
       "            <td>0</td>\n",
       "        </tr>\n",
       "        \n",
       "\n",
       "        <tr >\n",
       "            <td>v-jit.bhakta@wallaroo.ai - Default Workspace</td>\n",
       "            <td>2022-09-07 14:46:10</td>\n",
       "            <td>['v-jit.bhakta@wallaroo.ai']</td>\n",
       "            <td>1</td>\n",
       "            <td>1</td>\n",
       "        </tr>\n",
       "        \n",
       "\n",
       "        <tr >\n",
       "            <td>testautoconversion</td>\n",
       "            <td>2022-09-21 15:04:52</td>\n",
       "            <td>['v-joseph.bigger@wallaroo.ai', 'v-jit.bhakta@wallaroo.ai', 'v-dylan.moore@wallaroo.ai', 'v-samuel.baeyen@wallaroo.ai', 'v-nathaniel.bursch@wallaroo.ai']</td>\n",
       "            <td>23</td>\n",
       "            <td>3</td>\n",
       "        </tr>\n",
       "        \n",
       "\n",
       "        <tr >\n",
       "            <td>mnsuproject</td>\n",
       "            <td>2022-09-21 20:20:36</td>\n",
       "            <td>['v-dylan.moore@wallaroo.ai', 'v-samuel.baeyen@wallaroo.ai', 'v-nathaniel.bursch@wallaroo.ai', 'v-joseph.bigger@wallaroo.ai', 'v-jit.bhakta@wallaroo.ai']</td>\n",
       "            <td>14</td>\n",
       "            <td>1</td>\n",
       "        </tr>\n",
       "        \n",
       "\n",
       "        <tr >\n",
       "            <td>jeetstestingsite</td>\n",
       "            <td>2022-09-21 21:19:05</td>\n",
       "            <td>['v-jit.bhakta@wallaroo.ai']</td>\n",
       "            <td>1</td>\n",
       "            <td>1</td>\n",
       "        </tr>\n",
       "        \n",
       "        </table>\n",
       "        "
      ],
      "text/plain": [
       "[{'name': 'v-dylan.moore@wallaroo.ai - Default Workspace', 'id': 1, 'archived': False, 'created_by': '5e5c838e-b6db-4c1c-935d-64e91be15b8e', 'created_at': '2022-09-02T21:39:41.313648+00:00', 'models': [{'name': 'lm-test', 'version': 'cde39aed-9c8e-4a38-85d8-7d0be75a7cda', 'file_name': '77be5153-cce8-4827-aa12-be63e757dd36-converted.onnx', 'image_path': None, 'last_update_time': datetime.datetime(2022, 9, 21, 15, 25, 31, 223511, tzinfo=tzutc())}], 'pipelines': []},\n",
       " {'name': 'v-jit.bhakta@wallaroo.ai - Default Workspace', 'id': 2, 'archived': False, 'created_by': '6ed6b43f-d12c-46c7-82ef-c8865aa7af75', 'created_at': '2022-09-07T14:46:10.144674+00:00', 'models': [{'name': 'occupancymodel', 'version': '87cff996-d418-4cf0-928e-1f27c4acd9ee', 'file_name': 'occupancy_model.onnx', 'image_path': None, 'last_update_time': datetime.datetime(2022, 9, 21, 21, 39, 27, 61576, tzinfo=tzutc())}], 'pipelines': [{'name': 'occupancypipeline', 'create_time': datetime.datetime(2022, 9, 21, 21, 39, 33, 424984, tzinfo=tzutc()), 'definition': '[]'}]},\n",
       " {'name': 'testautoconversion', 'id': 7, 'archived': False, 'created_by': '15716047-e288-4631-b1a3-b5ae5a2eeb6d', 'created_at': '2022-09-21T15:04:52.908889+00:00', 'models': [{'name': 'lm-test', 'version': 'd6ca80d3-186e-4689-855c-46fee2195db9', 'file_name': '85ce7b77-2659-4db2-9ba8-e72b9c322373-converted.onnx', 'image_path': None, 'last_update_time': datetime.datetime(2022, 9, 21, 15, 16, 33, 327108, tzinfo=tzutc())}, {'name': 'occupancysam', 'version': '5e730092-de08-4c6c-ac3f-ea4eea0d2b59', 'file_name': 'occupancy.onnx', 'image_path': None, 'last_update_time': datetime.datetime(2022, 9, 21, 17, 12, 25, 591446, tzinfo=tzutc())}, {'name': 'occupancysam', 'version': '7bcb93d0-021a-43f2-a371-dc2313cf5059', 'file_name': 'occupancy.onnx', 'image_path': None, 'last_update_time': datetime.datetime(2022, 9, 21, 17, 17, 4, 288347, tzinfo=tzutc())}, {'name': 'occupancysam', 'version': 'f448f86c-3694-424c-9cf8-d75a9431ec3e', 'file_name': 'occupancy.onnx', 'image_path': None, 'last_update_time': datetime.datetime(2022, 9, 21, 17, 19, 50, 751812, tzinfo=tzutc())}, {'name': 'occupancy', 'version': '74817c84-27a6-475d-9184-4ec72f88c177', 'file_name': 'occupancy.onnx', 'image_path': None, 'last_update_time': datetime.datetime(2022, 9, 21, 17, 21, 56, 390527, tzinfo=tzutc())}, {'name': 'occupancy', 'version': '6f69476a-e4e2-498f-8fd6-6595aa8b2335', 'file_name': 'occupancy.onnx', 'image_path': None, 'last_update_time': datetime.datetime(2022, 9, 21, 17, 39, 54, 44706, tzinfo=tzutc())}, {'name': 'occupancymodel', 'version': 'ca7d23c2-dd07-48cc-8192-475ad9777bbe', 'file_name': 'occupancy_model.onnx', 'image_path': None, 'last_update_time': datetime.datetime(2022, 9, 21, 15, 33, 33, 173341, tzinfo=tzutc())}, {'name': 'occupancymodel', 'version': '416cfc45-ef4d-43bb-9ba9-f8f175413042', 'file_name': 'occupancy_model.onnx', 'image_path': None, 'last_update_time': datetime.datetime(2022, 9, 21, 15, 33, 43, 5656, tzinfo=tzutc())}, {'name': 'occupancymodel', 'version': 'bcda1082-a4b3-45b3-8c5c-adc31c5b07a4', 'file_name': 'occupancy_model.onnx', 'image_path': None, 'last_update_time': datetime.datetime(2022, 9, 21, 15, 54, 52, 163356, tzinfo=tzutc())}, {'name': 'occupancymodel', 'version': '22ac6454-89d9-444c-9f58-0a0e68e512e2', 'file_name': 'occupancy_model.onnx', 'image_path': None, 'last_update_time': datetime.datetime(2022, 9, 21, 16, 13, 28, 456300, tzinfo=tzutc())}, {'name': 'occupancymodel', 'version': 'be24d430-78db-4c18-acb5-143935375c01', 'file_name': 'occupancy_model.onnx', 'image_path': None, 'last_update_time': datetime.datetime(2022, 9, 21, 16, 27, 10, 572124, tzinfo=tzutc())}, {'name': 'occupancymodel', 'version': 'd3dd51df-fe21-4ecd-95da-6eb3b5e7815e', 'file_name': 'occupancy_model.onnx', 'image_path': None, 'last_update_time': datetime.datetime(2022, 9, 21, 18, 22, 11, 535528, tzinfo=tzutc())}, {'name': 'houserent', 'version': '444d7258-9ac1-4668-be34-b56129198654', 'file_name': 'HouseRent.onnx', 'image_path': None, 'last_update_time': datetime.datetime(2022, 9, 21, 16, 9, 12, 85450, tzinfo=tzutc())}, {'name': 'houserent', 'version': 'c81ee3c6-fde4-4c0b-8e3a-fcde6ab07c46', 'file_name': 'HouseRent.onnx', 'image_path': None, 'last_update_time': datetime.datetime(2022, 9, 21, 16, 9, 36, 579643, tzinfo=tzutc())}, {'name': 'houserent', 'version': 'fc65bfd9-45a6-4513-b960-7a7ab54e2146', 'file_name': 'houserent.onnx', 'image_path': None, 'last_update_time': datetime.datetime(2022, 9, 21, 16, 11, 37, 189421, tzinfo=tzutc())}, {'name': 'houserent', 'version': '79d9e21b-f634-4d59-854e-62937efeb480', 'file_name': 'houserent.onnx', 'image_path': None, 'last_update_time': datetime.datetime(2022, 9, 21, 16, 12, 4, 833019, tzinfo=tzutc())}, {'name': 'houserent', 'version': '3735932c-d112-425e-bba1-9399d8fc789a', 'file_name': 'houserent.onnx', 'image_path': None, 'last_update_time': datetime.datetime(2022, 9, 21, 16, 26, 50, 820067, tzinfo=tzutc())}, {'name': 'houserent', 'version': 'aa74c723-d127-4f57-a55c-289381fb7a9b', 'file_name': 'houserent.onnx', 'image_path': None, 'last_update_time': datetime.datetime(2022, 9, 21, 16, 28, 14, 236463, tzinfo=tzutc())}, {'name': 'houserent', 'version': 'd324cebd-60af-4e0b-aae2-bf7c235943d5', 'file_name': 'houserent.onnx', 'image_path': None, 'last_update_time': datetime.datetime(2022, 9, 21, 17, 33, 31, 410152, tzinfo=tzutc())}, {'name': 'houserent', 'version': '94a49581-32e7-4b3b-a5d6-98ad8ecc7fe9', 'file_name': 'houserent.onnx', 'image_path': None, 'last_update_time': datetime.datetime(2022, 9, 21, 17, 34, 6, 63865, tzinfo=tzutc())}, {'name': 'houserent', 'version': 'e77e2cc6-cf8d-4dbb-9355-9ca8309407bb', 'file_name': 'houserent.onnx', 'image_path': None, 'last_update_time': datetime.datetime(2022, 9, 21, 17, 35, 5, 413521, tzinfo=tzutc())}, {'name': 'houserent', 'version': '47a871cf-dda7-4e40-b2fa-1442c819010e', 'file_name': 'houserent.onnx', 'image_path': None, 'last_update_time': datetime.datetime(2022, 9, 21, 17, 37, 56, 540132, tzinfo=tzutc())}, {'name': 'houserent', 'version': '0d248778-528f-460a-9efb-c3265856c064', 'file_name': 'houserent.onnx', 'image_path': None, 'last_update_time': datetime.datetime(2022, 9, 21, 21, 31, 31, 149130, tzinfo=tzutc())}], 'pipelines': [{'name': 'occupancypipeline', 'create_time': datetime.datetime(2022, 9, 21, 15, 34, 13, 981267, tzinfo=tzutc()), 'definition': '[]'}, {'name': 'jeet-houserent-pipeline', 'create_time': datetime.datetime(2022, 9, 21, 16, 14, 56, 213389, tzinfo=tzutc()), 'definition': '[]'}, {'name': 'occupancypiplinesam', 'create_time': datetime.datetime(2022, 9, 21, 17, 14, 9, 582507, tzinfo=tzutc()), 'definition': '[]'}]},\n",
       " {'name': 'mnsuproject', 'id': 13, 'archived': False, 'created_by': '5e5c838e-b6db-4c1c-935d-64e91be15b8e', 'created_at': '2022-09-21T20:20:36.547755+00:00', 'models': [{'name': 'occupancymodel', 'version': '45904398-7ce1-4cfe-b01f-91524c8ecba8', 'file_name': 'occupancy_model.onnx', 'image_path': None, 'last_update_time': datetime.datetime(2022, 9, 21, 20, 20, 37, 517983, tzinfo=tzutc())}, {'name': 'occupancymodel', 'version': '303d4175-44ce-4939-a50d-ebccf53e3e36', 'file_name': 'occupancy_model.onnx', 'image_path': None, 'last_update_time': datetime.datetime(2022, 9, 28, 15, 19, 26, 509665, tzinfo=tzutc())}, {'name': 'occupancymodel', 'version': '14d781b4-8f09-43be-835e-6cae3cfe16e9', 'file_name': 'occupancy_model.onnx', 'image_path': None, 'last_update_time': datetime.datetime(2022, 9, 28, 15, 26, 39, 900902, tzinfo=tzutc())}, {'name': 'occupancymodel', 'version': '75687b2b-6246-4565-933c-f57ec9e832d0', 'file_name': 'occupancy_model.onnx', 'image_path': None, 'last_update_time': datetime.datetime(2022, 9, 28, 15, 27, 14, 409271, tzinfo=tzutc())}, {'name': 'occupancymodel', 'version': '843a4b17-44ce-4e4a-aff9-a04fe5ae5d5b', 'file_name': 'occupancy_model.onnx', 'image_path': None, 'last_update_time': datetime.datetime(2022, 9, 28, 15, 27, 17, 133541, tzinfo=tzutc())}, {'name': 'occupancymodel', 'version': '26e01304-ce60-4d3d-84cf-ddf22d1ef031', 'file_name': 'occupancy_model.onnx', 'image_path': None, 'last_update_time': datetime.datetime(2022, 9, 28, 16, 5, 30, 884080, tzinfo=tzutc())}, {'name': 'occupancymodel', 'version': '2fc177bb-295a-41e1-8b30-e8b772c927b5', 'file_name': 'occupancy_model.onnx', 'image_path': None, 'last_update_time': datetime.datetime(2022, 9, 28, 16, 10, 26, 135128, tzinfo=tzutc())}, {'name': 'occupancymodel', 'version': '52f6b14c-70f3-4984-b25a-43fef414ad85', 'file_name': 'occupancy_model.onnx', 'image_path': None, 'last_update_time': datetime.datetime(2022, 9, 28, 16, 12, 11, 410656, tzinfo=tzutc())}, {'name': 'occupancymodel', 'version': '908068c2-6b28-4626-ac0f-7d6830195045', 'file_name': 'occupancy_model.onnx', 'image_path': None, 'last_update_time': datetime.datetime(2022, 9, 28, 16, 13, 36, 578110, tzinfo=tzutc())}, {'name': 'occupancymodel', 'version': 'b86f0c59-72a5-423f-8fab-f0f6403f6b49', 'file_name': 'occupancy_model.onnx', 'image_path': None, 'last_update_time': datetime.datetime(2022, 9, 28, 16, 17, 32, 521642, tzinfo=tzutc())}, {'name': 'postprocess', 'version': 'bfeeb7ef-2509-4da5-965f-a089c50044d2', 'file_name': 'postprocess.py', 'image_path': None, 'last_update_time': datetime.datetime(2022, 9, 28, 16, 10, 26, 278112, tzinfo=tzutc())}, {'name': 'postprocess', 'version': '0c2da61b-5677-4cdc-a29f-a170c76c3e4b', 'file_name': 'postprocess.py', 'image_path': None, 'last_update_time': datetime.datetime(2022, 9, 28, 16, 12, 11, 525542, tzinfo=tzutc())}, {'name': 'postprocess', 'version': 'ba9760fe-4c05-4073-9c4b-6f93a413bfb6', 'file_name': 'postprocess.py', 'image_path': None, 'last_update_time': datetime.datetime(2022, 9, 28, 16, 13, 36, 691197, tzinfo=tzutc())}, {'name': 'postprocess', 'version': '82b16f27-e66b-4f52-9d91-3060d7daebed', 'file_name': 'postprocess.py', 'image_path': None, 'last_update_time': datetime.datetime(2022, 9, 28, 16, 17, 32, 629053, tzinfo=tzutc())}], 'pipelines': [{'name': 'occupancypipeline', 'create_time': datetime.datetime(2022, 9, 21, 20, 20, 37, 684974, tzinfo=tzutc()), 'definition': '[]'}]},\n",
       " {'name': 'jeetstestingsite', 'id': 14, 'archived': False, 'created_by': '6ed6b43f-d12c-46c7-82ef-c8865aa7af75', 'created_at': '2022-09-21T21:19:05.209884+00:00', 'models': [{'name': 'occupancymodel', 'version': '096e671e-f948-48d8-97dd-aaf1124a9012', 'file_name': 'occupancy_model.onnx', 'image_path': None, 'last_update_time': datetime.datetime(2022, 9, 21, 21, 19, 6, 300031, tzinfo=tzutc())}], 'pipelines': [{'name': 'occupancypipeline', 'create_time': datetime.datetime(2022, 9, 21, 21, 19, 6, 478908, tzinfo=tzutc()), 'definition': '[]'}]}]"
      ]
     },
     "execution_count": 28,
     "metadata": {},
     "output_type": "execute_result"
    }
   ],
   "source": [
    "# Thw wl.list_workspaces() prints the lists of the workspaces\n",
    "wl.list_workspaces()"
   ]
  },
  {
   "cell_type": "code",
<<<<<<< Updated upstream
   "execution_count": 29,
=======
   "execution_count": 20,
   "id": "39d6f7e6",
>>>>>>> Stashed changes
   "metadata": {},
   "outputs": [
    {
     "data": {
      "text/plain": [
       "{'name': 'mnsuproject', 'id': 13, 'archived': False, 'created_by': '5e5c838e-b6db-4c1c-935d-64e91be15b8e', 'created_at': '2022-09-21T20:20:36.547755+00:00', 'models': [{'name': 'occupancymodel', 'version': '45904398-7ce1-4cfe-b01f-91524c8ecba8', 'file_name': 'occupancy_model.onnx', 'image_path': None, 'last_update_time': datetime.datetime(2022, 9, 21, 20, 20, 37, 517983, tzinfo=tzutc())}, {'name': 'occupancymodel', 'version': '303d4175-44ce-4939-a50d-ebccf53e3e36', 'file_name': 'occupancy_model.onnx', 'image_path': None, 'last_update_time': datetime.datetime(2022, 9, 28, 15, 19, 26, 509665, tzinfo=tzutc())}, {'name': 'occupancymodel', 'version': '14d781b4-8f09-43be-835e-6cae3cfe16e9', 'file_name': 'occupancy_model.onnx', 'image_path': None, 'last_update_time': datetime.datetime(2022, 9, 28, 15, 26, 39, 900902, tzinfo=tzutc())}, {'name': 'occupancymodel', 'version': '75687b2b-6246-4565-933c-f57ec9e832d0', 'file_name': 'occupancy_model.onnx', 'image_path': None, 'last_update_time': datetime.datetime(2022, 9, 28, 15, 27, 14, 409271, tzinfo=tzutc())}, {'name': 'occupancymodel', 'version': '843a4b17-44ce-4e4a-aff9-a04fe5ae5d5b', 'file_name': 'occupancy_model.onnx', 'image_path': None, 'last_update_time': datetime.datetime(2022, 9, 28, 15, 27, 17, 133541, tzinfo=tzutc())}, {'name': 'occupancymodel', 'version': '26e01304-ce60-4d3d-84cf-ddf22d1ef031', 'file_name': 'occupancy_model.onnx', 'image_path': None, 'last_update_time': datetime.datetime(2022, 9, 28, 16, 5, 30, 884080, tzinfo=tzutc())}, {'name': 'occupancymodel', 'version': '2fc177bb-295a-41e1-8b30-e8b772c927b5', 'file_name': 'occupancy_model.onnx', 'image_path': None, 'last_update_time': datetime.datetime(2022, 9, 28, 16, 10, 26, 135128, tzinfo=tzutc())}, {'name': 'occupancymodel', 'version': '52f6b14c-70f3-4984-b25a-43fef414ad85', 'file_name': 'occupancy_model.onnx', 'image_path': None, 'last_update_time': datetime.datetime(2022, 9, 28, 16, 12, 11, 410656, tzinfo=tzutc())}, {'name': 'occupancymodel', 'version': '908068c2-6b28-4626-ac0f-7d6830195045', 'file_name': 'occupancy_model.onnx', 'image_path': None, 'last_update_time': datetime.datetime(2022, 9, 28, 16, 13, 36, 578110, tzinfo=tzutc())}, {'name': 'occupancymodel', 'version': 'b86f0c59-72a5-423f-8fab-f0f6403f6b49', 'file_name': 'occupancy_model.onnx', 'image_path': None, 'last_update_time': datetime.datetime(2022, 9, 28, 16, 17, 32, 521642, tzinfo=tzutc())}, {'name': 'occupancymodel', 'version': 'e3556a37-3f42-478d-b94b-39c757ef3c2f', 'file_name': 'occupancy_model.onnx', 'image_path': None, 'last_update_time': datetime.datetime(2022, 9, 28, 16, 18, 16, 53492, tzinfo=tzutc())}, {'name': 'occupancymodel', 'version': '48f0b1fa-22b4-4dcf-a284-48ea0bd2e7c7', 'file_name': 'occupancy_model.onnx', 'image_path': None, 'last_update_time': datetime.datetime(2022, 9, 28, 16, 18, 35, 556111, tzinfo=tzutc())}, {'name': 'postprocess', 'version': 'bfeeb7ef-2509-4da5-965f-a089c50044d2', 'file_name': 'postprocess.py', 'image_path': None, 'last_update_time': datetime.datetime(2022, 9, 28, 16, 10, 26, 278112, tzinfo=tzutc())}, {'name': 'postprocess', 'version': '0c2da61b-5677-4cdc-a29f-a170c76c3e4b', 'file_name': 'postprocess.py', 'image_path': None, 'last_update_time': datetime.datetime(2022, 9, 28, 16, 12, 11, 525542, tzinfo=tzutc())}, {'name': 'postprocess', 'version': 'ba9760fe-4c05-4073-9c4b-6f93a413bfb6', 'file_name': 'postprocess.py', 'image_path': None, 'last_update_time': datetime.datetime(2022, 9, 28, 16, 13, 36, 691197, tzinfo=tzutc())}, {'name': 'postprocess', 'version': '82b16f27-e66b-4f52-9d91-3060d7daebed', 'file_name': 'postprocess.py', 'image_path': None, 'last_update_time': datetime.datetime(2022, 9, 28, 16, 17, 32, 629053, tzinfo=tzutc())}, {'name': 'postprocess', 'version': 'ea7e1d95-3395-41bf-9950-f4749ebb9697', 'file_name': 'postprocess.py', 'image_path': None, 'last_update_time': datetime.datetime(2022, 9, 28, 16, 18, 16, 180172, tzinfo=tzutc())}, {'name': 'postprocess', 'version': '96379c4d-c5f8-4aa2-bda6-514f9586ba11', 'file_name': 'postprocess.py', 'image_path': None, 'last_update_time': datetime.datetime(2022, 9, 28, 16, 18, 35, 668526, tzinfo=tzutc())}], 'pipelines': [{'name': 'occupancypipeline', 'create_time': datetime.datetime(2022, 9, 21, 20, 20, 37, 684974, tzinfo=tzutc()), 'definition': '[]'}]}"
      ]
     },
     "execution_count": 29,
     "metadata": {},
     "output_type": "execute_result"
    }
   ],
   "source": [
    "wl.set_current_workspace(workspace)\n",
    "wl.get_current_workspace()"
   ]
  },
  {
   "cell_type": "code",
<<<<<<< Updated upstream
   "execution_count": 30,
=======
   "execution_count": 21,
   "id": "e1d69981",
>>>>>>> Stashed changes
   "metadata": {},
   "outputs": [],
   "source": [
    "# The wl.upload_model() uploads the model to the platform\n",
    "occupancy_model = wl.upload_model(model_name, model_file_name).configure()"
   ]
  },
  {
   "cell_type": "code",
<<<<<<< Updated upstream
   "execution_count": 63,
=======
   "execution_count": 22,
   "id": "e6bebb49",
>>>>>>> Stashed changes
   "metadata": {},
   "outputs": [],
   "source": [
    "# wl.list_models()"
   ]
  },
  {
   "cell_type": "code",
<<<<<<< Updated upstream
   "execution_count": 31,
=======
   "execution_count": 23,
   "id": "daf00ae6",
>>>>>>> Stashed changes
   "metadata": {},
   "outputs": [
    {
     "data": {
      "text/html": [
       "<table><tr><th>name</th> <td>occupancypipeline</td></tr><tr><th>created</th> <td>2022-09-21 20:20:37.684974+00:00</td></tr><tr><th>last_updated</th> <td>2022-09-28 16:21:37.173417+00:00</td></tr><tr><th>deployed</th> <td>True</td></tr><tr><th>tags</th> <td></td></tr><tr><th>steps</th> <td>occupancymodel</td></tr></table>"
      ],
      "text/plain": [
       "{'name': 'occupancypipeline', 'create_time': datetime.datetime(2022, 9, 21, 20, 20, 37, 684974, tzinfo=tzutc()), 'definition': \"[{'ModelInference': {'models': [{'name': 'occupancymodel', 'version': '902b4d86-916a-49b3-bc25-7910ae214f8b', 'sha': '76fd574509661e0222c6d2db0cf87257d07390e17e92db0e98c6ed26d67d0d5b'}]}}]\"}"
      ]
     },
     "execution_count": 31,
     "metadata": {},
     "output_type": "execute_result"
    }
   ],
   "source": [
    "# The wl.build_pipeline() creates the pipeline\n",
    "occupancy_pipeline = wl.build_pipeline(pipeline_name)\n",
    "\n",
    "# The occuupancy_pipeline.add_model_step() adds the model to pipeline to be deployed\n",
<<<<<<< Updated upstream
    "occupancy_pipeline.add_model_step(occupancy_model)"
=======
    "occupancy_pipeline = occupancy_pipeline.add_model_step(occupancy_model)"
   ]
  },
  {
   "cell_type": "code",
   "execution_count": 24,
   "id": "cf2940ee",
   "metadata": {},
   "outputs": [],
   "source": [
    "# occupancy_pipeline = occupancy_pipeline.add_model_step(module_post)"
>>>>>>> Stashed changes
   ]
  },
  {
   "cell_type": "code",
<<<<<<< Updated upstream
   "execution_count": 32,
=======
   "execution_count": 25,
   "id": "7ebf572d",
   "metadata": {},
   "outputs": [],
   "source": [
    "# module_post"
   ]
  },
  {
   "cell_type": "markdown",
   "id": "bea26efc-ca89-4535-a193-c47424b0e345",
   "metadata": {},
   "source": [
    "### Adding validation to the model\n",
    "##### The `add_validation()` method is set to detects any negative numbers that might be in our models data.  \n",
    "The validation step must be implemented before deploying the pipeline, do to it creating errors if appied after deploying the pipeline.\n"
   ]
  },
  {
   "cell_type": "code",
   "execution_count": 26,
   "id": "3dd492be",
   "metadata": {},
   "outputs": [],
   "source": [
    "occupancy_pipeline = occupancy_pipeline.add_validation('no_negative_people', occupancy_model.outputs[0][0] > float(0))"
   ]
  },
  {
   "cell_type": "code",
   "execution_count": 27,
   "id": "8428146c",
>>>>>>> Stashed changes
   "metadata": {},
   "outputs": [
    {
     "name": "stdout",
     "output_type": "stream",
     "text": [
      " ok\n"
     ]
    },
    {
     "data": {
      "text/html": [
       "<table><tr><th>name</th> <td>occupancypipeline</td></tr><tr><th>created</th> <td>2022-09-21 20:20:37.684974+00:00</td></tr><tr><th>last_updated</th> <td>2022-09-28 16:22:15.397274+00:00</td></tr><tr><th>deployed</th> <td>True</td></tr><tr><th>tags</th> <td></td></tr><tr><th>steps</th> <td>occupancymodel</td></tr></table>"
      ],
      "text/plain": [
       "{'name': 'occupancypipeline', 'create_time': datetime.datetime(2022, 9, 21, 20, 20, 37, 684974, tzinfo=tzutc()), 'definition': \"[{'ModelInference': {'models': [{'name': 'occupancymodel', 'version': '902b4d86-916a-49b3-bc25-7910ae214f8b', 'sha': '76fd574509661e0222c6d2db0cf87257d07390e17e92db0e98c6ed26d67d0d5b'}]}}]\"}"
      ]
     },
     "execution_count": 32,
     "metadata": {},
     "output_type": "execute_result"
    }
   ],
   "source": [
    "# The occupancy_pipeline.deploy() activating the pipeline \n",
    "occupancy_pipeline.deploy()"
   ]
  },
  {
   "cell_type": "code",
<<<<<<< Updated upstream
   "execution_count": 33,
=======
   "execution_count": 28,
   "id": "55eec4b8",
>>>>>>> Stashed changes
   "metadata": {},
   "outputs": [
    {
     "data": {
      "text/plain": [
       "{'status': 'Running',\n",
       " 'details': None,\n",
       " 'engines': [{'ip': '10.244.3.56',\n",
       "   'name': 'engine-5dbd8694bc-ksmbn',\n",
       "   'status': 'Running',\n",
       "   'reason': None,\n",
       "   'pipeline_statuses': {'pipelines': [{'id': 'occupancypipeline',\n",
       "      'status': 'Running'}]},\n",
       "   'model_statuses': {'models': [{'name': 'occupancymodel',\n",
       "      'version': '902b4d86-916a-49b3-bc25-7910ae214f8b',\n",
       "      'sha': '76fd574509661e0222c6d2db0cf87257d07390e17e92db0e98c6ed26d67d0d5b',\n",
       "      'status': 'Running'}]}}],\n",
       " 'engine_lbs': [{'ip': '10.244.0.136',\n",
       "   'name': 'engine-lb-67c854cc86-md24r',\n",
       "   'status': 'Running',\n",
       "   'reason': None}]}"
      ]
     },
     "execution_count": 33,
     "metadata": {},
     "output_type": "execute_result"
    }
   ],
   "source": [
    "# The occupancy_pipeline.status() displays the status of the pipeline\n",
    "occupancy_pipeline.status()"
   ]
  },
  {
   "cell_type": "code",
<<<<<<< Updated upstream
   "execution_count": 34,
=======
   "execution_count": 29,
   "id": "df6f8436",
>>>>>>> Stashed changes
   "metadata": {},
   "outputs": [],
   "source": [
    "# Needed for the infrences\n",
    "import json\n",
    "from wallaroo.object import EntityNotFoundError"
   ]
  },
  {
   "cell_type": "code",
<<<<<<< Updated upstream
   "execution_count": 35,
=======
   "execution_count": 30,
   "id": "04531fa6",
>>>>>>> Stashed changes
   "metadata": {},
   "outputs": [],
   "source": [
    "# The pandas_to_dict() converts the values into dictionary for infrences\n",
    "def pandas_to_dict(df):\n",
    "    input_dict = {\n",
    "    'tensor': df.to_numpy().tolist()\n",
    "    }\n",
    "    return input_dict"
   ]
  },
  {
   "cell_type": "code",
<<<<<<< Updated upstream
   "execution_count": 47,
=======
   "execution_count": 31,
   "id": "9c0cdba2",
>>>>>>> Stashed changes
   "metadata": {},
   "outputs": [
    {
     "data": {
      "text/html": [
       "<div>\n",
       "<style scoped>\n",
       "    .dataframe tbody tr th:only-of-type {\n",
       "        vertical-align: middle;\n",
       "    }\n",
       "\n",
       "    .dataframe tbody tr th {\n",
       "        vertical-align: top;\n",
       "    }\n",
       "\n",
       "    .dataframe thead th {\n",
       "        text-align: right;\n",
       "    }\n",
       "</style>\n",
       "<table border=\"1\" class=\"dataframe\">\n",
       "  <thead>\n",
       "    <tr style=\"text-align: right;\">\n",
       "      <th></th>\n",
       "      <th>S1_Light</th>\n",
       "    </tr>\n",
       "  </thead>\n",
       "  <tbody>\n",
       "    <tr>\n",
       "      <th>0</th>\n",
       "      <td>121</td>\n",
       "    </tr>\n",
       "    <tr>\n",
       "      <th>1</th>\n",
       "      <td>121</td>\n",
       "    </tr>\n",
       "    <tr>\n",
       "      <th>2</th>\n",
       "      <td>121</td>\n",
       "    </tr>\n",
       "    <tr>\n",
       "      <th>3</th>\n",
       "      <td>121</td>\n",
       "    </tr>\n",
       "    <tr>\n",
       "      <th>4</th>\n",
       "      <td>121</td>\n",
       "    </tr>\n",
       "    <tr>\n",
       "      <th>5</th>\n",
       "      <td>121</td>\n",
       "    </tr>\n",
       "    <tr>\n",
       "      <th>6</th>\n",
       "      <td>120</td>\n",
       "    </tr>\n",
       "    <tr>\n",
       "      <th>7</th>\n",
       "      <td>121</td>\n",
       "    </tr>\n",
       "    <tr>\n",
       "      <th>8</th>\n",
       "      <td>122</td>\n",
       "    </tr>\n",
       "    <tr>\n",
       "      <th>9</th>\n",
       "      <td>101</td>\n",
       "    </tr>\n",
       "  </tbody>\n",
       "</table>\n",
       "</div>"
      ],
      "text/plain": [
       "   S1_Light\n",
       "0       121\n",
       "1       121\n",
       "2       121\n",
       "3       121\n",
       "4       121\n",
       "5       121\n",
       "6       120\n",
       "7       121\n",
       "8       122\n",
       "9       101"
      ]
     },
     "execution_count": 47,
     "metadata": {},
     "output_type": "execute_result"
    }
   ],
   "source": [
    "# The data.iloc[# of rows, # of columns] and\n",
    "raw = data.iloc[:10,6:7]\n",
    "raw"
   ]
  },
  {
   "cell_type": "code",
<<<<<<< Updated upstream
   "execution_count": 37,
=======
   "execution_count": 32,
   "id": "0e8bd8c9",
>>>>>>> Stashed changes
   "metadata": {},
   "outputs": [],
   "source": [
    "# Store values for infrences\n",
    "# input_dict = pandas_to_dict(raw)\n",
    "# input_dict = {'tensor': x_test.tolist()}\n",
    "input_dict = {'tensor': [[121],[12]]}"
   ]
  },
  {
   "cell_type": "code",
<<<<<<< Updated upstream
   "execution_count": 38,
=======
   "execution_count": 33,
   "id": "d73fb94c",
>>>>>>> Stashed changes
   "metadata": {},
   "outputs": [
    {
     "data": {
      "text/plain": [
       "[InferenceResult({'check_failures': [],\n",
       "  'elapsed': 312901,\n",
       "  'model_name': 'postprocess',\n",
       "  'model_version': '9dac44bd-fb3f-45d7-9358-25a41393be0c',\n",
       "  'original_data': {'tensor': [[121], [12]]},\n",
       "  'outputs': [{'Json': {'data': [{'original': {'outputs': [{'Double': {'data': [1.8147553252418904,\n",
       "                                                                                0.19486342745507423],\n",
       "                                                                       'dim': [2,\n",
       "                                                                               1],\n",
       "                                                                       'v': 1}}]},\n",
       "                                  'prediction': [2.0, 0.0]}],\n",
       "                        'dim': [1],\n",
       "                        'v': 1}}],\n",
       "  'pipeline_name': 'occupancypipeline',\n",
       "  'shadow_data': {},\n",
       "  'time': 1664382961084})]"
      ]
     },
     "execution_count": 38,
     "metadata": {},
     "output_type": "execute_result"
    }
   ],
   "source": [
    "# The occupancy_pipeline.infer() creates a result based on data given\n",
<<<<<<< Updated upstream
    "occupancy_pipeline.infer(input_dict)"
=======
    "result = occupancy_pipeline.infer(input_dict)\n",
    "result"
   ]
  },
  {
   "cell_type": "code",
   "execution_count": 34,
   "id": "b38cba93",
   "metadata": {},
   "outputs": [],
   "source": [
    "# x = np.random.choice(data.shape[0], size = 10, replace = False)"
   ]
  },
  {
   "cell_type": "code",
   "execution_count": 35,
   "id": "b235ce46",
   "metadata": {},
   "outputs": [],
   "source": [
    "# output = occupancy_pipeline.infer(pandas_to_dict(data.iloc[x,6:7]))"
>>>>>>> Stashed changes
   ]
  },
  {
   "cell_type": "code",
<<<<<<< Updated upstream
   "execution_count": 39,
=======
   "execution_count": 36,
   "id": "c5198057",
>>>>>>> Stashed changes
   "metadata": {},
   "outputs": [
    {
     "name": "stdout",
     "output_type": "stream",
     "text": [
      "Waiting for undeployment - this will take up to 45s ..................................... ok\n"
     ]
    },
    {
     "data": {
      "text/html": [
       "<table><tr><th>name</th> <td>occupancypipeline</td></tr><tr><th>created</th> <td>2022-09-21 20:20:37.684974+00:00</td></tr><tr><th>last_updated</th> <td>2022-09-28 16:22:15.397274+00:00</td></tr><tr><th>deployed</th> <td>False</td></tr><tr><th>tags</th> <td></td></tr><tr><th>steps</th> <td>occupancymodel</td></tr></table>"
      ],
      "text/plain": [
       "{'name': 'occupancypipeline', 'create_time': datetime.datetime(2022, 9, 21, 20, 20, 37, 684974, tzinfo=tzutc()), 'definition': \"[{'ModelInference': {'models': [{'name': 'occupancymodel', 'version': '902b4d86-916a-49b3-bc25-7910ae214f8b', 'sha': '76fd574509661e0222c6d2db0cf87257d07390e17e92db0e98c6ed26d67d0d5b'}]}}]\"}"
      ]
     },
     "execution_count": 39,
     "metadata": {},
     "output_type": "execute_result"
    }
   ],
   "source": [
<<<<<<< Updated upstream
=======
    "result[0].data()[0].tolist()"
   ]
  },
  {
   "cell_type": "code",
   "execution_count": 37,
   "id": "c569df9d",
   "metadata": {},
   "outputs": [],
   "source": [
>>>>>>> Stashed changes
    "# The occupancy_pipeline.undeploy() deactivates the pipeline\n",
    "occupancy_pipeline.undeploy()"
   ]
  },
  {
   "cell_type": "code",
<<<<<<< Updated upstream
   "execution_count": 40,
=======
   "execution_count": 38,
   "id": "3f87e4e0",
>>>>>>> Stashed changes
   "metadata": {},
   "outputs": [
    {
     "name": "stdout",
     "output_type": "stream",
     "text": [
      "Warning: only displaying 15 log messages (of 100 requested) due to payload size limitations.\n"
     ]
    },
    {
     "data": {
      "text/plain": [
       "{'elapsed': 172102,\n",
       " 'model_name': 'occupancymodel',\n",
       " 'model_version': '45904398-7ce1-4cfe-b01f-91524c8ecba8',\n",
       " 'input': [[121],\n",
       "  [121],\n",
       "  [121],\n",
       "  [121],\n",
       "  [121],\n",
       "  [121],\n",
       "  [120],\n",
       "  [121],\n",
       "  [122],\n",
       "  [101]],\n",
       " 'output': [array([[1.81815241],\n",
       "         [1.81815241],\n",
       "         [1.81815241],\n",
       "         [1.81815241],\n",
       "         [1.81815241],\n",
       "         [1.81815241],\n",
       "         [1.80329799],\n",
       "         [1.81815241],\n",
       "         [1.83300683],\n",
       "         [1.52106398]])],\n",
       " 'validation_failures': [],\n",
       " 'timestamp': datetime.datetime(2022, 9, 21, 20, 25, 20, 715000),\n",
       " 'raw': {'model_name': 'occupancymodel',\n",
       "  'model_version': '45904398-7ce1-4cfe-b01f-91524c8ecba8',\n",
       "  'pipeline_name': 'occupancypipeline',\n",
       "  'outputs': [{'Double': {'v': 1,\n",
       "     'dim': [10, 1],\n",
       "     'data': [1.8181524064645578,\n",
       "      1.8181524064645578,\n",
       "      1.8181524064645578,\n",
       "      1.8181524064645578,\n",
       "      1.8181524064645578,\n",
       "      1.8181524064645578,\n",
       "      1.8032979852974789,\n",
       "      1.8181524064645578,\n",
       "      1.833006827631637,\n",
       "      1.5210639831229773]}}],\n",
       "  'elapsed': 172102,\n",
       "  'time': 1663791920715,\n",
       "  'original_data': {'tensor': [[121],\n",
       "    [121],\n",
       "    [121],\n",
       "    [121],\n",
       "    [121],\n",
       "    [121],\n",
       "    [120],\n",
       "    [121],\n",
       "    [122],\n",
       "    [101]]},\n",
       "  'check_failures': [],\n",
       "  'shadow_data': {}},\n",
       " 'shadow_data': {}}"
      ]
     },
     "execution_count": 40,
     "metadata": {},
     "output_type": "execute_result"
    }
   ],
   "source": [
    "logs = occupancy_pipeline.logs()\n",
    "type(logs)\n",
    "type(logs[0])\n",
    "vars(logs[0])"
   ]
  },
  {
   "cell_type": "code",
   "execution_count": null,
   "id": "075a0833",
   "metadata": {},
   "outputs": [],
   "source": []
  }
 ],
 "metadata": {
  "kernelspec": {
   "display_name": "Python 3 (ipykernel)",
   "language": "python",
   "name": "python3"
  },
  "language_info": {
   "codemirror_mode": {
    "name": "ipython",
    "version": 3
   },
   "file_extension": ".py",
   "mimetype": "text/x-python",
   "name": "python",
   "nbconvert_exporter": "python",
   "pygments_lexer": "ipython3",
   "version": "3.8.13"
  }
 },
 "nbformat": 4,
 "nbformat_minor": 5
}
