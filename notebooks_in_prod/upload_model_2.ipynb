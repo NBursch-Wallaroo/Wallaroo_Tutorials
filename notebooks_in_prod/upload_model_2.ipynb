{
 "cells": [
  {
   "cell_type": "markdown",
   "metadata": {},
   "source": [
    "# Stage 3: Deploy the model pipeline in Wallaroo\n",
    " \n",
    "Here we upload the trained model and the processing steps to Wallaroo, then set up and deploy the inference pipeline. \n",
    "We'll then feed the newest batch of data to the pipeline, do the inferences and write the results to a results table.\n",
    "\n",
    "We'd expect to run this notebook in conjuction with the Stage 2 notebook, `training_notebook_final_1b`; for clarity in this demo, we have split the training/upload task into two notebooks. Assuming no changes are made to the structure of the model, these two notebooks, or a script based on them, can then be scheduled to run on a regular basis, to refresh the model with more recent training data and update the inference pipeline."
   ]
  },
  {
   "cell_type": "markdown",
   "metadata": {},
   "source": [
    "## Open a Connection to Wallaroo\n"
   ]
  },
  {
   "cell_type": "code",
   "execution_count": 1,
   "metadata": {},
   "outputs": [],
   "source": [
    "import json\n",
    "import pickle\n",
    "import wallaroo\n",
    "import pandas as pd\n",
    "import numpy as np\n",
    "\n",
    "import simdb # module for the purpose of this demo to simulate pulling data from a database\n",
    "\n",
    "from wallaroo.ModelConversion import ConvertXGBoostArgs, ModelConversionSource, ModelConversionInputType\n",
    "from wallaroo.object import EntityNotFoundError\n",
    "\n",
    "from wallaroo_client import get_workspace"
   ]
  },
  {
   "cell_type": "code",
   "execution_count": 2,
   "metadata": {},
   "outputs": [
    {
     "name": "stdout",
     "output_type": "stream",
     "text": [
      "Please log into the following URL in a web browser:\n",
      "\n",
      "\thttps://sparkly-apple-3026.keycloak.wallaroo.community/auth/realms/master/device?user_code=HMRC-LUIO\n",
      "\n",
      "Login successful!\n"
     ]
    }
   ],
   "source": [
    "wl = wallaroo.Client()"
   ]
  },
  {
   "cell_type": "code",
   "execution_count": 4,
   "metadata": {},
   "outputs": [],
   "source": [
    "new_workspace = get_workspace(\"housepricing\", create_if_none=True)\n",
    "_ = wl.set_current_workspace(new_workspace)"
   ]
  },
  {
   "cell_type": "markdown",
   "metadata": {},
   "source": [
    "## Upload model to wallaroo (with autoconversion)"
   ]
  },
  {
   "cell_type": "code",
   "execution_count": 5,
   "metadata": {},
   "outputs": [],
   "source": [
    "import preprocess  # just to get the number of variables; I could be more clever about this.\n",
    "\n",
    "# the number of columns\n",
    "NF = len(preprocess._vars)\n",
    "\n",
    "model_name = \"houseprice-model\"\n",
    "\n",
    "model_conversion_args = ConvertXGBoostArgs(\n",
    "    name=model_name,\n",
    "    comment=\"house price prediction\",\n",
    "    number_of_columns=NF,\n",
    "    input_type=ModelConversionInputType.Float32\n",
    ")\n",
    "model_conversion_type = ModelConversionSource.XGBOOST"
   ]
  },
  {
   "cell_type": "code",
   "execution_count": 6,
   "metadata": {},
   "outputs": [],
   "source": [
    "# convert and upload to wallaroo\n",
    "modelfile = \"./housing_model_xgb.pkl\"\n",
    "hpmodel = wl.convert_model(modelfile, model_conversion_type, model_conversion_args)"
   ]
  },
  {
   "cell_type": "markdown",
   "metadata": {},
   "source": [
    "## Upload processing modules"
   ]
  },
  {
   "cell_type": "code",
   "execution_count": 7,
   "metadata": {},
   "outputs": [],
   "source": [
    "# load the preprocess module\n",
    "module_pre = wl.upload_model(\"preprocess\", \"./preprocess.py\").configure('python')"
   ]
  },
  {
   "cell_type": "code",
   "execution_count": 8,
   "metadata": {},
   "outputs": [],
   "source": [
    "# load the postprocess module\n",
    "module_post = wl.upload_model(\"postprocess\", \"./postprocess.py\").configure('python')"
   ]
  },
  {
   "cell_type": "markdown",
   "metadata": {},
   "source": [
    "## Create pipeline"
   ]
  },
  {
   "cell_type": "code",
   "execution_count": 9,
   "metadata": {},
   "outputs": [
    {
     "name": "stdout",
     "output_type": "stream",
     "text": [
      "Waiting for deployment - this will take up to 45s ................ ok\n"
     ]
    },
    {
     "data": {
      "text/html": [
       "<table><tr><th>name</th> <td>housing-pipe</td></tr><tr><th>created</th> <td>2022-09-27 18:00:24.186536+00:00</td></tr><tr><th>last_updated</th> <td>2022-09-27 18:00:24.396459+00:00</td></tr><tr><th>deployed</th> <td>True</td></tr><tr><th>tags</th> <td></td></tr><tr><th>steps</th> <td>preprocess</td></tr></table>"
      ],
      "text/plain": [
       "{'name': 'housing-pipe', 'create_time': datetime.datetime(2022, 9, 27, 18, 0, 24, 186536, tzinfo=tzutc()), 'definition': \"[{'ModelInference': {'models': [{'name': 'preprocess', 'version': 'fae5530a-644f-4cd9-8749-8a739a487e23', 'sha': '4f432271399d3b0f32152b16fe54197b07544e1bea9bdccaf9cb63c61b7241b8'}]}}, {'ModelInference': {'models': [{'name': 'houseprice-model', 'version': '69775565-020f-4bd1-b6f7-7bf7cb0c4902', 'sha': 'f20d6984f4d9c7b501fc6e2f1885792037bf24e2e64c0da090b72794bb1956ec'}]}}, {'ModelInference': {'models': [{'name': 'postprocess', 'version': 'ddde0d16-7a2d-48ba-94eb-22447d4c05fe', 'sha': 'fb6adc65bd0b637a685b81f63b0b8d4bde0ce0b68495ddc78ad8733f99e05728'}]}}]\"}"
      ]
     },
     "execution_count": 9,
     "metadata": {},
     "output_type": "execute_result"
    }
   ],
   "source": [
    "pipeline = (wl.build_pipeline('housing-pipe')\n",
    "              .add_model_step(module_pre)\n",
    "              .add_model_step(hpmodel)\n",
    "              .add_model_step(module_post)\n",
    "              .deploy()\n",
    "           )\n",
    "pipeline"
   ]
  },
  {
   "cell_type": "markdown",
   "metadata": {},
   "source": [
    "## Test pipeline\n",
    "\n",
    "We'll just grab a single query from the housing_price table and infer."
   ]
  },
  {
   "cell_type": "code",
   "execution_count": 10,
   "metadata": {},
   "outputs": [
    {
     "name": "stdout",
     "output_type": "stream",
     "text": [
      "select * from house_listings limit 1\n"
     ]
    },
    {
     "data": {
      "text/html": [
       "<div>\n",
       "<style scoped>\n",
       "    .dataframe tbody tr th:only-of-type {\n",
       "        vertical-align: middle;\n",
       "    }\n",
       "\n",
       "    .dataframe tbody tr th {\n",
       "        vertical-align: top;\n",
       "    }\n",
       "\n",
       "    .dataframe thead th {\n",
       "        text-align: right;\n",
       "    }\n",
       "</style>\n",
       "<table border=\"1\" class=\"dataframe\">\n",
       "  <thead>\n",
       "    <tr style=\"text-align: right;\">\n",
       "      <th></th>\n",
       "      <th>id</th>\n",
       "      <th>date</th>\n",
       "      <th>list_price</th>\n",
       "      <th>bedrooms</th>\n",
       "      <th>bathrooms</th>\n",
       "      <th>sqft_living</th>\n",
       "      <th>sqft_lot</th>\n",
       "      <th>floors</th>\n",
       "      <th>waterfront</th>\n",
       "      <th>view</th>\n",
       "      <th>...</th>\n",
       "      <th>sqft_above</th>\n",
       "      <th>sqft_basement</th>\n",
       "      <th>yr_built</th>\n",
       "      <th>yr_renovated</th>\n",
       "      <th>zipcode</th>\n",
       "      <th>lat</th>\n",
       "      <th>long</th>\n",
       "      <th>sqft_living15</th>\n",
       "      <th>sqft_lot15</th>\n",
       "      <th>sale_price</th>\n",
       "    </tr>\n",
       "  </thead>\n",
       "  <tbody>\n",
       "    <tr>\n",
       "      <th>0</th>\n",
       "      <td>7129300520</td>\n",
       "      <td>2022-02-13</td>\n",
       "      <td>221900.0</td>\n",
       "      <td>3</td>\n",
       "      <td>1.0</td>\n",
       "      <td>1180</td>\n",
       "      <td>5650</td>\n",
       "      <td>1.0</td>\n",
       "      <td>0</td>\n",
       "      <td>0</td>\n",
       "      <td>...</td>\n",
       "      <td>1180</td>\n",
       "      <td>0</td>\n",
       "      <td>1955</td>\n",
       "      <td>0</td>\n",
       "      <td>98178</td>\n",
       "      <td>47.5112</td>\n",
       "      <td>-122.257</td>\n",
       "      <td>1340</td>\n",
       "      <td>5650</td>\n",
       "      <td>221900.0</td>\n",
       "    </tr>\n",
       "  </tbody>\n",
       "</table>\n",
       "<p>1 rows × 22 columns</p>\n",
       "</div>"
      ],
      "text/plain": [
       "           id        date  list_price  bedrooms  bathrooms  sqft_living  \\\n",
       "0  7129300520  2022-02-13    221900.0         3        1.0         1180   \n",
       "\n",
       "   sqft_lot  floors  waterfront  view  ...  sqft_above  sqft_basement  \\\n",
       "0      5650     1.0           0     0  ...        1180              0   \n",
       "\n",
       "   yr_built  yr_renovated  zipcode      lat     long  sqft_living15  \\\n",
       "0      1955             0    98178  47.5112 -122.257           1340   \n",
       "\n",
       "   sqft_lot15  sale_price  \n",
       "0        5650    221900.0  \n",
       "\n",
       "[1 rows x 22 columns]"
      ]
     },
     "execution_count": 10,
     "metadata": {},
     "output_type": "execute_result"
    }
   ],
   "source": [
    "conn = simdb.simulate_db_connection()\n",
    "\n",
    "# create the query\n",
    "query = f\"select * from {simdb.tablename} limit 1\"\n",
    "print(query)\n",
    "\n",
    "# read in the data\n",
    "singleton = pd.read_sql_query(query, conn)\n",
    "conn.close()\n",
    "\n",
    "singleton"
   ]
  },
  {
   "cell_type": "code",
   "execution_count": 11,
   "metadata": {},
   "outputs": [
    {
     "data": {
      "text/plain": [
       "[InferenceResult({'check_failures': [],\n",
       "  'elapsed': 516786,\n",
       "  'model_name': 'postprocess',\n",
       "  'model_version': 'ddde0d16-7a2d-48ba-94eb-22447d4c05fe',\n",
       "  'original_data': {'query': '{\"id\":{\"0\":7129300520},\"date\":{\"0\":\"2022-02-13\"},\"list_price\":{\"0\":221900.0},\"bedrooms\":{\"0\":3},\"bathrooms\":{\"0\":1.0},\"sqft_living\":{\"0\":1180},\"sqft_lot\":{\"0\":5650},\"floors\":{\"0\":1.0},\"waterfront\":{\"0\":0},\"view\":{\"0\":0},\"condition\":{\"0\":3},\"grade\":{\"0\":7},\"sqft_above\":{\"0\":1180},\"sqft_basement\":{\"0\":0},\"yr_built\":{\"0\":1955},\"yr_renovated\":{\"0\":0},\"zipcode\":{\"0\":98178},\"lat\":{\"0\":47.5112},\"long\":{\"0\":-122.257},\"sqft_living15\":{\"0\":1340},\"sqft_lot15\":{\"0\":5650},\"sale_price\":{\"0\":221900.0}}'},\n",
       "  'outputs': [{'Json': {'data': [{'prediction': [224852.0]}],\n",
       "                        'dim': [1],\n",
       "                        'v': 1}}],\n",
       "  'pipeline_name': 'housing-pipe',\n",
       "  'shadow_data': {},\n",
       "  'time': 1664302139117})]"
      ]
     },
     "execution_count": 11,
     "metadata": {},
     "output_type": "execute_result"
    }
   ],
   "source": [
    "result = pipeline.infer({'query': singleton.to_json()})\n",
    "result"
   ]
  },
  {
   "cell_type": "code",
   "execution_count": 12,
   "metadata": {},
   "outputs": [
    {
     "data": {
      "text/plain": [
       "[array([224852.])]"
      ]
     },
     "execution_count": 12,
     "metadata": {},
     "output_type": "execute_result"
    }
   ],
   "source": [
    "# just the output\n",
    "result[0].data()"
   ]
  },
  {
   "cell_type": "code",
   "execution_count": 13,
   "metadata": {},
   "outputs": [
    {
     "name": "stdout",
     "output_type": "stream",
     "text": [
      "Waiting for undeployment - this will take up to 45s ..................................... ok\n"
     ]
    },
    {
     "data": {
      "text/html": [
       "<table><tr><th>name</th> <td>housing-pipe</td></tr><tr><th>created</th> <td>2022-09-27 18:00:24.186536+00:00</td></tr><tr><th>last_updated</th> <td>2022-09-27 18:00:24.396459+00:00</td></tr><tr><th>deployed</th> <td>False</td></tr><tr><th>tags</th> <td></td></tr><tr><th>steps</th> <td>preprocess</td></tr></table>"
      ],
      "text/plain": [
       "{'name': 'housing-pipe', 'create_time': datetime.datetime(2022, 9, 27, 18, 0, 24, 186536, tzinfo=tzutc()), 'definition': \"[{'ModelInference': {'models': [{'name': 'preprocess', 'version': 'fae5530a-644f-4cd9-8749-8a739a487e23', 'sha': '4f432271399d3b0f32152b16fe54197b07544e1bea9bdccaf9cb63c61b7241b8'}]}}, {'ModelInference': {'models': [{'name': 'houseprice-model', 'version': '69775565-020f-4bd1-b6f7-7bf7cb0c4902', 'sha': 'f20d6984f4d9c7b501fc6e2f1885792037bf24e2e64c0da090b72794bb1956ec'}]}}, {'ModelInference': {'models': [{'name': 'postprocess', 'version': 'ddde0d16-7a2d-48ba-94eb-22447d4c05fe', 'sha': 'fb6adc65bd0b637a685b81f63b0b8d4bde0ce0b68495ddc78ad8733f99e05728'}]}}]\"}"
      ]
     },
     "execution_count": 13,
     "metadata": {},
     "output_type": "execute_result"
    }
   ],
   "source": [
    "pipeline.undeploy()"
   ]
  },
  {
   "cell_type": "code",
   "execution_count": null,
   "metadata": {},
   "outputs": [],
   "source": []
  }
 ],
 "metadata": {
  "kernelspec": {
   "display_name": "Python 3 (ipykernel)",
   "language": "python",
   "name": "python3"
  },
  "language_info": {
   "codemirror_mode": {
    "name": "ipython",
    "version": 3
   },
   "file_extension": ".py",
   "mimetype": "text/x-python",
   "name": "python",
   "nbconvert_exporter": "python",
   "pygments_lexer": "ipython3",
   "version": "3.9.13"
  }
 },
 "nbformat": 4,
 "nbformat_minor": 4
}
