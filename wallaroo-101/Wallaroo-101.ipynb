{
 "cells": [
  {
   "cell_type": "markdown",
   "metadata": {},
   "source": [
    "## Introduction\n",
    "\n",
    "Welcome to the Wallaroo, the fastest, easiest, and most efficient production ready machine learning system.\n",
    "\n",
    "This tutorial is created to help you get started with Wallaroo right away.  We'll start with a brief explanation of how Wallaroo works, then provide the credit card fraud detection model so you can see it working.\n",
    "\n",
    "This guide assumes that you've installed Wallaroo in your cloud Kubernetes cluster.  This can be either:\n",
    "\n",
    "* Amazon Web Services (AWS)\n",
    "* Microsoft Azure\n",
    "* Google Cloud Platform\n",
    "\n",
    "For instructions on setting up your cloud Kubernetes environment, check out the [Wallaroo Environment Setup Guides](https://docs.wallaroo.ai/wallaroo-operations-guide/wallaroo-community-install-setup-environment/) for your particular cloud provider.\n",
    "\n",
    "### How to Use This Notebook\n",
    "\n",
    "It is recommended that you run this notebook command at a time so you can see the results and make any changes you need based on your own environment."
   ]
  },
  {
   "cell_type": "markdown",
   "metadata": {},
   "source": [
    "## SDK Introduction\n",
    "\n",
    "The Wallaroo SDK lets you quickly get your models working with your data and getting results.  The typical flow follows these steps:\n",
    "\n",
    "* **Connect**:  Connect to your Wallaroo Instance.\n",
    "* **Create or Connect to a Workspace**:  Create a new workspace that will contain your models and pipelines, or connect to an existing one.\n",
    "* **Upload or Use Existing Models**:  Upload your models to your workspace, or use ones that have already been uploaded.\n",
    "* **Create or Use Existing Pipelines**:  Create or use an existing pipeline.  This is where you'll set the **steps** that will ingest your data, submit it through each successive model, then return a result.\n",
    "* **Deploy Your Pipeline**:  Deploying a pipeline allocates resources from your Kubernetes environment for your models.\n",
    "* **Run an Inference**:  This is where it all comes together.  Submit data through your pipeline either as a file or to your pipeline's deployment url, and get results.\n",
    "* **Undeploy Your Pipeline**:  This returns the Kubernetes resources your pipeline used back to the Kubernetes environment.\n",
    "\n",
    "For a more detailed rundown of the Wallaroo SDK, see the [Wallaroo SDK Essentials Guide](https://docs.wallaroo.ai/wallaroo-sdk/wallaroo-sdk-essentials-guide/)."
   ]
  },
  {
   "cell_type": "markdown",
   "metadata": {},
   "source": [
    "### Introduction to Workspaces\n",
    "\n",
    "A Wallaroo **Workspace** allows you to manage a set of models and pipelines.  You can assign users to a workspace as either an **owner** or **collaborator**.\n",
    "\n",
    "When working within the Wallaroo SDK, the first thing you'll do after connecting is either create a workspace or set an existing workspace your **current workspace**.  From that point on, all models uploaded and pipelines created or used will be in the context of the current workspace."
   ]
  },
  {
   "cell_type": "markdown",
   "metadata": {},
   "source": [
    "### Introduction to Models\n",
    "\n",
    "A Wallaroo **model** is a trained Machine Learning model that is uploaded to your current workspace.  These are the engines that take in data, run it through whatever process they have been trained for, and return a result.\n",
    "\n",
    "Models don't work in a vacuum - they are allocated to a pipeline as detailed in the next step."
   ]
  },
  {
   "cell_type": "markdown",
   "metadata": {},
   "source": [
    "### Introduction to Pipelines\n",
    "\n",
    "A Wallaroo **pipeline** is where the real work occurs.  A pipeline contains a series of **steps** - sequential sets of models which take in the data from the preceding step, process it through the model, then return a result.  Some models can be simple, such as the `cc_fraud` example listed below where the pipeline has only one step:\n",
    "\n",
    "* Step 0: Take in data\n",
    "* Step 1: Submit data to the model `ccfraud-model`.\n",
    "* Step Final:  Return a result\n",
    "\n",
    "Some models can be more complex with a whole series of models - and those results can be submitted to still other pipeline.  You can make pipelines as simple or complex as long as it meets your needs.\n",
    "\n",
    "Once a step is created you can add additional steps, remove a step, or swap one out until everything is running perfectly.\n",
    "\n",
    "**Note**: The Community Edition of Wallaroo limits users to two active pipelines, with a maximum of five steps per pipeline."
   ]
  },
  {
   "cell_type": "markdown",
   "metadata": {},
   "source": [
    "With all of that introduction out of the way, let's proceed to our Credit Card Detection Model.\n",
    "\n",
    "This example will demonstrate how to use Wallaroo to detect credit card fraud through a trained model and sample data.  By the end of this example, you'll be able to:\n",
    "\n",
    "* Start the Wallaroo client.\n",
    "* Create a workspace.\n",
    "* Upload the credit card fraud detection model to the workspace.\n",
    "* Create a new pipeline and set it to our credit card fraud detection model.\n",
    "* Run a smoke test to verify the pipeline and model is working properly.\n",
    "* Perform a bulk inference and display the results.\n",
    "* Undeploy the pipeline to get back the resources from our Kubernetes cluster.\n",
    "\n",
    "This example and sample data comes from the Machine Learning Group's demonstration on [Credit Card Fraud detection](https://www.kaggle.com/datasets/mlg-ulb/creditcardfraud)."
   ]
  },
  {
   "cell_type": "markdown",
   "metadata": {},
   "source": [
    "## Open a Connection to Wallaroo\n",
    "\n",
    "The first step is to connect to Wallaroo through the Wallaroo client.  The Python library is included in the Wallaroo install and available through the Jupyter Hub interface provided with your Wallaroo environment.\n",
    "\n",
    "This is accomplished using the `wallaroo.Client()` command, which provides a URL to grant the SDK permission to your specific Wallaroo environment.  When displayed, enter the URL into a browser and confirm permissions.  Store the connection into a variable that can be referenced later."
   ]
  },
  {
   "cell_type": "code",
   "execution_count": 4,
   "metadata": {},
   "outputs": [],
   "source": [
    "import wallaroo"
   ]
  },
  {
   "cell_type": "code",
   "execution_count": 5,
   "metadata": {},
   "outputs": [],
   "source": [
    "wl = wallaroo.Client()"
   ]
  },
  {
   "cell_type": "markdown",
   "metadata": {},
   "source": [
    "## Create a New Workspace\n",
    "\n",
    "Next we're going to create a new workspace called `ccfraud_workspace` for our model, then set it as our current workspace context."
   ]
  },
  {
   "cell_type": "code",
   "execution_count": 6,
   "metadata": {},
   "outputs": [
    {
     "data": {
      "text/plain": [
       "{'name': 'ccfraud-workspace', 'id': 3, 'archived': False, 'created_by': '6a27ed4f-2fe6-41cc-b020-34d1b5f48881', 'created_at': '2022-04-07T17:22:34.5117+00:00', 'models': [], 'pipelines': []}"
      ]
     },
     "execution_count": 6,
     "metadata": {},
     "output_type": "execute_result"
    }
   ],
   "source": [
    "new_workspace = wl.create_workspace(\"ccfraud-workspace\")\n",
    "wl.set_current_workspace(new_workspace)"
   ]
  },
  {
   "cell_type": "markdown",
   "metadata": {},
   "source": [
    "Just to make sure, let's list our current workspace.  If everything is going right, it will show us we're in the `ccfraud-workspace`."
   ]
  },
  {
   "cell_type": "code",
   "execution_count": 7,
   "metadata": {},
   "outputs": [
    {
     "data": {
      "text/plain": [
       "{'name': 'ccfraud-workspace', 'id': 3, 'archived': False, 'created_by': '6a27ed4f-2fe6-41cc-b020-34d1b5f48881', 'created_at': '2022-04-07T17:22:34.5117+00:00', 'models': [], 'pipelines': []}"
      ]
     },
     "execution_count": 7,
     "metadata": {},
     "output_type": "execute_result"
    }
   ],
   "source": [
    "wl.get_current_workspace()"
   ]
  },
  {
   "cell_type": "markdown",
   "metadata": {},
   "source": [
    "## Upload a model\n",
    "\n",
    "Our workspace is created.  Let's upload our credit card fraud model to it.  This is the file name `ccfraud.onnx`, and we'll upload it as `ccfraud-model`.  The credit card fraud model is trained to detect credit card fraud based on a 0 to 1 model:  The closer to 0 the less likely the transactions indicate fraud, while the closer to 1 the more likely the transactions indicate fraud.\n",
    "\n",
    "\n",
    "Since we're already in our default workspace `ccfraud-workspace`, it'll be uploaded right to there.  Once that's done uploading, we'll list out all of the models currently deployed so we can see it included."
   ]
  },
  {
   "cell_type": "code",
   "execution_count": 8,
   "metadata": {},
   "outputs": [],
   "source": [
    "ccfraud_model = wl.upload_model(\"ccfraud-model\", \"./ccfraud.onnx\").configure()"
   ]
  },
  {
   "cell_type": "markdown",
   "metadata": {},
   "source": [
    "We can verify that our model was uploaded by listing the models uploaded to our Wallaroo instance with the `list_models()` command.  NOte that since we uploaded this model before, we now have different versions of it we can use for our testing."
   ]
  },
  {
   "cell_type": "code",
   "execution_count": 9,
   "metadata": {},
   "outputs": [
    {
     "data": {
      "text/plain": [
       "[{'name': 'ccfraud-model', 'version': 'a13d2b97-3acb-4eac-98a3-8ff49b112985', 'file_name': 'ccfraud.onnx', 'last_update_time': datetime.datetime(2022, 4, 7, 17, 22, 37, 968235, tzinfo=tzutc())},\n",
       " {'name': 'ccfraud-model', 'version': 'b43857f2-6061-4768-8497-c587e30c800e', 'file_name': 'ccfraud.onnx', 'last_update_time': datetime.datetime(2022, 4, 7, 16, 54, 21, 45796, tzinfo=tzutc())},\n",
       " {'name': 'ccfraud-model', 'version': 'e9a13af8-6990-4451-abc7-9b073335554d', 'file_name': 'ccfraud.onnx', 'last_update_time': datetime.datetime(2022, 4, 7, 16, 39, 54, 920794, tzinfo=tzutc())}]"
      ]
     },
     "execution_count": 9,
     "metadata": {},
     "output_type": "execute_result"
    }
   ],
   "source": [
    "wl.list_models()"
   ]
  },
  {
   "cell_type": "markdown",
   "metadata": {},
   "source": [
    "## Create a Pipeline\n",
    "\n",
    "With our model uploaded, time to create our pipeline and deploy it so it can accept data and process it through our `ccfraud-model`.  We'll call our pipeline `ccfraud-pipeline`."
   ]
  },
  {
   "cell_type": "code",
   "execution_count": 10,
   "metadata": {},
   "outputs": [],
   "source": [
    "ccfraud_pipeline = wl.build_pipeline('ccfraud-pipeline')"
   ]
  },
  {
   "cell_type": "markdown",
   "metadata": {},
   "source": [
    "Now our pipeline is created.  Let's add a single **step** to it - in this case, our `ccfraud-model` that we uploaded to our workspace."
   ]
  },
  {
   "cell_type": "code",
   "execution_count": 11,
   "metadata": {},
   "outputs": [
    {
     "data": {
      "text/plain": [
       "{'name': 'ccfraud-pipeline', 'create_time': datetime.datetime(2022, 4, 7, 17, 22, 41, 904305, tzinfo=tzutc()), 'definition': \"[{'ModelInference': {'models': [{'name': 'ccfraud-model', 'version': 'a13d2b97-3acb-4eac-98a3-8ff49b112985', 'sha': 'bc85ce596945f876256f41515c7501c399fd97ebcb9ab3dd41bf03f8937b4507'}]}}]\"}"
      ]
     },
     "execution_count": 11,
     "metadata": {},
     "output_type": "execute_result"
    }
   ],
   "source": [
    "ccfraud_pipeline.add_model_step(ccfraud_model)"
   ]
  },
  {
   "cell_type": "markdown",
   "metadata": {},
   "source": [
    "And now we can deploy our pipeline and assign resources to it.  This typically takes about 45 seconds once the command is issued."
   ]
  },
  {
   "cell_type": "code",
   "execution_count": 12,
   "metadata": {},
   "outputs": [
    {
     "name": "stdout",
     "output_type": "stream",
     "text": [
      "Waiting for deployment - this will take up to 45s ....... ok\n"
     ]
    },
    {
     "data": {
      "text/plain": [
       "{'name': 'ccfraud-pipeline', 'create_time': datetime.datetime(2022, 4, 7, 17, 22, 41, 904305, tzinfo=tzutc()), 'definition': \"[{'ModelInference': {'models': [{'name': 'ccfraud-model', 'version': 'a13d2b97-3acb-4eac-98a3-8ff49b112985', 'sha': 'bc85ce596945f876256f41515c7501c399fd97ebcb9ab3dd41bf03f8937b4507'}]}}]\"}"
      ]
     },
     "execution_count": 12,
     "metadata": {},
     "output_type": "execute_result"
    }
   ],
   "source": [
    "ccfraud_pipeline.deploy()"
   ]
  },
  {
   "cell_type": "markdown",
   "metadata": {},
   "source": [
    "We can see our new pipeline with the `status()` command."
   ]
  },
  {
   "cell_type": "code",
   "execution_count": 13,
   "metadata": {},
   "outputs": [
    {
     "data": {
      "text/plain": [
       "{'status': 'Running',\n",
       " 'details': None,\n",
       " 'engines': [{'ip': '10.12.1.227',\n",
       "   'name': 'engine-5dc4c84d59-x78bl',\n",
       "   'status': 'Running',\n",
       "   'reason': None,\n",
       "   'pipeline_statuses': {'pipelines': [{'id': 'ccfraud-pipeline',\n",
       "      'status': 'Running'}]},\n",
       "   'model_statuses': {'models': [{'name': 'ccfraud-model',\n",
       "      'version': 'a13d2b97-3acb-4eac-98a3-8ff49b112985',\n",
       "      'sha': 'bc85ce596945f876256f41515c7501c399fd97ebcb9ab3dd41bf03f8937b4507',\n",
       "      'status': 'Running'}]}}],\n",
       " 'engine_lbs': [{'ip': '10.12.1.226',\n",
       "   'name': 'engine-lb-85846c64f8-5gcd2',\n",
       "   'status': 'Running',\n",
       "   'reason': None}]}"
      ]
     },
     "execution_count": 13,
     "metadata": {},
     "output_type": "execute_result"
    }
   ],
   "source": [
    "ccfraud_pipeline.status()"
   ]
  },
  {
   "cell_type": "markdown",
   "metadata": {},
   "source": [
    "With our pipeline deployed, let's run a smoke test to make sure it's working right.  We'll run an inference through our pipeline from the file `smoke_test.json` and see the results.  This should give us a result near 0 - not likely a fraudulent activity."
   ]
  },
  {
   "cell_type": "code",
   "execution_count": 14,
   "metadata": {},
   "outputs": [
    {
     "name": "stdout",
     "output_type": "stream",
     "text": [
      "Waiting for inference response - this will take up to 45s . ok\n"
     ]
    },
    {
     "data": {
      "text/plain": [
       "[InferenceResult({'check_failures': [],\n",
       "  'elapsed': 187053,\n",
       "  'model_name': 'ccfraud-model',\n",
       "  'model_version': 'a13d2b97-3acb-4eac-98a3-8ff49b112985',\n",
       "  'original_data': {'tensor': [[1.0678324729342086,\n",
       "                                0.21778102664937624,\n",
       "                                -1.7115145261843976,\n",
       "                                0.6822857209662413,\n",
       "                                1.0138553066742804,\n",
       "                                -0.43350000129006655,\n",
       "                                0.7395859436561657,\n",
       "                                -0.28828395953577357,\n",
       "                                -0.44726268795990787,\n",
       "                                0.5146124987725894,\n",
       "                                0.3791316964287545,\n",
       "                                0.5190619748123175,\n",
       "                                -0.4904593221655364,\n",
       "                                1.1656456468728569,\n",
       "                                -0.9776307444180006,\n",
       "                                -0.6322198962519854,\n",
       "                                -0.6891477694494687,\n",
       "                                0.17833178574255615,\n",
       "                                0.1397992467197424,\n",
       "                                -0.35542206494183326,\n",
       "                                0.4394217876939808,\n",
       "                                1.4588397511627804,\n",
       "                                -0.3886829614721505,\n",
       "                                0.4353492889350186,\n",
       "                                1.7420053483337177,\n",
       "                                -0.4434654615252943,\n",
       "                                -0.15157478906219238,\n",
       "                                -0.26684517248765616,\n",
       "                                -1.454961775612449]]},\n",
       "  'outputs': [{'Float': {'data': [0.001497417688369751],\n",
       "                         'dim': [1, 1],\n",
       "                         'v': 1}}],\n",
       "  'pipeline_name': 'ccfraud-pipeline',\n",
       "  'time': 1649352178817})]"
      ]
     },
     "execution_count": 14,
     "metadata": {},
     "output_type": "execute_result"
    }
   ],
   "source": [
    "ccfraud_pipeline.infer_from_file('./smoke_test.json')"
   ]
  },
  {
   "cell_type": "markdown",
   "metadata": {},
   "source": [
    "Looks good!  Time to run the real test on some real data.  Run another inference this time from the file `high_fraud.json` and let's see the results.  This should give us an output that indicates a high level of fraud - well over 90%."
   ]
  },
  {
   "cell_type": "code",
   "execution_count": 15,
   "metadata": {},
   "outputs": [
    {
     "data": {
      "text/plain": [
       "[InferenceResult({'check_failures': [],\n",
       "  'elapsed': 124912,\n",
       "  'model_name': 'ccfraud-model',\n",
       "  'model_version': 'a13d2b97-3acb-4eac-98a3-8ff49b112985',\n",
       "  'original_data': {'tensor': [[1.0678324729342086,\n",
       "                                18.155556397512136,\n",
       "                                -1.658955105843852,\n",
       "                                5.2111788045436445,\n",
       "                                2.345247064454334,\n",
       "                                10.467083577773014,\n",
       "                                5.0925820522419745,\n",
       "                                12.82951536371218,\n",
       "                                4.953677046849403,\n",
       "                                2.3934736228338225,\n",
       "                                23.912131817957253,\n",
       "                                1.7599568310350209,\n",
       "                                0.8561037518143335,\n",
       "                                1.1656456468728569,\n",
       "                                0.5395988813934498,\n",
       "                                0.7784221343010385,\n",
       "                                6.75806107274245,\n",
       "                                3.927411847659908,\n",
       "                                12.462178276650056,\n",
       "                                12.307538216518656,\n",
       "                                13.787951906620115,\n",
       "                                1.4588397511627804,\n",
       "                                3.681834686805714,\n",
       "                                1.753914366037974,\n",
       "                                8.484355003656184,\n",
       "                                14.6454097666836,\n",
       "                                26.852377436250144,\n",
       "                                2.716529237720336,\n",
       "                                3.061195706890285]]},\n",
       "  'outputs': [{'Float': {'data': [0.9811990261077881], 'dim': [1, 1], 'v': 1}}],\n",
       "  'pipeline_name': 'ccfraud-pipeline',\n",
       "  'time': 1649352185078})]"
      ]
     },
     "execution_count": 15,
     "metadata": {},
     "output_type": "execute_result"
    }
   ],
   "source": [
    "ccfraud_pipeline.infer_from_file('./high_fraud.json')"
   ]
  },
  {
   "cell_type": "markdown",
   "metadata": {},
   "source": [
    "Now that we've tested our pipeline, let's run it with something larger.  We have two batch files - `cc_data_1k.json` that contains 1,000 credit card records to test for fraud.  The other is `cc_data_10k.json` which has 10,000 credit card records to test.\n",
    "\n",
    "First let's run a batch result for `cc_data_1k.json` and see the results.  We'll use a special object from the Wallaroo pipeline result to give us just the data."
   ]
  },
  {
   "cell_type": "code",
   "execution_count": 16,
   "metadata": {},
   "outputs": [
    {
     "data": {
      "text/plain": [
       "[array([[9.93003249e-01],\n",
       "        [9.93003249e-01],\n",
       "        [9.93003249e-01],\n",
       "        ...,\n",
       "        [1.10703707e-03],\n",
       "        [8.53300095e-04],\n",
       "        [1.24984980e-03]])]"
      ]
     },
     "execution_count": 16,
     "metadata": {},
     "output_type": "execute_result"
    }
   ],
   "source": [
    "output = ccfraud_pipeline.infer_from_file('./cc_data_1k.json')\n",
    "output[0].data()"
   ]
  },
  {
   "cell_type": "markdown",
   "metadata": {},
   "source": [
    "Let's isolate just the records that are fraud with an array filter."
   ]
  },
  {
   "cell_type": "code",
   "execution_count": 17,
   "metadata": {},
   "outputs": [
    {
     "name": "stdout",
     "output_type": "stream",
     "text": [
      "[array([0.99300325]), array([0.99300325]), array([0.99300325]), array([0.99300325]), array([1.]), array([0.98731017])]\n"
     ]
    }
   ],
   "source": [
    "sequence = output[0].data()[0]\n",
    "result = filter(lambda x: x > 0.75, sequence)\n",
    "print(list(result))"
   ]
  },
  {
   "cell_type": "markdown",
   "metadata": {},
   "source": [
    "This next step requires some manual use.  We're going to have `ccfraud_pipeline` display its deployment url - this allows us to submit data through a HTTP interface and get the results back.  First we'll request the url:"
   ]
  },
  {
   "cell_type": "code",
   "execution_count": 18,
   "metadata": {},
   "outputs": [
    {
     "data": {
      "text/plain": [
       "'http://engine-lb.ccfraud-pipeline-3:29502/pipelines/ccfraud-pipeline'"
      ]
     },
     "execution_count": 18,
     "metadata": {},
     "output_type": "execute_result"
    }
   ],
   "source": [
    "ccfraud_pipeline._deployment._url()"
   ]
  },
  {
   "cell_type": "markdown",
   "metadata": {},
   "source": [
    "Copy and paste the results above into the curl command, replacing the {YOUR URL HERE} with your deploy url for `ccfraud_pipeline`, and uncomment it."
   ]
  },
  {
   "cell_type": "code",
   "execution_count": 21,
   "metadata": {},
   "outputs": [
    {
     "name": "stdout",
     "output_type": "stream",
     "text": [
      "  % Total    % Received % Xferd  Average Speed   Time    Time     Time  Current\n",
      "                                 Dload  Upload   Total   Spent    Left  Speed\n",
      "100 12.3M  100 5965k  100 6672k  15.0M  16.7M --:--:-- --:--:-- --:--:-- 31.8M\n"
     ]
    }
   ],
   "source": [
    "#!curl -X POST {YOUR URL HERE} -H \"Content-Type:application/json\" --data @cc_data_10k.json > curl_response.txt"
   ]
  },
  {
   "cell_type": "markdown",
   "metadata": {},
   "source": [
    "With our work in the pipeline done, we'll undeploy it to get back our resources from the Kubernetes cluster.  If we keep the same settings we can redeploy the pipeline with the same configuration in the future."
   ]
  },
  {
   "cell_type": "code",
   "execution_count": 23,
   "metadata": {},
   "outputs": [
    {
     "data": {
      "text/plain": [
       "{'name': 'ccfraud-pipeline', 'create_time': datetime.datetime(2022, 4, 7, 17, 22, 41, 904305, tzinfo=tzutc()), 'definition': \"[{'ModelInference': {'models': [{'name': 'ccfraud-model', 'version': 'a13d2b97-3acb-4eac-98a3-8ff49b112985', 'sha': 'bc85ce596945f876256f41515c7501c399fd97ebcb9ab3dd41bf03f8937b4507'}]}}]\"}"
      ]
     },
     "execution_count": 23,
     "metadata": {},
     "output_type": "execute_result"
    }
   ],
   "source": [
    "ccfraud_pipeline.undeploy()"
   ]
  },
  {
   "cell_type": "markdown",
   "metadata": {},
   "source": [
    "And there we have it!  Feel free to use this as a template for other models, inferences and pipelines that you want to deploy with Wallaroo!"
   ]
  }
 ],
 "metadata": {
  "kernelspec": {
   "display_name": "Python 3",
   "language": "python",
   "name": "python3"
  },
  "language_info": {
   "codemirror_mode": {
    "name": "ipython",
    "version": 3
   },
   "file_extension": ".py",
   "mimetype": "text/x-python",
   "name": "python",
   "nbconvert_exporter": "python",
   "pygments_lexer": "ipython3",
   "version": "3.8.6"
  }
 },
 "nbformat": 4,
 "nbformat_minor": 4
}
