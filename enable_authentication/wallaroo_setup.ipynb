{
 "cells": [
  {
   "cell_type": "markdown",
   "metadata": {},
   "source": [
    "This will create the basic user needed to start up Wallaroo Dashboard.  The following must be enabled first:\n",
    "\n",
    "* From the Wallaroo Admin Console:\n",
    "  * Authentication and Identity Management\n",
    "    * Enable Authentication -> Enabled\n",
    "    * Dashboard redirect URI -> http://localhost:4567\n",
    "    * Dashboard Auth Service URL -> http://localhost:8080"
   ]
  },
  {
   "cell_type": "markdown",
   "metadata": {},
   "source": [
    "Create the user, replacing the username, password, and email as necessary."
   ]
  },
  {
   "cell_type": "code",
   "execution_count": null,
   "metadata": {},
   "outputs": [],
   "source": [
    "import e2elib\n",
    "\n",
    "x=e2elib.Keycloak(\"keycloak\", \"8080\", \"admin\",\"admin\")\n",
    "x.get_token()\n",
    "x.create_user(\"steve\", \"helloworld\", 'steve@ex.co')"
   ]
  },
  {
   "cell_type": "markdown",
   "metadata": {},
   "source": [
    "Set the file `creds.json` into the root directory with the following information, replacing the username, password, and email details from above.\n",
    "\n",
    "```json\n",
    "{\"username\": \"steve\", \"password\": \"helloworld\", \"email\": \"steve@ex.co\"}\n",
    "```"
   ]
  },
  {
   "cell_type": "markdown",
   "metadata": {},
   "source": [
    "Now you can login with the following:"
   ]
  },
  {
   "cell_type": "code",
   "execution_count": null,
   "metadata": {},
   "outputs": [],
   "source": [
    "import wallaroo\n",
    "import os\n",
    "\n",
    "os.environ[\"WALLAROO_SDK_CREDENTIALS\"] = 'creds.json'\n",
    "wl = wallaroo.Client(auth_type=\"user_password\")"
   ]
  }
 ],
 "metadata": {
  "kernelspec": {
   "display_name": "Python 3",
   "language": "python",
   "name": "python3"
  },
  "language_info": {
   "codemirror_mode": {
    "name": "ipython",
    "version": 3
   },
   "file_extension": ".py",
   "mimetype": "text/x-python",
   "name": "python",
   "nbconvert_exporter": "python",
   "pygments_lexer": "ipython3",
   "version": "3.8.6"
  }
 },
 "nbformat": 4,
 "nbformat_minor": 4
}
