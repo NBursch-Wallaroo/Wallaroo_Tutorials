{
 "cells": [
  {
   "cell_type": "markdown",
   "metadata": {},
   "source": [
    "# IMDB Sample\n",
    "\n",
    "The following example demonstrates how to use Wallaroo with chained models.  In this example, we will be using information from the IMDB (Internet Movie DataBase) with a sentiment model to detect whether a given review is positive or negative.  Imagine using this to automatically scan Tweets regarding your product and finding either customers who need help or have nice things to say about your product.\n",
    "\n",
    "Note that this example is considered a \"toy\" model - only the first 100 words in the review were tokenized, and the embedding is very small.\n",
    "\n",
    "The following example is based on the [Large Movie Review Dataset](https://ai.stanford.edu/~amaas/data/sentiment/), and sample data can be downloaded from the [aclIMDB dataset](http://s3.amazonaws.com/text-datasets/aclImdb.zip )."
   ]
  },
  {
   "cell_type": "markdown",
   "metadata": {},
   "source": [
    "## Open a Connection to Wallaroo\n",
    "\n",
    "The first step is to connect to Wallaroo through the Wallaroo client.  The Python library is included in the Wallaroo install and available through the Jupyter Hub interface provided with your Wallaroo environment.\n",
    "\n",
    "This is accomplished using the `wallaroo.Client()` command, which provides a URL to grant the SDK permission to your specific Wallaroo environment.  When displayed, enter the URL into a browser and confirm permissions.  Store the connection into a variable that can be referenced later."
   ]
  },
  {
   "cell_type": "code",
   "execution_count": 1,
   "metadata": {},
   "outputs": [],
   "source": [
    "import wallaroo"
   ]
  },
  {
   "cell_type": "code",
   "execution_count": null,
   "metadata": {},
   "outputs": [],
   "source": [
    "wl = wallaroo.Client()"
   ]
  },
  {
   "cell_type": "markdown",
   "metadata": {},
   "source": [
    "To test this model, we will perform the following:\n",
    "\n",
    "* Create a workspace for our models.\n",
    "* Upload two models:\n",
    "  * `embedder`: Takes pre-tokenized text documents (model input: 100 integers/datum; output 800 numbers/datum) and creates an embedding from them.\n",
    "  * `sentiment`:  The second model classifies the resulting embeddings from 0 to 1, which 0 being an unfavorable review, 1 being a favorable review.\n",
    "* Create a pipeline that will take incoming data and pass it to the embedder, which will pass the output to the sentiment model, and then export the final result.\n",
    "* To test it, we will use information that has already been tokenized and submit it to our pipeline and gauge the results."
   ]
  },
  {
   "cell_type": "markdown",
   "metadata": {},
   "source": [
    "First we'll create a workspace for our environment, and call it `imdb-workspace`:"
   ]
  },
  {
   "cell_type": "code",
   "execution_count": 3,
   "metadata": {},
   "outputs": [],
   "source": [
    "new_workspace = wl.create_workspace(\"imdb-workspace-test\")\n",
    "_ = wl.set_current_workspace(new_workspace)"
   ]
  },
  {
   "cell_type": "markdown",
   "metadata": {},
   "source": [
    "Just to make sure, let's list our current workspace.  If everything is going right, it will show us we're in the `imdb-workspace`."
   ]
  },
  {
   "cell_type": "code",
   "execution_count": 4,
   "metadata": {},
   "outputs": [
    {
     "data": {
      "text/plain": [
       "{'name': 'imdb-workspace-test', 'id': 11, 'archived': False, 'created_by': '5378aa8b-aa65-4b17-91ab-9251a77523c4', 'created_at': '2022-07-20T21:18:39.149877+00:00', 'models': [], 'pipelines': []}"
      ]
     },
     "execution_count": 4,
     "metadata": {},
     "output_type": "execute_result"
    }
   ],
   "source": [
    "wl.get_current_workspace()"
   ]
  },
  {
   "cell_type": "markdown",
   "metadata": {},
   "source": [
    "Now we'll upload our two models:\n",
    "\n",
    "* `embedder.onnx`: This will be used to embed the tokenized documents for evaluation.\n",
    "* `sentiment_model.onnx`: This will be used to analyze the review and determine if it is a positive or negative review.  The closer to 0, the more likely it is a negative review, while the closer to 1 the more likely it is to be a positive review."
   ]
  },
  {
   "cell_type": "code",
   "execution_count": 5,
   "metadata": {},
   "outputs": [],
   "source": [
    "embedder = wl.upload_model('embedder-o', './embedder.onnx').configure()\n",
    "smodel = wl.upload_model('smodel-o', './sentiment_model.onnx').configure(runtime=\"onnx\", tensor_fields=[\"flatten_1\"])"
   ]
  },
  {
   "cell_type": "markdown",
   "metadata": {},
   "source": [
    "With our models uploaded, now we'll create our pipeline that will contain two steps:\n",
    "\n",
    "* First, it runs the data through the embedder.\n",
    "* Second, it applies it to our sentiment model."
   ]
  },
  {
   "cell_type": "code",
   "execution_count": 6,
   "metadata": {},
   "outputs": [],
   "source": [
    "# now make a pipeline\n",
    "imdb_pipeline = (wl.build_pipeline(\"imdb-pipeline-sample\")\n",
    "                        .add_model_step(embedder)\n",
    "                        .add_model_step(smodel))"
   ]
  },
  {
   "cell_type": "markdown",
   "metadata": {},
   "source": [
    "Now that we have our pipeline set up with the steps, we can deploy the pipeline."
   ]
  },
  {
   "cell_type": "code",
   "execution_count": 7,
   "metadata": {},
   "outputs": [
    {
     "name": "stdout",
     "output_type": "stream",
     "text": [
      "Waiting for deployment - this will take up to 45s ..... ok\n"
     ]
    },
    {
     "data": {
      "text/html": [
       "<table><tr><th>name</th> <td>imdb-pipeline-sample</td></tr><tr><th>created</th> <td>2022-07-20 21:18:40.580032+00:00</td></tr><tr><th>last_updated</th> <td>2022-07-20 21:18:40.647792+00:00</td></tr><tr><th>deployed</th> <td>True</td></tr><tr><th>tags</th> <td></td></tr><tr><th>steps</th> <td>embedder-o</td></tr></table>"
      ],
      "text/plain": [
       "{'name': 'imdb-pipeline-sample', 'create_time': datetime.datetime(2022, 7, 20, 21, 18, 40, 580032, tzinfo=tzutc()), 'definition': \"[{'ModelInference': {'models': [{'name': 'embedder-o', 'version': '2b7bf983-a128-4116-8afe-665d640f29c7', 'sha': 'd083fd87fa84451904f71ab8b9adfa88580beb92ca77c046800f79780a20b7e4'}]}}, {'ModelInference': {'models': [{'name': 'smodel-o', 'version': '146bfce2-9771-44b7-a818-ee2f7da541d2', 'sha': '3473ea8700fbf1a1a8bfb112554a0dde8aab36758030dcde94a9357a83fd5650'}]}}]\"}"
      ]
     },
     "execution_count": 7,
     "metadata": {},
     "output_type": "execute_result"
    }
   ],
   "source": [
    "imdb_pipeline.deploy()"
   ]
  },
  {
   "cell_type": "markdown",
   "metadata": {},
   "source": [
    "We'll check the pipeline status to verify it's deployed and the models are ready."
   ]
  },
  {
   "cell_type": "code",
   "execution_count": 8,
   "metadata": {},
   "outputs": [
    {
     "data": {
      "text/plain": [
       "{'status': 'Running',\n",
       " 'details': None,\n",
       " 'engines': [{'ip': '10.48.0.105',\n",
       "   'name': 'engine-76d8c58549-hpfzr',\n",
       "   'status': 'Running',\n",
       "   'reason': None,\n",
       "   'pipeline_statuses': {'pipelines': [{'id': 'imdb-pipeline-sample',\n",
       "      'status': 'Running'}]},\n",
       "   'model_statuses': {'models': [{'name': 'smodel-o',\n",
       "      'version': '146bfce2-9771-44b7-a818-ee2f7da541d2',\n",
       "      'sha': '3473ea8700fbf1a1a8bfb112554a0dde8aab36758030dcde94a9357a83fd5650',\n",
       "      'status': 'Running'},\n",
       "     {'name': 'embedder-o',\n",
       "      'version': '2b7bf983-a128-4116-8afe-665d640f29c7',\n",
       "      'sha': 'd083fd87fa84451904f71ab8b9adfa88580beb92ca77c046800f79780a20b7e4',\n",
       "      'status': 'Running'}]}}],\n",
       " 'engine_lbs': [{'ip': '10.48.0.104',\n",
       "   'name': 'engine-lb-85846c64f8-bvzc7',\n",
       "   'status': 'Running',\n",
       "   'reason': None}]}"
      ]
     },
     "execution_count": 8,
     "metadata": {},
     "output_type": "execute_result"
    }
   ],
   "source": [
    "imdb_pipeline.status()"
   ]
  },
  {
   "cell_type": "markdown",
   "metadata": {},
   "source": [
    "To test this out, we'll start with a single piece of information from our data directory."
   ]
  },
  {
   "cell_type": "code",
   "execution_count": 10,
   "metadata": {},
   "outputs": [
    {
     "data": {
      "text/plain": [
       "[array([[0.37142318]])]"
      ]
     },
     "execution_count": 10,
     "metadata": {},
     "output_type": "execute_result"
    }
   ],
   "source": [
    "results = imdb_pipeline.infer_from_file('./data/singleton.json')\n",
    "\n",
    "results[0].data()"
   ]
  },
  {
   "cell_type": "markdown",
   "metadata": {},
   "source": [
    "Since that works, let's load up all 50 rows and do a full inference on each of them.  Note that Jupyter Hub has a size limitation, so for production systems the outputs should be piped out to a different output."
   ]
  },
  {
   "cell_type": "code",
   "execution_count": 11,
   "metadata": {},
   "outputs": [
    {
     "data": {
      "text/plain": [
       "[array([[3.71423185e-01],\n",
       "        [9.65576112e-01],\n",
       "        [7.60161877e-02],\n",
       "        [2.46452361e-01],\n",
       "        [8.63283277e-02],\n",
       "        [6.39613509e-01],\n",
       "        [2.47336328e-02],\n",
       "        [5.02990067e-01],\n",
       "        [9.34223831e-01],\n",
       "        [7.17751265e-01],\n",
       "        [2.04768777e-03],\n",
       "        [3.55861127e-01],\n",
       "        [2.48722464e-01],\n",
       "        [2.73299277e-01],\n",
       "        [9.60162282e-03],\n",
       "        [4.95020479e-01],\n",
       "        [8.30442309e-02],\n",
       "        [5.34835458e-02],\n",
       "        [2.74230242e-02],\n",
       "        [1.26478374e-02],\n",
       "        [2.39091218e-02],\n",
       "        [8.63728166e-01],\n",
       "        [1.57089770e-01],\n",
       "        [3.46490622e-01],\n",
       "        [3.56459022e-01],\n",
       "        [7.97988474e-02],\n",
       "        [6.78595304e-02],\n",
       "        [3.17764282e-03],\n",
       "        [4.39540178e-01],\n",
       "        [3.33117247e-02],\n",
       "        [1.46508217e-04],\n",
       "        [7.39861846e-01],\n",
       "        [1.51472032e-01],\n",
       "        [2.41219997e-04],\n",
       "        [2.69098580e-02],\n",
       "        [9.06612277e-01],\n",
       "        [8.55922699e-04],\n",
       "        [4.60651517e-03],\n",
       "        [4.51257825e-02],\n",
       "        [6.71328604e-02],\n",
       "        [3.86106908e-01],\n",
       "        [2.73625672e-01],\n",
       "        [3.87400389e-01],\n",
       "        [1.92073256e-01],\n",
       "        [1.40319228e-01],\n",
       "        [1.50666535e-02],\n",
       "        [1.26731277e-01],\n",
       "        [7.53879547e-03],\n",
       "        [9.44640994e-01],\n",
       "        [7.55301118e-03]])]"
      ]
     },
     "execution_count": 11,
     "metadata": {},
     "output_type": "execute_result"
    }
   ],
   "source": [
    "# for the victory lap, infer on all 50 rows\n",
    "results = imdb_pipeline.infer_from_file('./data/test_data.json')\n",
    "results[0].data()"
   ]
  },
  {
   "cell_type": "markdown",
   "metadata": {},
   "source": [
    "## Undeploy\n",
    "\n",
    "With our pipeline's work done, we'll undeploy it and give our Kubernetes environment back its resources."
   ]
  },
  {
   "cell_type": "code",
   "execution_count": 12,
   "metadata": {},
   "outputs": [
    {
     "name": "stdout",
     "output_type": "stream",
     "text": [
      "Waiting for undeployment - this will take up to 45s ............................... ok\n"
     ]
    },
    {
     "data": {
      "text/html": [
       "<table><tr><th>name</th> <td>imdb-pipeline-sample</td></tr><tr><th>created</th> <td>2022-07-20 21:18:40.580032+00:00</td></tr><tr><th>last_updated</th> <td>2022-07-20 21:18:40.647792+00:00</td></tr><tr><th>deployed</th> <td>False</td></tr><tr><th>tags</th> <td></td></tr><tr><th>steps</th> <td>embedder-o</td></tr></table>"
      ],
      "text/plain": [
       "{'name': 'imdb-pipeline-sample', 'create_time': datetime.datetime(2022, 7, 20, 21, 18, 40, 580032, tzinfo=tzutc()), 'definition': \"[{'ModelInference': {'models': [{'name': 'embedder-o', 'version': '2b7bf983-a128-4116-8afe-665d640f29c7', 'sha': 'd083fd87fa84451904f71ab8b9adfa88580beb92ca77c046800f79780a20b7e4'}]}}, {'ModelInference': {'models': [{'name': 'smodel-o', 'version': '146bfce2-9771-44b7-a818-ee2f7da541d2', 'sha': '3473ea8700fbf1a1a8bfb112554a0dde8aab36758030dcde94a9357a83fd5650'}]}}]\"}"
      ]
     },
     "execution_count": 12,
     "metadata": {},
     "output_type": "execute_result"
    }
   ],
   "source": [
    "imdb_pipeline.undeploy()"
   ]
  },
  {
   "cell_type": "markdown",
   "metadata": {},
   "source": [
    "And there is our example. Please feel free to contact us at Wallaroo for if you have any questions."
   ]
  }
 ],
 "metadata": {
  "kernelspec": {
   "display_name": "Python 3.9.13 64-bit",
   "language": "python",
   "name": "python3"
  },
  "language_info": {
   "codemirror_mode": {
    "name": "ipython",
    "version": 3
   },
   "file_extension": ".py",
   "mimetype": "text/x-python",
   "name": "python",
   "nbconvert_exporter": "python",
   "pygments_lexer": "ipython3",
   "version": "3.9.13"
  },
  "vscode": {
   "interpreter": {
    "hash": "b0fa6594d8f4cbf19f97940f81e996739fb7646882a419484c72d19e05852a7e"
   }
  }
 },
 "nbformat": 4,
 "nbformat_minor": 4
}
