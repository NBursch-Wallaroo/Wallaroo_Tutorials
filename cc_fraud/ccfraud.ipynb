{
 "cells": [
  {
   "cell_type": "markdown",
   "metadata": {},
   "source": [
    "Welcome to the Wallaroo `ccfraud` model example!  This example will demonstrate how to use Wallaroo to detect credit card fraud through a trained model and sample data.  By the end of this example, you'll be able to:\n",
    "\n",
    "* Start the Wallaroo client.\n",
    "* Create a workspace.\n",
    "* Upload our model to the workspace.\n",
    "* Create a new pipeline and set it to our credit card fraud model.\n",
    "* Run a smoke test to verify the pipeline and model is working properly.\n",
    "* Perform an inference and display the results"
   ]
  },
  {
   "cell_type": "markdown",
   "metadata": {},
   "source": [
    "The first thing we'll do is launch an instance of the Wallaroo Client and authenticate to Wallaroo."
   ]
  },
  {
   "cell_type": "code",
   "execution_count": 1,
   "metadata": {},
   "outputs": [],
   "source": [
    "import wallaroo\n",
    "import os\n"
   ]
  },
  {
   "cell_type": "code",
   "execution_count": 2,
   "metadata": {},
   "outputs": [],
   "source": [
    "os.environ[\"WALLAROO_SDK_CREDENTIALS\"] = 'creds.json'\n",
    "wl = wallaroo.Client(auth_type=\"user_password\")"
   ]
  },
  {
   "cell_type": "markdown",
   "metadata": {},
   "source": [
    "Next we're going to create a new workspace for our model, then set it as our current workspace context.  We'll list all of the current workspaces, create our new workspace, then display a list of workspaces again so you can see it's been added."
   ]
  },
  {
   "cell_type": "code",
   "execution_count": 3,
   "metadata": {},
   "outputs": [
    {
     "data": {
      "text/html": [
       "\n",
       "        <table>\n",
       "            <tr>\n",
       "                <th>Name</th>\n",
       "                <th>Created At</th>\n",
       "                <th>Users</th>\n",
       "                <th>Models</th>\n",
       "                <th>Pipelines</th>\n",
       "            </tr>\n",
       "            \n",
       "        <tr >\n",
       "            <td>New Project Workspace</td>\n",
       "            <td>2022-03-24 19:49:51</td>\n",
       "            <td>['steve@ex.co']</td>\n",
       "            <td>1</td>\n",
       "            <td>1</td>\n",
       "        </tr>\n",
       "        \n",
       "\n",
       "        <tr >\n",
       "            <td>ccfraud</td>\n",
       "            <td>2022-03-24 19:59:28</td>\n",
       "            <td>['steve@ex.co']</td>\n",
       "            <td>1</td>\n",
       "            <td>1</td>\n",
       "        </tr>\n",
       "        \n",
       "\n",
       "        <tr >\n",
       "            <td>ccfraud-workspace</td>\n",
       "            <td>2022-03-25 15:24:10</td>\n",
       "            <td>['steve@ex.co']</td>\n",
       "            <td>0</td>\n",
       "            <td>0</td>\n",
       "        </tr>\n",
       "        \n",
       "\n",
       "        <tr >\n",
       "            <td>ccfraud-workspace</td>\n",
       "            <td>2022-03-25 15:45:32</td>\n",
       "            <td>['steve@ex.co']</td>\n",
       "            <td>1</td>\n",
       "            <td>1</td>\n",
       "        </tr>\n",
       "        \n",
       "\n",
       "        <tr >\n",
       "            <td>ccfraud-workspace</td>\n",
       "            <td>2022-03-25 16:26:50</td>\n",
       "            <td>['steve@ex.co']</td>\n",
       "            <td>1</td>\n",
       "            <td>1</td>\n",
       "        </tr>\n",
       "        \n",
       "        </table>\n",
       "        "
      ],
      "text/plain": [
       "[{'name': 'New Project Workspace', 'id': 1, 'archived': False, 'created_by': '24eebcf0-9db0-461d-b3f4-bbf77d64f9fd', 'created_at': '2022-03-24T19:49:51.283696+00:00', 'models': [{'name': 'aloha-2', 'version': 'ce830e2f-888e-4a0b-aad7-3ab55eadde6d', 'file_name': 'aloha-cnn-lstm.zip', 'last_update_time': datetime.datetime(2022, 3, 24, 19, 51, 0, 928787, tzinfo=tzutc())}], 'pipelines': [{'name': 'aloha-test-demo', 'create_time': datetime.datetime(2022, 3, 24, 19, 51, 8, 850711, tzinfo=tzutc()), 'definition': '[]'}]},\n",
       " {'name': 'ccfraud', 'id': 2, 'archived': False, 'created_by': '24eebcf0-9db0-461d-b3f4-bbf77d64f9fd', 'created_at': '2022-03-24T19:59:28.755294+00:00', 'models': [{'name': 'kerasccfraud', 'version': '6158008c-a9bc-44f6-bcfb-3b38a77779c5', 'file_name': 'keras_ccfraud.onnx', 'last_update_time': datetime.datetime(2022, 3, 24, 20, 3, 13, 703624, tzinfo=tzutc())}], 'pipelines': [{'name': 'ccfrauddemo', 'create_time': datetime.datetime(2022, 3, 24, 20, 6, 2, 920236, tzinfo=tzutc()), 'definition': '[]'}]},\n",
       " {'name': 'ccfraud-workspace', 'id': 3, 'archived': False, 'created_by': '24eebcf0-9db0-461d-b3f4-bbf77d64f9fd', 'created_at': '2022-03-25T15:24:10.055108+00:00', 'models': [], 'pipelines': []},\n",
       " {'name': 'ccfraud-workspace', 'id': 4, 'archived': False, 'created_by': '24eebcf0-9db0-461d-b3f4-bbf77d64f9fd', 'created_at': '2022-03-25T15:45:32.913517+00:00', 'models': [{'name': 'ccfraud-model', 'version': '136c8f3a-dee1-4b90-be10-cbdff2d90713', 'file_name': 'ccfraud.onnx', 'last_update_time': datetime.datetime(2022, 3, 25, 15, 45, 43, 445335, tzinfo=tzutc())}], 'pipelines': [{'name': 'ccfraud-pipeline', 'create_time': datetime.datetime(2022, 3, 25, 15, 45, 54, 689909, tzinfo=tzutc()), 'definition': '[]'}]},\n",
       " {'name': 'ccfraud-workspace', 'id': 5, 'archived': False, 'created_by': '24eebcf0-9db0-461d-b3f4-bbf77d64f9fd', 'created_at': '2022-03-25T16:26:50.566486+00:00', 'models': [{'name': 'ccfraud-model', 'version': '31d8c19a-e01f-4f04-abc6-17a3543a95a7', 'file_name': 'ccfraud.onnx', 'last_update_time': datetime.datetime(2022, 3, 25, 16, 27, 27, 443729, tzinfo=tzutc())}], 'pipelines': [{'name': 'ccfraud-pipeline', 'create_time': datetime.datetime(2022, 3, 25, 16, 27, 46, 376718, tzinfo=tzutc()), 'definition': '[]'}]}]"
      ]
     },
     "execution_count": 3,
     "metadata": {},
     "output_type": "execute_result"
    }
   ],
   "source": [
    "wl.list_workspaces()\n"
   ]
  },
  {
   "cell_type": "code",
   "execution_count": 4,
   "metadata": {},
   "outputs": [],
   "source": [
    "new_workspace = wl.create_workspace(\"ccfraud-workspace\")\n",
    "_ = wl.set_current_workspace(new_workspace)"
   ]
  },
  {
   "cell_type": "markdown",
   "metadata": {},
   "source": [
    "Just to make sure, let's list our current workspace.  If everything is going right, it will show us we're in the `ccfraud-workspace`."
   ]
  },
  {
   "cell_type": "code",
   "execution_count": 5,
   "metadata": {},
   "outputs": [
    {
     "data": {
      "text/html": [
       "\n",
       "        <table>\n",
       "            <tr>\n",
       "                <th>Name</th>\n",
       "                <th>Created At</th>\n",
       "                <th>Users</th>\n",
       "                <th>Models</th>\n",
       "                <th>Pipelines</th>\n",
       "            </tr>\n",
       "            \n",
       "        <tr >\n",
       "            <td>New Project Workspace</td>\n",
       "            <td>2022-03-24 19:49:51</td>\n",
       "            <td>['steve@ex.co']</td>\n",
       "            <td>1</td>\n",
       "            <td>1</td>\n",
       "        </tr>\n",
       "        \n",
       "\n",
       "        <tr >\n",
       "            <td>ccfraud</td>\n",
       "            <td>2022-03-24 19:59:28</td>\n",
       "            <td>['steve@ex.co']</td>\n",
       "            <td>1</td>\n",
       "            <td>1</td>\n",
       "        </tr>\n",
       "        \n",
       "\n",
       "        <tr >\n",
       "            <td>ccfraud-workspace</td>\n",
       "            <td>2022-03-25 15:24:10</td>\n",
       "            <td>['steve@ex.co']</td>\n",
       "            <td>0</td>\n",
       "            <td>0</td>\n",
       "        </tr>\n",
       "        \n",
       "\n",
       "        <tr >\n",
       "            <td>ccfraud-workspace</td>\n",
       "            <td>2022-03-25 15:45:32</td>\n",
       "            <td>['steve@ex.co']</td>\n",
       "            <td>1</td>\n",
       "            <td>1</td>\n",
       "        </tr>\n",
       "        \n",
       "\n",
       "        <tr >\n",
       "            <td>ccfraud-workspace</td>\n",
       "            <td>2022-03-25 16:26:50</td>\n",
       "            <td>['steve@ex.co']</td>\n",
       "            <td>1</td>\n",
       "            <td>1</td>\n",
       "        </tr>\n",
       "        \n",
       "\n",
       "        <tr >\n",
       "            <td>ccfraud-workspace</td>\n",
       "            <td>2022-03-25 16:37:50</td>\n",
       "            <td>['steve@ex.co']</td>\n",
       "            <td>0</td>\n",
       "            <td>0</td>\n",
       "        </tr>\n",
       "        \n",
       "        </table>\n",
       "        "
      ],
      "text/plain": [
       "[{'name': 'New Project Workspace', 'id': 1, 'archived': False, 'created_by': '24eebcf0-9db0-461d-b3f4-bbf77d64f9fd', 'created_at': '2022-03-24T19:49:51.283696+00:00', 'models': [{'name': 'aloha-2', 'version': 'ce830e2f-888e-4a0b-aad7-3ab55eadde6d', 'file_name': 'aloha-cnn-lstm.zip', 'last_update_time': datetime.datetime(2022, 3, 24, 19, 51, 0, 928787, tzinfo=tzutc())}], 'pipelines': [{'name': 'aloha-test-demo', 'create_time': datetime.datetime(2022, 3, 24, 19, 51, 8, 850711, tzinfo=tzutc()), 'definition': '[]'}]},\n",
       " {'name': 'ccfraud', 'id': 2, 'archived': False, 'created_by': '24eebcf0-9db0-461d-b3f4-bbf77d64f9fd', 'created_at': '2022-03-24T19:59:28.755294+00:00', 'models': [{'name': 'kerasccfraud', 'version': '6158008c-a9bc-44f6-bcfb-3b38a77779c5', 'file_name': 'keras_ccfraud.onnx', 'last_update_time': datetime.datetime(2022, 3, 24, 20, 3, 13, 703624, tzinfo=tzutc())}], 'pipelines': [{'name': 'ccfrauddemo', 'create_time': datetime.datetime(2022, 3, 24, 20, 6, 2, 920236, tzinfo=tzutc()), 'definition': '[]'}]},\n",
       " {'name': 'ccfraud-workspace', 'id': 3, 'archived': False, 'created_by': '24eebcf0-9db0-461d-b3f4-bbf77d64f9fd', 'created_at': '2022-03-25T15:24:10.055108+00:00', 'models': [], 'pipelines': []},\n",
       " {'name': 'ccfraud-workspace', 'id': 4, 'archived': False, 'created_by': '24eebcf0-9db0-461d-b3f4-bbf77d64f9fd', 'created_at': '2022-03-25T15:45:32.913517+00:00', 'models': [{'name': 'ccfraud-model', 'version': '136c8f3a-dee1-4b90-be10-cbdff2d90713', 'file_name': 'ccfraud.onnx', 'last_update_time': datetime.datetime(2022, 3, 25, 15, 45, 43, 445335, tzinfo=tzutc())}], 'pipelines': [{'name': 'ccfraud-pipeline', 'create_time': datetime.datetime(2022, 3, 25, 15, 45, 54, 689909, tzinfo=tzutc()), 'definition': '[]'}]},\n",
       " {'name': 'ccfraud-workspace', 'id': 5, 'archived': False, 'created_by': '24eebcf0-9db0-461d-b3f4-bbf77d64f9fd', 'created_at': '2022-03-25T16:26:50.566486+00:00', 'models': [{'name': 'ccfraud-model', 'version': '31d8c19a-e01f-4f04-abc6-17a3543a95a7', 'file_name': 'ccfraud.onnx', 'last_update_time': datetime.datetime(2022, 3, 25, 16, 27, 27, 443729, tzinfo=tzutc())}], 'pipelines': [{'name': 'ccfraud-pipeline', 'create_time': datetime.datetime(2022, 3, 25, 16, 27, 46, 376718, tzinfo=tzutc()), 'definition': '[]'}]},\n",
       " {'name': 'ccfraud-workspace', 'id': 6, 'archived': False, 'created_by': '24eebcf0-9db0-461d-b3f4-bbf77d64f9fd', 'created_at': '2022-03-25T16:37:50.608138+00:00', 'models': [], 'pipelines': []}]"
      ]
     },
     "execution_count": 5,
     "metadata": {},
     "output_type": "execute_result"
    }
   ],
   "source": [
    "wl.list_workspaces()"
   ]
  },
  {
   "cell_type": "markdown",
   "metadata": {},
   "source": [
    "Our workspace is created.  Let's upload our credit card fraud model to it.  This is the file name `ccfraud.onnx`, and we'll upload it as `ccfraud-model`.  Since we're already in our default workspace `ccfraud-workspace`, it'll be uploaded right to there.  Once that's done uploading, we'll list out all of the models currently deployed so we can see it included."
   ]
  },
  {
   "cell_type": "code",
   "execution_count": 6,
   "metadata": {},
   "outputs": [],
   "source": [
    "# Now we should be able to upload this model.\n",
    "model = wl.upload_model(\"ccfraud-model\", \"./ccfraud.onnx\").configure()"
   ]
  },
  {
   "cell_type": "code",
   "execution_count": 7,
   "metadata": {},
   "outputs": [
    {
     "name": "stdout",
     "output_type": "stream",
     "text": [
      "model name: ccfraud-model\n",
      "2022-03-25 16:37:51.331417+00:00\n",
      "----------------------\n",
      "model name: ccfraud-model\n",
      "2022-03-25 16:27:27.443729+00:00\n",
      "----------------------\n",
      "model name: ccfraud-model\n",
      "2022-03-25 15:45:43.445335+00:00\n",
      "----------------------\n",
      "model name: kerasccfraud\n",
      "2022-03-24 20:03:13.703624+00:00\n",
      "----------------------\n",
      "model name: aloha-2\n",
      "2022-03-24 19:51:00.928787+00:00\n",
      "----------------------\n"
     ]
    }
   ],
   "source": [
    "# Display the models\n",
    "for m in wl.list_models():\n",
    "    print(\"model name: \" + m.name())\n",
    "    print(str(m.last_update_time()))\n",
    "    print(\"----------------------\")"
   ]
  },
  {
   "cell_type": "markdown",
   "metadata": {},
   "source": [
    "With our model uploaded, time to create our pipeline to deploy the model so it can accept data and act on it.  We'll call our pipeline `ccfraud-pipeline`.  This takes about 45 seconds, and when finished it will display `ok` at the end."
   ]
  },
  {
   "cell_type": "code",
   "execution_count": 8,
   "metadata": {},
   "outputs": [
    {
     "name": "stdout",
     "output_type": "stream",
     "text": [
      "Waiting for deployment - this will take up to 45s ....... ok\n"
     ]
    }
   ],
   "source": [
    "# Create the pipeline and deploy it\n",
    "p = wl.build_pipeline('ccfraud-pipeline')\n",
    "p = p.add_model_step(model)\n",
    "pipeline = p.deploy()"
   ]
  },
  {
   "cell_type": "markdown",
   "metadata": {},
   "source": [
    "we can see our new pipeline with the `pipelines_by_name` command.  Note that if you already have a pipeline named `ccfraud-pipeline` you'll have to update the array number."
   ]
  },
  {
   "cell_type": "code",
   "execution_count": 9,
   "metadata": {},
   "outputs": [
    {
     "data": {
      "text/plain": [
       "{'status': 'Running',\n",
       " 'details': None,\n",
       " 'engines': [{'ip': '10.12.1.179',\n",
       "   'name': 'engine-6c45c5cb6b-chq8c',\n",
       "   'status': 'Running',\n",
       "   'reason': None,\n",
       "   'pipeline_statuses': {'pipelines': [{'id': 'ccfraud-pipeline',\n",
       "      'status': 'Running'}]},\n",
       "   'model_statuses': {'models': [{'name': 'ccfraud-model',\n",
       "      'version': '31d8c19a-e01f-4f04-abc6-17a3543a95a7',\n",
       "      'sha': 'bc85ce596945f876256f41515c7501c399fd97ebcb9ab3dd41bf03f8937b4507',\n",
       "      'status': 'Running'}]}}],\n",
       " 'engine_lbs': [{'ip': '10.12.1.180',\n",
       "   'name': 'engine-lb-85846c64f8-7clrb',\n",
       "   'status': 'Running',\n",
       "   'reason': None}]}"
      ]
     },
     "execution_count": 9,
     "metadata": {},
     "output_type": "execute_result"
    }
   ],
   "source": [
    "wl.pipelines_by_name('ccfraud-pipeline')[1].status()"
   ]
  },
  {
   "cell_type": "markdown",
   "metadata": {},
   "source": [
    "With our pipeline deployed, let's run a smoke test to make sure it's working right.  We'll run an inference through our pipeline from the file `smoke_test.json` and see the results."
   ]
  },
  {
   "cell_type": "code",
   "execution_count": 10,
   "metadata": {},
   "outputs": [
    {
     "name": "stdout",
     "output_type": "stream",
     "text": [
      "Waiting for inference response - this will take up to 45s ... ok\n"
     ]
    },
    {
     "data": {
      "text/plain": [
       "[InferenceResult({'check_failures': [],\n",
       "  'elapsed': 185745,\n",
       "  'model_name': 'ccfraud-model',\n",
       "  'model_version': 'f4024eed-d75c-402e-9d4a-f48b48ec0070',\n",
       "  'original_data': {'tensor': [[1.0678324729342086,\n",
       "                                0.21778102664937624,\n",
       "                                -1.7115145261843976,\n",
       "                                0.6822857209662413,\n",
       "                                1.0138553066742804,\n",
       "                                -0.43350000129006655,\n",
       "                                0.7395859436561657,\n",
       "                                -0.28828395953577357,\n",
       "                                -0.44726268795990787,\n",
       "                                0.5146124987725894,\n",
       "                                0.3791316964287545,\n",
       "                                0.5190619748123175,\n",
       "                                -0.4904593221655364,\n",
       "                                1.1656456468728569,\n",
       "                                -0.9776307444180006,\n",
       "                                -0.6322198962519854,\n",
       "                                -0.6891477694494687,\n",
       "                                0.17833178574255615,\n",
       "                                0.1397992467197424,\n",
       "                                -0.35542206494183326,\n",
       "                                0.4394217876939808,\n",
       "                                1.4588397511627804,\n",
       "                                -0.3886829614721505,\n",
       "                                0.4353492889350186,\n",
       "                                1.7420053483337177,\n",
       "                                -0.4434654615252943,\n",
       "                                -0.15157478906219238,\n",
       "                                -0.26684517248765616,\n",
       "                                -1.454961775612449]]},\n",
       "  'outputs': [{'Float': {'data': [0.001497417688369751],\n",
       "                         'dim': [1, 1],\n",
       "                         'v': 1}}],\n",
       "  'pipeline_name': 'ccfraud-pipeline',\n",
       "  'time': 1648226285157})]"
      ]
     },
     "execution_count": 10,
     "metadata": {},
     "output_type": "execute_result"
    }
   ],
   "source": [
    "# Inference from file the way the demo does it\n",
    "pipeline.infer_from_file('./smoke_test.json')"
   ]
  },
  {
   "cell_type": "markdown",
   "metadata": {},
   "source": [
    "Looks good!  Time to run the real test on some real data.  Run another inference this time from the file `high_fraud.json` and let's ee the results:"
   ]
  },
  {
   "cell_type": "code",
   "execution_count": 11,
   "metadata": {},
   "outputs": [
    {
     "data": {
      "text/plain": [
       "[InferenceResult({'check_failures': [],\n",
       "  'elapsed': 161122,\n",
       "  'model_name': 'ccfraud-model',\n",
       "  'model_version': 'f4024eed-d75c-402e-9d4a-f48b48ec0070',\n",
       "  'original_data': {'tensor': [[1.0678324729342086,\n",
       "                                18.155556397512136,\n",
       "                                -1.658955105843852,\n",
       "                                5.2111788045436445,\n",
       "                                2.345247064454334,\n",
       "                                10.467083577773014,\n",
       "                                5.0925820522419745,\n",
       "                                12.82951536371218,\n",
       "                                4.953677046849403,\n",
       "                                2.3934736228338225,\n",
       "                                23.912131817957253,\n",
       "                                1.7599568310350209,\n",
       "                                0.8561037518143335,\n",
       "                                1.1656456468728569,\n",
       "                                0.5395988813934498,\n",
       "                                0.7784221343010385,\n",
       "                                6.75806107274245,\n",
       "                                3.927411847659908,\n",
       "                                12.462178276650056,\n",
       "                                12.307538216518656,\n",
       "                                13.787951906620115,\n",
       "                                1.4588397511627804,\n",
       "                                3.681834686805714,\n",
       "                                1.753914366037974,\n",
       "                                8.484355003656184,\n",
       "                                14.6454097666836,\n",
       "                                26.852377436250144,\n",
       "                                2.716529237720336,\n",
       "                                3.061195706890285]]},\n",
       "  'outputs': [{'Float': {'data': [0.9811990261077881], 'dim': [1, 1], 'v': 1}}],\n",
       "  'pipeline_name': 'ccfraud-pipeline',\n",
       "  'time': 1648226285178})]"
      ]
     },
     "execution_count": 11,
     "metadata": {},
     "output_type": "execute_result"
    }
   ],
   "source": [
    "pipeline.infer_from_file('./high_fraud.json')"
   ]
  },
  {
   "cell_type": "markdown",
   "metadata": {},
   "source": [
    "And there we have it!  Feel free to use this as a template for other models, inferences and pipelines that you want to deploy with Wallaroo!"
   ]
  }
 ],
 "metadata": {
  "kernelspec": {
   "display_name": "Python 3",
   "language": "python",
   "name": "python3"
  },
  "language_info": {
   "codemirror_mode": {
    "name": "ipython",
    "version": 3
   },
   "file_extension": ".py",
   "mimetype": "text/x-python",
   "name": "python",
   "nbconvert_exporter": "python",
   "pygments_lexer": "ipython3",
   "version": "3.8.6"
  }
 },
 "nbformat": 4,
 "nbformat_minor": 4
}
