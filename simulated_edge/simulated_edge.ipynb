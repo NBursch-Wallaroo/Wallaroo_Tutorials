{
 "cells": [
  {
   "cell_type": "markdown",
   "metadata": {},
   "source": [
    "# Simulated Edge Demo\n",
    "\n",
    "This notebook will explore \"Edge ML\", meaning deploying a model intended to be run on \"the edge\". What is \"the edge\"?\n",
    "The meaning varies depending upon whom you ask, but very broadly it means \"not in a large data center\" and typically in a\n",
    "somewhat resource (CPU, memory, and/or bandwidth) constrained environment or where a combination of latency requirements\n",
    "and bandwidth available requires the models to run locally. \n",
    "\n",
    "Wallaroo provides two key capabilities when it comes to deploying models to edge devices:\n",
    "1. Since the same engine is used in both environments, the model behavior can often be simulated accurately using Wallaroo\n",
    "in a data center for testing prior to deployment. This notebook demonstrates how.\n",
    "2. Wallaroo makes edge deployments \"observable\" so the same tools used to monitor model performance can be used in both\n",
    "kinds of deployments. \n",
    "\n",
    "This notebook closely parallels the Aloha tutorial. That is intentional: we want testing an edge deployment to be nearly\n",
    "the same as anything else. The primary difference is instead of provide ample resources to a pipeline to allow high-throughput\n",
    "operation we will specify a resource budget matching what is expected in the final deployment. Then we can apply the expected load\n",
    "to the model and observe how it behaves given the available resources.\n",
    "\n",
    "We will be using an open source model that uses an [Aloha CNN LSTM model](https://www.researchgate.net/publication/348920204_Using_Auxiliary_Inputs_in_Deep_Learning_Models_for_Detecting_DGA-based_Domain_Names) for classifiying Domain names as being either legitimate or being used for nefarious purposes such as malware distribution. This could be deployed on a network\n",
    "router to detect suspicious domains in real-time. Of course, it is important to monitor the behavior of the model across\n",
    "all of the deployments so we can see if the detect rate starts to drift over time.\n",
    "\n",
    "For our example, we will perform the following:\n",
    "\n",
    "* Create a workspace for our work.\n",
    "* Upload the Aloha model.\n",
    "* Define a resource budget for our inference pipeline.\n",
    "* Create a pipeline that can ingest our submitted data, submit it to the model, and export the results\n",
    "* Run a sample inference through our pipeline by loading a file\n",
    "* Run a batch inference through our pipeline's URL and store the results in a file and find that the original memory\n",
    "  allocation is too small.\n",
    "* Redeploy the pipeline with a larger memory budget and attempt sending the same batch of requests through again.\n",
    "\n",
    "All sample data and models are available through the [Wallaroo Quick Start Guide Samples repository](https://github.com/WallarooLabs/quickstartguide_samples)."
   ]
  },
  {
   "cell_type": "markdown",
   "metadata": {},
   "source": [
    "## Open a Connection to Wallaroo\n",
    "\n",
    "The first step is to connect to Wallaroo through the Wallaroo client.  The Python library is included in the Wallaroo install and available through the Jupyter Hub interface provided with your Wallaroo environment.\n",
    "\n",
    "This is accomplished using the `wallaroo.Client()` command, which provides a URL to grant the SDK permission to your specific Wallaroo environment.  When displayed, enter the URL into a browser and confirm permissions.  Store the connection into a variable that can be referenced later."
   ]
  },
  {
   "cell_type": "code",
   "execution_count": 1,
   "metadata": {},
   "outputs": [],
   "source": [
    "import wallaroo\n",
    "from wallaroo.object import EntityNotFoundError"
   ]
  },
  {
   "cell_type": "code",
   "execution_count": 2,
   "metadata": {},
   "outputs": [],
   "source": [
    "wl = wallaroo.Client()"
   ]
  },
  {
   "cell_type": "markdown",
   "metadata": {},
   "source": [
    "## Useful variables"
   ]
  },
  {
   "cell_type": "code",
   "execution_count": 3,
   "metadata": {},
   "outputs": [],
   "source": [
    "pipeline_name = 'edgepipeline'\n",
    "model_name = 'alohamodel'\n",
    "model_file_name = './aloha-cnn-lstm.zip'"
   ]
  },
  {
   "cell_type": "markdown",
   "metadata": {},
   "source": [
    "# Upload the Models\n",
    "\n",
    "Now we will upload our models.  Note that for this example we are applying the model from a .ZIP file.  The Aloha model is a [protobuf](https://developers.google.com/protocol-buffers) file that has been defined for evaluating web pages, and we will configure it to use data in the `tensorflow` format."
   ]
  },
  {
   "cell_type": "code",
   "execution_count": 4,
   "metadata": {},
   "outputs": [],
   "source": [
    "model = wl.upload_model(model_name, model_file_name).configure(\"tensorflow\")"
   ]
  },
  {
   "cell_type": "markdown",
   "metadata": {},
   "source": [
    "# Define the resource budget\n",
    "The DeploymentConfig object specifies the resources to allocate for a model pipeline. In this case, we're going to\n",
    "set a very small budget, one that is too small for this model and then expand it based on testing. To start with, we'll\n",
    "use 1 CPU and 150 MB of RAM."
   ]
  },
  {
   "cell_type": "code",
   "execution_count": 5,
   "metadata": {},
   "outputs": [],
   "source": [
    "deployment_config = wallaroo.DeploymentConfigBuilder().replica_count(1).cpus(1).memory(\"150Mi\").build()"
   ]
  },
  {
   "cell_type": "markdown",
   "metadata": {},
   "source": [
    "## Deploy a model\n",
    "Now that we have a model that we want to use we will create a deployment for it using the resource limits defined above. \n",
    "\n",
    "We will tell the deployment we are using a tensorflow model and give the deployment name and the configuration we want for the deployment.\n",
    "\n",
    "To do this, we'll create our pipeline that can ingest the data, pass the data to our Aloha model, and give us a final output.  We'll call our pipeline `edgepipeline`, then deploy it so it's ready to receive data.  The deployment process usually takes about 45 seconds.\n",
    "\n",
    "* **Note**:  If you receive an error that the pipeline could not be deployed because there are not enough resources, undeploy any other pipelines and deploy this one again.  This command can quickly undeploy all pipelines to regain resources.  We recommend **not** running this command in a production environment since it will cancel any running pipelines:\n",
    "\n",
    "```python\n",
    "for p in wl.list_pipelines(): p.undeploy()\n",
    "```"
   ]
  },
  {
   "cell_type": "code",
   "execution_count": 6,
   "metadata": {},
   "outputs": [
    {
     "name": "stdout",
     "output_type": "stream",
     "text": [
      "Waiting for deployment - this will take up to 45s .... ok\n"
     ]
    },
    {
     "data": {
      "text/html": [
       "<table><tr><th>name</th> <td>edgepipeline</td></tr><tr><th>created</th> <td>2022-09-26 18:53:00.315085+00:00</td></tr><tr><th>last_updated</th> <td>2022-09-26 19:47:35.067065+00:00</td></tr><tr><th>deployed</th> <td>True</td></tr><tr><th>tags</th> <td></td></tr><tr><th>steps</th> <td>alohamodel</td></tr></table>"
      ],
      "text/plain": [
       "{'name': 'edgepipeline', 'create_time': datetime.datetime(2022, 9, 26, 18, 53, 0, 315085, tzinfo=tzutc()), 'definition': \"[{'ModelInference': {'models': [{'name': 'alohamodel', 'version': 'dcb21d3e-8ff1-4ec4-9393-14561835b95a', 'sha': '7c89707252ce389980d5348c37885d6d72af4c20cd303422e2de7e66dd7ff184'}]}}]\"}"
      ]
     },
     "execution_count": 6,
     "metadata": {},
     "output_type": "execute_result"
    }
   ],
   "source": [
    "pipeline = wl.build_pipeline(pipeline_name)\n",
    "pipeline.add_model_step(model)\n",
    "pipeline.deploy(deployment_config=deployment_config)"
   ]
  },
  {
   "cell_type": "markdown",
   "metadata": {},
   "source": [
    "We can verify that the pipeline is running and list what models are associated with it."
   ]
  },
  {
   "cell_type": "code",
   "execution_count": 7,
   "metadata": {},
   "outputs": [
    {
     "data": {
      "text/plain": [
       "{'status': 'Running',\n",
       " 'details': [],\n",
       " 'engines': [{'ip': '192.168.42.60',\n",
       "   'name': 'engine-54fbf65c8b-nschc',\n",
       "   'status': 'Running',\n",
       "   'reason': None,\n",
       "   'details': [],\n",
       "   'pipeline_statuses': {'pipelines': [{'id': 'edgepipeline',\n",
       "      'status': 'Running'}]},\n",
       "   'model_statuses': {'models': [{'name': 'alohamodel',\n",
       "      'version': 'dcb21d3e-8ff1-4ec4-9393-14561835b95a',\n",
       "      'sha': '7c89707252ce389980d5348c37885d6d72af4c20cd303422e2de7e66dd7ff184',\n",
       "      'status': 'Running'}]}}],\n",
       " 'engine_lbs': [{'ip': '192.168.34.235',\n",
       "   'name': 'engine-lb-67c854cc86-fkvzm',\n",
       "   'status': 'Running',\n",
       "   'reason': None,\n",
       "   'details': []}],\n",
       " 'sidekicks': []}"
      ]
     },
     "execution_count": 7,
     "metadata": {},
     "output_type": "execute_result"
    }
   ],
   "source": [
    "pipeline.status()"
   ]
  },
  {
   "cell_type": "markdown",
   "metadata": {},
   "source": [
    "## Interferences\n",
    "\n",
    "### Infer 1 row\n",
    "\n",
    "Now that the pipeline is deployed and our model is in place, we'll perform a smoke test to verify the pipeline is up and running properly.  We'll use the `infer_from_file` command to load a single encoded URL into the inference engine and print the results back out.\n",
    "\n",
    "The result should tell us that the tokenized URL is legitimate (0) or fraud (1).  This sample data should return close to 0."
   ]
  },
  {
   "cell_type": "code",
   "execution_count": 8,
   "metadata": {},
   "outputs": [
    {
     "data": {
      "text/plain": [
       "[InferenceResult({'check_failures': [],\n",
       "  'elapsed': 250026028,\n",
       "  'model_name': 'alohamodel',\n",
       "  'model_version': 'dcb21d3e-8ff1-4ec4-9393-14561835b95a',\n",
       "  'original_data': {'text_input': [[0,\n",
       "                                    0,\n",
       "                                    0,\n",
       "                                    0,\n",
       "                                    0,\n",
       "                                    0,\n",
       "                                    0,\n",
       "                                    0,\n",
       "                                    0,\n",
       "                                    0,\n",
       "                                    0,\n",
       "                                    0,\n",
       "                                    0,\n",
       "                                    0,\n",
       "                                    0,\n",
       "                                    0,\n",
       "                                    0,\n",
       "                                    0,\n",
       "                                    0,\n",
       "                                    0,\n",
       "                                    0,\n",
       "                                    0,\n",
       "                                    0,\n",
       "                                    0,\n",
       "                                    0,\n",
       "                                    0,\n",
       "                                    0,\n",
       "                                    0,\n",
       "                                    0,\n",
       "                                    0,\n",
       "                                    0,\n",
       "                                    0,\n",
       "                                    0,\n",
       "                                    0,\n",
       "                                    0,\n",
       "                                    0,\n",
       "                                    0,\n",
       "                                    0,\n",
       "                                    0,\n",
       "                                    0,\n",
       "                                    28,\n",
       "                                    16,\n",
       "                                    32,\n",
       "                                    23,\n",
       "                                    29,\n",
       "                                    32,\n",
       "                                    30,\n",
       "                                    19,\n",
       "                                    26,\n",
       "                                    17]]},\n",
       "  'outputs': [{'Float': {'data': [0.001519620418548584], 'dim': [1, 1], 'v': 1}},\n",
       "              {'Float': {'data': [0.9829146862030029], 'dim': [1, 1], 'v': 1}},\n",
       "              {'Float': {'data': [0.012099534273147583], 'dim': [1, 1], 'v': 1}},\n",
       "              {'Float': {'data': [4.7593421186320484e-05],\n",
       "                         'dim': [1, 1],\n",
       "                         'v': 1}},\n",
       "              {'Float': {'data': [2.028976086876355e-05],\n",
       "                         'dim': [1, 1],\n",
       "                         'v': 1}},\n",
       "              {'Float': {'data': [0.0003197789192199707],\n",
       "                         'dim': [1, 1],\n",
       "                         'v': 1}},\n",
       "              {'Float': {'data': [0.011029303073883057], 'dim': [1, 1], 'v': 1}},\n",
       "              {'Float': {'data': [0.9975639581680298], 'dim': [1, 1], 'v': 1}},\n",
       "              {'Float': {'data': [0.010341644287109375], 'dim': [1, 1], 'v': 1}},\n",
       "              {'Float': {'data': [0.008038878440856934], 'dim': [1, 1], 'v': 1}},\n",
       "              {'Float': {'data': [0.01615503430366516], 'dim': [1, 1], 'v': 1}},\n",
       "              {'Float': {'data': [0.006236225366592407], 'dim': [1, 1], 'v': 1}},\n",
       "              {'Float': {'data': [0.0009985864162445068],\n",
       "                         'dim': [1, 1],\n",
       "                         'v': 1}},\n",
       "              {'Float': {'data': [1.79333675513837e-26], 'dim': [1, 1], 'v': 1}},\n",
       "              {'Float': {'data': [1.388984431455466e-27],\n",
       "                         'dim': [1, 1],\n",
       "                         'v': 1}}],\n",
       "  'pipeline_name': 'edgepipeline',\n",
       "  'shadow_data': {},\n",
       "  'time': 1664221695180})]"
      ]
     },
     "execution_count": 8,
     "metadata": {},
     "output_type": "execute_result"
    }
   ],
   "source": [
    "pipeline.infer_from_file(\"data-1.json\")"
   ]
  },
  {
   "cell_type": "code",
   "execution_count": 9,
   "metadata": {},
   "outputs": [
    {
     "data": {
      "text/plain": [
       "'http://engine-lb.edgepipeline-6:29502/pipelines/edgepipeline'"
      ]
     },
     "execution_count": 9,
     "metadata": {},
     "output_type": "execute_result"
    }
   ],
   "source": [
    "pipeline._deployment._url()"
   ]
  },
  {
   "cell_type": "code",
   "execution_count": 10,
   "metadata": {},
   "outputs": [
    {
     "name": "stdout",
     "output_type": "stream",
     "text": [
      "  % Total    % Received % Xferd  Average Speed   Time    Time     Time  Current\n",
      "                                 Dload  Upload   Total   Spent    Left  Speed\n",
      "100  111k  100    95  100  111k    170   200k --:--:-- --:--:-- --:--:--  200k\n"
     ]
    }
   ],
   "source": [
    "!curl -X POST http://engine-lb.edgepipeline-6:29502/pipelines/edgepipeline -H \"Content-Type:application/json\" --data @data-1k.json > curl_response.txt"
   ]
  },
  {
   "cell_type": "markdown",
   "metadata": {},
   "source": [
    "# Redeploy with a little larger budget \n",
    "If you look in the file curl_response.txt, you will see that the inference failed:\n",
    "> upstream connect error or disconnect/reset before headers. reset reason: connection termination\n",
    "\n",
    "Even though a single inference passed, submitted a larger batch of work did not. If this is an expected usage case for\n",
    "this model, we need to add more memory. Let's do that now.\n",
    "\n",
    "The following DeploymentConfig is the same as the original, but increases the memory from 150MB to 300MB. This sort\n",
    "of budget would be available on some network routers."
   ]
  },
  {
   "cell_type": "code",
   "execution_count": 11,
   "metadata": {},
   "outputs": [
    {
     "name": "stdout",
     "output_type": "stream",
     "text": [
      "Waiting for undeployment - this will take up to 45s .................................... ok\n",
      "Waiting for deployment - this will take up to 45s ..... ok\n"
     ]
    },
    {
     "data": {
      "text/html": [
       "<table><tr><th>name</th> <td>edgepipeline</td></tr><tr><th>created</th> <td>2022-09-26 18:53:00.315085+00:00</td></tr><tr><th>last_updated</th> <td>2022-09-26 19:49:26.649597+00:00</td></tr><tr><th>deployed</th> <td>True</td></tr><tr><th>tags</th> <td></td></tr><tr><th>steps</th> <td>alohamodel</td></tr></table>"
      ],
      "text/plain": [
       "{'name': 'edgepipeline', 'create_time': datetime.datetime(2022, 9, 26, 18, 53, 0, 315085, tzinfo=tzutc()), 'definition': \"[{'ModelInference': {'models': [{'name': 'alohamodel', 'version': 'dcb21d3e-8ff1-4ec4-9393-14561835b95a', 'sha': '7c89707252ce389980d5348c37885d6d72af4c20cd303422e2de7e66dd7ff184'}]}}]\"}"
      ]
     },
     "execution_count": 11,
     "metadata": {},
     "output_type": "execute_result"
    }
   ],
   "source": [
    "pipeline.undeploy()\n",
    "deployment_config = wallaroo.DeploymentConfigBuilder().replica_count(1).cpus(1).memory(\"300Mi\").build()\n",
    "pipeline = wl.build_pipeline(pipeline_name)\n",
    "pipeline.add_model_step(model)\n",
    "pipeline.deploy(deployment_config=deployment_config)"
   ]
  },
  {
   "cell_type": "markdown",
   "metadata": {},
   "source": [
    "# Re-run inference\n",
    "Running the same curl command again should now produce a curl_response.txt file containing the expected results."
   ]
  },
  {
   "cell_type": "code",
   "execution_count": 12,
   "metadata": {},
   "outputs": [
    {
     "name": "stdout",
     "output_type": "stream",
     "text": [
      "  % Total    % Received % Xferd  Average Speed   Time    Time     Time  Current\n",
      "                                 Dload  Upload   Total   Spent    Left  Speed\n",
      "100  524k  100  413k  100  111k   487k   131k --:--:-- --:--:-- --:--:--  618k\n"
     ]
    }
   ],
   "source": [
    "!curl -X POST http://engine-lb.edgepipeline-6:29502/pipelines/edgepipeline -H \"Content-Type:application/json\" --data @data-1k.json > curl_response.txt"
   ]
  },
  {
   "cell_type": "markdown",
   "metadata": {},
   "source": [
    "It is important to note that increasing the memory was necessary to run a batch of 1,000 inferences at once. If this is not a design\n",
    "use case for your system, running with the smaller memory budget may be acceptable. Wallaroo allows you to easily test difference\n",
    "loading patterns to get a sense for what resources are required with sufficient buffer to allow for robust operation of your system\n",
    "while not over-provisioning scarce resources."
   ]
  },
  {
   "cell_type": "markdown",
   "metadata": {},
   "source": [
    "## Undeploy Pipeline\n",
    "\n",
    "When finished with our tests, we will undeploy the pipeline so we have the Kubernetes resources back for other tasks.  Note that if the deployment variable is unchanged aloha_pipeline.deploy() will restart the inference engine in the same configuration as before."
   ]
  },
  {
   "cell_type": "code",
   "execution_count": 13,
   "metadata": {},
   "outputs": [
    {
     "name": "stdout",
     "output_type": "stream",
     "text": [
      "Waiting for undeployment - this will take up to 45s .................................... ok\n"
     ]
    },
    {
     "data": {
      "text/html": [
       "<table><tr><th>name</th> <td>edgepipeline</td></tr><tr><th>created</th> <td>2022-09-26 18:53:00.315085+00:00</td></tr><tr><th>last_updated</th> <td>2022-09-26 19:49:26.649597+00:00</td></tr><tr><th>deployed</th> <td>False</td></tr><tr><th>tags</th> <td></td></tr><tr><th>steps</th> <td>alohamodel</td></tr></table>"
      ],
      "text/plain": [
       "{'name': 'edgepipeline', 'create_time': datetime.datetime(2022, 9, 26, 18, 53, 0, 315085, tzinfo=tzutc()), 'definition': \"[{'ModelInference': {'models': [{'name': 'alohamodel', 'version': 'dcb21d3e-8ff1-4ec4-9393-14561835b95a', 'sha': '7c89707252ce389980d5348c37885d6d72af4c20cd303422e2de7e66dd7ff184'}]}}]\"}"
      ]
     },
     "execution_count": 13,
     "metadata": {},
     "output_type": "execute_result"
    }
   ],
   "source": [
    "pipeline.undeploy()"
   ]
  },
  {
   "cell_type": "code",
   "execution_count": null,
   "metadata": {},
   "outputs": [],
   "source": []
  }
 ],
 "metadata": {
  "kernelspec": {
   "display_name": "Python 3",
   "language": "python",
   "name": "python3"
  },
  "language_info": {
   "codemirror_mode": {
    "name": "ipython",
    "version": 3
   },
   "file_extension": ".py",
   "mimetype": "text/x-python",
   "name": "python",
   "nbconvert_exporter": "python",
   "pygments_lexer": "ipython3",
   "version": "3.8.6"
  },
  "vscode": {
   "interpreter": {
    "hash": "31f2aee4e71d21fbe5cf8b01ff0e069b9275f58929596ceb00d14d90e3e16cd6"
   }
  }
 },
 "nbformat": 4,
 "nbformat_minor": 4
}
